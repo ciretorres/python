{
 "cells": [
  {
   "cell_type": "code",
   "execution_count": 1,
   "id": "744d5536",
   "metadata": {},
   "outputs": [],
   "source": [
    "from datascience import *\n",
    "import numpy as np\n",
    "\n",
    "%matplotlib inline\n",
    "import matplotlib.pyplot as plots\n",
    "plots.style.use('fivethirtyeight')"
   ]
  },
  {
   "cell_type": "markdown",
   "id": "144b74b6",
   "metadata": {},
   "source": [
    "### Linear regression review"
   ]
  },
  {
   "cell_type": "code",
   "execution_count": 3,
   "id": "b7e9b294",
   "metadata": {},
   "outputs": [],
   "source": [
    "x_mean = 70\n",
    "x_sd = 10\n",
    "y_mean = 50\n",
    "y_sd = 12\n",
    "r = 0.75"
   ]
  },
  {
   "cell_type": "code",
   "execution_count": 6,
   "id": "43b80c47",
   "metadata": {},
   "outputs": [
    {
     "data": {
      "text/plain": [
       "68.0"
      ]
     },
     "execution_count": 6,
     "metadata": {},
     "output_type": "execute_result"
    }
   ],
   "source": [
    "midterm_score = 90\n",
    "x = midterm_score\n",
    "(((x - x_mean) / x_sd) * r * y_sd) + y_mean"
   ]
  },
  {
   "cell_type": "code",
   "execution_count": 7,
   "id": "444e1dbe",
   "metadata": {},
   "outputs": [
    {
     "data": {
      "text/plain": [
       "41.0"
      ]
     },
     "execution_count": 7,
     "metadata": {},
     "output_type": "execute_result"
    }
   ],
   "source": [
    "midterm_score = 60\n",
    "x = midterm_score\n",
    "(((x - x_mean) / x_sd) * r * y_sd) + y_mean"
   ]
  },
  {
   "cell_type": "code",
   "execution_count": null,
   "id": "9b3a6874",
   "metadata": {},
   "outputs": [],
   "source": []
  }
 ],
 "metadata": {
  "kernelspec": {
   "display_name": "Python 3 (ipykernel)",
   "language": "python",
   "name": "python3"
  },
  "language_info": {
   "codemirror_mode": {
    "name": "ipython",
    "version": 3
   },
   "file_extension": ".py",
   "mimetype": "text/x-python",
   "name": "python",
   "nbconvert_exporter": "python",
   "pygments_lexer": "ipython3",
   "version": "3.7.6"
  }
 },
 "nbformat": 4,
 "nbformat_minor": 5
}
