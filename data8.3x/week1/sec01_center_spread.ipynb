{
 "cells": [
  {
   "cell_type": "code",
   "execution_count": 1,
   "id": "c1e2f02f",
   "metadata": {},
   "outputs": [],
   "source": [
    "from datascience import *\n",
    "import numpy as np\n",
    "\n",
    "%matplotlib inline\n",
    "import matplotlib.pyplot as plots\n",
    "plots.style.use('fivethirtyeight')"
   ]
  },
  {
   "cell_type": "markdown",
   "id": "b28c1913",
   "metadata": {},
   "source": [
    "\n",
    "## Average (Mean)"
   ]
  },
  {
   "cell_type": "code",
   "execution_count": 4,
   "id": "0c691960",
   "metadata": {},
   "outputs": [],
   "source": [
    "values = make_array(2, 3, 3, 9)"
   ]
  },
  {
   "cell_type": "code",
   "execution_count": 5,
   "id": "54104c31",
   "metadata": {},
   "outputs": [
    {
     "data": {
      "text/plain": [
       "(4.25, 4.25, 4.25)"
      ]
     },
     "execution_count": 5,
     "metadata": {},
     "output_type": "execute_result"
    }
   ],
   "source": [
    "sum(values) / len(values), np.average(values), np.mean(values)"
   ]
  },
  {
   "cell_type": "code",
   "execution_count": 6,
   "id": "fb5ca8f4",
   "metadata": {},
   "outputs": [
    {
     "data": {
      "text/plain": [
       "4.25"
      ]
     },
     "execution_count": 6,
     "metadata": {},
     "output_type": "execute_result"
    }
   ],
   "source": [
    "(2 + 3 + 3 + 9) / 4"
   ]
  },
  {
   "cell_type": "code",
   "execution_count": 7,
   "id": "703a0f26",
   "metadata": {},
   "outputs": [
    {
     "data": {
      "text/plain": [
       "4.25"
      ]
     },
     "execution_count": 7,
     "metadata": {},
     "output_type": "execute_result"
    }
   ],
   "source": [
    "2 * (1/4) + 3 * (2/4) + 9 * (1/4)"
   ]
  },
  {
   "cell_type": "code",
   "execution_count": 8,
   "id": "fcd8e4bf",
   "metadata": {},
   "outputs": [
    {
     "data": {
      "text/plain": [
       "4.25"
      ]
     },
     "execution_count": 8,
     "metadata": {},
     "output_type": "execute_result"
    }
   ],
   "source": [
    "2 * 0.25 + 3 * 0.5 + 9 * 0.25"
   ]
  },
  {
   "cell_type": "code",
   "execution_count": null,
   "id": "f00cfdd0",
   "metadata": {},
   "outputs": [],
   "source": []
  },
  {
   "cell_type": "code",
   "execution_count": null,
   "id": "b9bea996",
   "metadata": {},
   "outputs": [],
   "source": []
  },
  {
   "cell_type": "code",
   "execution_count": null,
   "id": "85586377",
   "metadata": {},
   "outputs": [],
   "source": []
  },
  {
   "cell_type": "code",
   "execution_count": 9,
   "id": "04c3c841",
   "metadata": {},
   "outputs": [
    {
     "data": {
      "text/html": [
       "<table border=\"1\" class=\"dataframe\">\n",
       "    <thead>\n",
       "        <tr>\n",
       "            <th>Value</th>\n",
       "        </tr>\n",
       "    </thead>\n",
       "    <tbody>\n",
       "        <tr>\n",
       "            <td>2    </td>\n",
       "        </tr>\n",
       "        <tr>\n",
       "            <td>3    </td>\n",
       "        </tr>\n",
       "        <tr>\n",
       "            <td>3    </td>\n",
       "        </tr>\n",
       "        <tr>\n",
       "            <td>9    </td>\n",
       "        </tr>\n",
       "    </tbody>\n",
       "</table>"
      ],
      "text/plain": [
       "Value\n",
       "2\n",
       "3\n",
       "3\n",
       "9"
      ]
     },
     "execution_count": 9,
     "metadata": {},
     "output_type": "execute_result"
    }
   ],
   "source": [
    "values_table = Table().with_columns('Value', values)\n",
    "values_table"
   ]
  },
  {
   "cell_type": "code",
   "execution_count": 10,
   "id": "13019d4b",
   "metadata": {},
   "outputs": [],
   "source": [
    "bins_for_display = np.arange(0.5, 10.6, 1)"
   ]
  },
  {
   "cell_type": "code",
   "execution_count": 12,
   "id": "0cd72fb9",
   "metadata": {},
   "outputs": [
    {
     "data": {
      "image/png": "[encoded data removed]",
      "text/plain": [
       "<Figure size 432x288 with 1 Axes>"
      ]
     },
     "metadata": {},
     "output_type": "display_data"
    }
   ],
   "source": [
    "values_table.hist(bins = bins_for_display, ec = 'w')"
   ]
  },
  {
   "cell_type": "code",
   "execution_count": 14,
   "id": "e464b59e",
   "metadata": {},
   "outputs": [
    {
     "data": {
      "text/plain": [
       "array([2., 2., 2., 2., 2., 2., 2., 2., 2., 2.])"
      ]
     },
     "execution_count": 14,
     "metadata": {},
     "output_type": "execute_result"
    }
   ],
   "source": [
    "2 * np.ones(10)"
   ]
  },
  {
   "cell_type": "code",
   "execution_count": null,
   "id": "5913a0ef",
   "metadata": {},
   "outputs": [],
   "source": []
  },
  {
   "cell_type": "code",
   "execution_count": null,
   "id": "2fdb5ce5",
   "metadata": {},
   "outputs": [],
   "source": []
  },
  {
   "cell_type": "code",
   "execution_count": 15,
   "id": "75fb532b",
   "metadata": {},
   "outputs": [],
   "source": [
    "twos = 2 * np.ones(10)\n",
    "threes = 3 * np.ones(20)\n",
    "nines = 9 * np.ones(10)"
   ]
  },
  {
   "cell_type": "code",
   "execution_count": 16,
   "id": "7d28d029",
   "metadata": {},
   "outputs": [],
   "source": [
    "new_values = np.append(np.append(twos, threes), nines)"
   ]
  },
  {
   "cell_type": "code",
   "execution_count": 17,
   "id": "d90ccaa9",
   "metadata": {},
   "outputs": [
    {
     "data": {
      "text/plain": [
       "40"
      ]
     },
     "execution_count": 17,
     "metadata": {},
     "output_type": "execute_result"
    }
   ],
   "source": [
    "len(new_values)"
   ]
  },
  {
   "cell_type": "code",
   "execution_count": null,
   "id": "0005e376",
   "metadata": {},
   "outputs": [],
   "source": []
  },
  {
   "cell_type": "code",
   "execution_count": 18,
   "id": "a3cec216",
   "metadata": {},
   "outputs": [
    {
     "data": {
      "image/png": "[encoded data removed]",
      "text/plain": [
       "<Figure size 432x288 with 1 Axes>"
      ]
     },
     "metadata": {},
     "output_type": "display_data"
    }
   ],
   "source": [
    "new_values_table = Table().with_column('Value', new_values)\n",
    "new_values_table.hist(bins = bins_for_display)"
   ]
  },
  {
   "cell_type": "code",
   "execution_count": 19,
   "id": "ca108875",
   "metadata": {},
   "outputs": [
    {
     "data": {
      "text/plain": [
       "(4.25, 4.25)"
      ]
     },
     "execution_count": 19,
     "metadata": {},
     "output_type": "execute_result"
    }
   ],
   "source": [
    "np.average(new_values), np.average(values)"
   ]
  },
  {
   "cell_type": "markdown",
   "id": "d776f64e",
   "metadata": {},
   "source": [
    "## The Average and the Median"
   ]
  },
  {
   "cell_type": "code",
   "execution_count": 4,
   "id": "947e4509",
   "metadata": {},
   "outputs": [
    {
     "data": {
      "text/html": [
       "<table border=\"1\" class=\"dataframe\">\n",
       "    <thead>\n",
       "        <tr>\n",
       "            <th>Name</th> <th>Position</th> <th>Height</th> <th>Weight</th> <th>Age in 2013</th>\n",
       "        </tr>\n",
       "    </thead>\n",
       "    <tbody>\n",
       "        <tr>\n",
       "            <td>DeQuan Jones   </td> <td>Guard   </td> <td>80    </td> <td>221   </td> <td>23         </td>\n",
       "        </tr>\n",
       "        <tr>\n",
       "            <td>Darius Miller  </td> <td>Guard   </td> <td>80    </td> <td>235   </td> <td>23         </td>\n",
       "        </tr>\n",
       "        <tr>\n",
       "            <td>Trevor Ariza   </td> <td>Guard   </td> <td>80    </td> <td>210   </td> <td>28         </td>\n",
       "        </tr>\n",
       "        <tr>\n",
       "            <td>James Jones    </td> <td>Guard   </td> <td>80    </td> <td>215   </td> <td>32         </td>\n",
       "        </tr>\n",
       "        <tr>\n",
       "            <td>Wesley Johnson </td> <td>Guard   </td> <td>79    </td> <td>215   </td> <td>26         </td>\n",
       "        </tr>\n",
       "        <tr>\n",
       "            <td>Klay Thompson  </td> <td>Guard   </td> <td>79    </td> <td>205   </td> <td>23         </td>\n",
       "        </tr>\n",
       "        <tr>\n",
       "            <td>Thabo Sefolosha</td> <td>Guard   </td> <td>79    </td> <td>215   </td> <td>29         </td>\n",
       "        </tr>\n",
       "        <tr>\n",
       "            <td>Chase Budinger </td> <td>Guard   </td> <td>79    </td> <td>218   </td> <td>25         </td>\n",
       "        </tr>\n",
       "        <tr>\n",
       "            <td>Kevin Martin   </td> <td>Guard   </td> <td>79    </td> <td>185   </td> <td>30         </td>\n",
       "        </tr>\n",
       "        <tr>\n",
       "            <td>Evan Fournier  </td> <td>Guard   </td> <td>79    </td> <td>206   </td> <td>20         </td>\n",
       "        </tr>\n",
       "    </tbody>\n",
       "</table>\n",
       "<p>... (495 rows omitted)</p>"
      ],
      "text/plain": [
       "Name            | Position | Height | Weight | Age in 2013\n",
       "DeQuan Jones    | Guard    | 80     | 221    | 23\n",
       "Darius Miller   | Guard    | 80     | 235    | 23\n",
       "Trevor Ariza    | Guard    | 80     | 210    | 28\n",
       "James Jones     | Guard    | 80     | 215    | 32\n",
       "Wesley Johnson  | Guard    | 79     | 215    | 26\n",
       "Klay Thompson   | Guard    | 79     | 205    | 23\n",
       "Thabo Sefolosha | Guard    | 79     | 215    | 29\n",
       "Chase Budinger  | Guard    | 79     | 218    | 25\n",
       "Kevin Martin    | Guard    | 79     | 185    | 30\n",
       "Evan Fournier   | Guard    | 79     | 206    | 20\n",
       "... (495 rows omitted)"
      ]
     },
     "execution_count": 4,
     "metadata": {},
     "output_type": "execute_result"
    }
   ],
   "source": [
    "#nba = Table.read_table('nba2013.csv')\n",
    "nba = Table.read_table('https://raw.githubusercontent.com/data-8/textbook/main/assets/data/nba2013.csv')\n",
    "nba"
   ]
  },
  {
   "cell_type": "code",
   "execution_count": 7,
   "id": "11ddc48e",
   "metadata": {},
   "outputs": [
    {
     "ename": "SyntaxError",
     "evalue": "invalid syntax (266886003.py, line 1)",
     "output_type": "error",
     "traceback": [
      "\u001b[0;36m  File \u001b[0;32m\"/var/folders/4c/1_849g1x0qb4tkf7sy5_2fz00000gn/T/ipykernel_1622/266886003.py\"\u001b[0;36m, line \u001b[0;32m1\u001b[0m\n\u001b[0;31m    nba.hist('Height', bins=np.arange(65.5, 90.5) ec='w')\u001b[0m\n\u001b[0m                                                   ^\u001b[0m\n\u001b[0;31mSyntaxError\u001b[0m\u001b[0;31m:\u001b[0m invalid syntax\n"
     ]
    }
   ],
   "source": [
    "nba.hist('Height', bins=np.arange(65.5, 90.5) ec='w')"
   ]
  },
  {
   "cell_type": "code",
   "execution_count": null,
   "id": "f97917f3",
   "metadata": {},
   "outputs": [],
   "source": []
  }
 ],
 "metadata": {
  "kernelspec": {
   "display_name": "Python 3 (ipykernel)",
   "language": "python",
   "name": "python3"
  },
  "language_info": {
   "codemirror_mode": {
    "name": "ipython",
    "version": 3
   },
   "file_extension": ".py",
   "mimetype": "text/x-python",
   "name": "python",
   "nbconvert_exporter": "python",
   "pygments_lexer": "ipython3",
   "version": "3.7.6"
  }
 },
 "nbformat": 4,
 "nbformat_minor": 5
}
