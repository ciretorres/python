{
 "cells": [
  {
   "cell_type": "code",
   "execution_count": 1,
   "id": "15c0baac",
   "metadata": {},
   "outputs": [],
   "source": [
    "from datascience import *\n",
    "import numpy as np\n",
    "\n",
    "import matplotlib.pyplot as plots\n",
    "from mpl_toolkits.mplot3d import Axes3D\n",
    "plots.style.use('fivethirtyeight')\n",
    "%matplotlib inline"
   ]
  },
  {
   "cell_type": "markdown",
   "id": "c3ec6396",
   "metadata": {},
   "source": [
    "# License plates\n",
    "\n",
    "We're going to look at some data colected by the Oakland Police Departament. The have automated license plate readers on their police cars, and they've built up a database of license plates that they've see -- and where and when they saw each one."
   ]
  },
  {
   "cell_type": "markdown",
   "id": "9a94e217",
   "metadata": {},
   "source": [
    "# Data collection\n",
    "\n",
    "First, we'll gather the data. It turns out the data is publicly available on the Oakland public records site. I downloaded it and combined it into a single CSV file by myself before lecture."
   ]
  },
  {
   "cell_type": "code",
   "execution_count": 9,
   "id": "c7abafc3",
   "metadata": {},
   "outputs": [],
   "source": [
    "lprs = Table.read_table('all-lprs.csv.gz', compression='gzip')"
   ]
  },
  {
   "cell_type": "code",
   "execution_count": 10,
   "id": "bf0b7b34",
   "metadata": {},
   "outputs": [
    {
     "data": {
      "text/html": [
       "<table border=\"1\" class=\"dataframe\">\n",
       "    <thead>\n",
       "        <tr>\n",
       "            <th>red_VRM</th> <th>red_Timestamp</th> <th>Location</th>\n",
       "        </tr>\n",
       "    </thead>\n",
       "    <tbody>\n",
       "        <tr>\n",
       "            <td>1275226</td> <td>01/19/2011 02:06:00 AM</td> <td>(37.798304999999999, -122.27574799999999)</td>\n",
       "        </tr>\n",
       "        <tr>\n",
       "            <td>27529C </td> <td>01/19/2011 02:06:00 AM</td> <td>(37.798304999999999, -122.27574799999999)</td>\n",
       "        </tr>\n",
       "        <tr>\n",
       "            <td>1158423</td> <td>01/19/2011 02:06:00 AM</td> <td>(37.798304999999999, -122.27574799999999)</td>\n",
       "        </tr>\n",
       "        <tr>\n",
       "            <td>1273718</td> <td>01/19/2011 02:06:00 AM</td> <td>(37.798304999999999, -122.27574799999999)</td>\n",
       "        </tr>\n",
       "        <tr>\n",
       "            <td>1077682</td> <td>01/19/2011 02:06:00 AM</td> <td>(37.798304999999999, -122.27574799999999)</td>\n",
       "        </tr>\n",
       "        <tr>\n",
       "            <td>1214195</td> <td>01/19/2011 02:06:00 AM</td> <td>(37.798281000000003, -122.27575299999999)</td>\n",
       "        </tr>\n",
       "        <tr>\n",
       "            <td>1062420</td> <td>01/19/2011 02:06:00 AM</td> <td>(37.79833, -122.27574300000001)          </td>\n",
       "        </tr>\n",
       "        <tr>\n",
       "            <td>1319726</td> <td>01/19/2011 02:05:00 AM</td> <td>(37.798475000000003, -122.27571500000001)</td>\n",
       "        </tr>\n",
       "        <tr>\n",
       "            <td>1214196</td> <td>01/19/2011 02:05:00 AM</td> <td>(37.798499999999997, -122.27571)         </td>\n",
       "        </tr>\n",
       "        <tr>\n",
       "            <td>75227  </td> <td>01/19/2011 02:05:00 AM</td> <td>(37.798596000000003, -122.27569)         </td>\n",
       "        </tr>\n",
       "    </tbody>\n",
       "</table>\n",
       "<p>... (2742091 rows omitted)</p>"
      ],
      "text/plain": [
       "red_VRM | red_Timestamp          | Location\n",
       "1275226 | 01/19/2011 02:06:00 AM | (37.798304999999999, -122.27574799999999)\n",
       "27529C  | 01/19/2011 02:06:00 AM | (37.798304999999999, -122.27574799999999)\n",
       "1158423 | 01/19/2011 02:06:00 AM | (37.798304999999999, -122.27574799999999)\n",
       "1273718 | 01/19/2011 02:06:00 AM | (37.798304999999999, -122.27574799999999)\n",
       "1077682 | 01/19/2011 02:06:00 AM | (37.798304999999999, -122.27574799999999)\n",
       "1214195 | 01/19/2011 02:06:00 AM | (37.798281000000003, -122.27575299999999)\n",
       "1062420 | 01/19/2011 02:06:00 AM | (37.79833, -122.27574300000001)\n",
       "1319726 | 01/19/2011 02:05:00 AM | (37.798475000000003, -122.27571500000001)\n",
       "1214196 | 01/19/2011 02:05:00 AM | (37.798499999999997, -122.27571)\n",
       "75227   | 01/19/2011 02:05:00 AM | (37.798596000000003, -122.27569)\n",
       "... (2742091 rows omitted)"
      ]
     },
     "execution_count": 10,
     "metadata": {},
     "output_type": "execute_result"
    }
   ],
   "source": [
    "lprs"
   ]
  },
  {
   "cell_type": "markdown",
   "id": "09504ab0",
   "metadata": {},
   "source": [
    "Let's start by renaming some columns, and then take a look at it."
   ]
  },
  {
   "cell_type": "code",
   "execution_count": 12,
   "id": "88c4323d",
   "metadata": {},
   "outputs": [
    {
     "data": {
      "text/html": [
       "<table border=\"1\" class=\"dataframe\">\n",
       "    <thead>\n",
       "        <tr>\n",
       "            <th>Plate</th> <th>Timestamp</th> <th>Location</th>\n",
       "        </tr>\n",
       "    </thead>\n",
       "    <tbody>\n",
       "        <tr>\n",
       "            <td>1275226</td> <td>01/19/2011 02:06:00 AM</td> <td>(37.798304999999999, -122.27574799999999)</td>\n",
       "        </tr>\n",
       "        <tr>\n",
       "            <td>27529C </td> <td>01/19/2011 02:06:00 AM</td> <td>(37.798304999999999, -122.27574799999999)</td>\n",
       "        </tr>\n",
       "        <tr>\n",
       "            <td>1158423</td> <td>01/19/2011 02:06:00 AM</td> <td>(37.798304999999999, -122.27574799999999)</td>\n",
       "        </tr>\n",
       "        <tr>\n",
       "            <td>1273718</td> <td>01/19/2011 02:06:00 AM</td> <td>(37.798304999999999, -122.27574799999999)</td>\n",
       "        </tr>\n",
       "        <tr>\n",
       "            <td>1077682</td> <td>01/19/2011 02:06:00 AM</td> <td>(37.798304999999999, -122.27574799999999)</td>\n",
       "        </tr>\n",
       "        <tr>\n",
       "            <td>1214195</td> <td>01/19/2011 02:06:00 AM</td> <td>(37.798281000000003, -122.27575299999999)</td>\n",
       "        </tr>\n",
       "        <tr>\n",
       "            <td>1062420</td> <td>01/19/2011 02:06:00 AM</td> <td>(37.79833, -122.27574300000001)          </td>\n",
       "        </tr>\n",
       "        <tr>\n",
       "            <td>1319726</td> <td>01/19/2011 02:05:00 AM</td> <td>(37.798475000000003, -122.27571500000001)</td>\n",
       "        </tr>\n",
       "        <tr>\n",
       "            <td>1214196</td> <td>01/19/2011 02:05:00 AM</td> <td>(37.798499999999997, -122.27571)         </td>\n",
       "        </tr>\n",
       "        <tr>\n",
       "            <td>75227  </td> <td>01/19/2011 02:05:00 AM</td> <td>(37.798596000000003, -122.27569)         </td>\n",
       "        </tr>\n",
       "    </tbody>\n",
       "</table>\n",
       "<p>... (2742091 rows omitted)</p>"
      ],
      "text/plain": [
       "Plate   | Timestamp              | Location\n",
       "1275226 | 01/19/2011 02:06:00 AM | (37.798304999999999, -122.27574799999999)\n",
       "27529C  | 01/19/2011 02:06:00 AM | (37.798304999999999, -122.27574799999999)\n",
       "1158423 | 01/19/2011 02:06:00 AM | (37.798304999999999, -122.27574799999999)\n",
       "1273718 | 01/19/2011 02:06:00 AM | (37.798304999999999, -122.27574799999999)\n",
       "1077682 | 01/19/2011 02:06:00 AM | (37.798304999999999, -122.27574799999999)\n",
       "1214195 | 01/19/2011 02:06:00 AM | (37.798281000000003, -122.27575299999999)\n",
       "1062420 | 01/19/2011 02:06:00 AM | (37.79833, -122.27574300000001)\n",
       "1319726 | 01/19/2011 02:05:00 AM | (37.798475000000003, -122.27571500000001)\n",
       "1214196 | 01/19/2011 02:05:00 AM | (37.798499999999997, -122.27571)\n",
       "75227   | 01/19/2011 02:05:00 AM | (37.798596000000003, -122.27569)\n",
       "... (2742091 rows omitted)"
      ]
     },
     "execution_count": 12,
     "metadata": {},
     "output_type": "execute_result"
    }
   ],
   "source": [
    "lprs.relabel('red_VRM', 'Plate')\n",
    "lprs.relabel('red_Timestamp', 'Timestamp')\n",
    "lprs"
   ]
  },
  {
   "cell_type": "markdown",
   "id": "c20313db",
   "metadata": {},
   "source": [
    "Phew, that's a lot of data: we can see about 2.7 million license plate read here.\n",
    "Let's start by seeing what can be learned about someone, using this data -- assuming you know their license plate.\n",
    "\n",
    "# Searching for Individuals\n",
    "\n",
    "As a warmup, we'll take a look at ex-Mayor Jean Quan's car, and where it has been seen. Her license plate number is 6FCH845. (How did I learn that? Turns out she was in the news for getting $1000 of parking tickets, and [the news articles]() included a picture of her car, with the license plate visible. You'd be amazed by what's out there on the Internet...)"
   ]
  },
  {
   "cell_type": "code",
   "execution_count": 15,
   "id": "3f7252f1",
   "metadata": {},
   "outputs": [
    {
     "data": {
      "text/html": [
       "<table border=\"1\" class=\"dataframe\">\n",
       "    <thead>\n",
       "        <tr>\n",
       "            <th>Plate</th> <th>Timestamp</th> <th>Location</th>\n",
       "        </tr>\n",
       "    </thead>\n",
       "    <tbody>\n",
       "        <tr>\n",
       "            <td>6FCH845</td> <td>11/01/2012 09:04:00 AM</td> <td>(37.79871, -122.276221) </td>\n",
       "        </tr>\n",
       "        <tr>\n",
       "            <td>6FCH845</td> <td>10/24/2012 11:15:00 AM</td> <td>(37.799695, -122.274868)</td>\n",
       "        </tr>\n",
       "        <tr>\n",
       "            <td>6FCH845</td> <td>10/24/2012 11:01:00 AM</td> <td>(37.799693, -122.274806)</td>\n",
       "        </tr>\n",
       "        <tr>\n",
       "            <td>6FCH845</td> <td>10/24/2012 10:20:00 AM</td> <td>(37.799735, -122.274893)</td>\n",
       "        </tr>\n",
       "        <tr>\n",
       "            <td>6FCH845</td> <td>05/08/2014 07:30:00 PM</td> <td>(37.797558, -122.26935) </td>\n",
       "        </tr>\n",
       "        <tr>\n",
       "            <td>6FCH845</td> <td>12/31/2013 10:09:00 AM</td> <td>(37.807556, -122.278485)</td>\n",
       "        </tr>\n",
       "    </tbody>\n",
       "</table>"
      ],
      "text/plain": [
       "Plate   | Timestamp              | Location\n",
       "6FCH845 | 11/01/2012 09:04:00 AM | (37.79871, -122.276221)\n",
       "6FCH845 | 10/24/2012 11:15:00 AM | (37.799695, -122.274868)\n",
       "6FCH845 | 10/24/2012 11:01:00 AM | (37.799693, -122.274806)\n",
       "6FCH845 | 10/24/2012 10:20:00 AM | (37.799735, -122.274893)\n",
       "6FCH845 | 05/08/2014 07:30:00 PM | (37.797558, -122.26935)\n",
       "6FCH845 | 12/31/2013 10:09:00 AM | (37.807556, -122.278485)"
      ]
     },
     "execution_count": 15,
     "metadata": {},
     "output_type": "execute_result"
    }
   ],
   "source": [
    "lprs.where('Plate', '6FCH845')"
   ]
  },
  {
   "cell_type": "markdown",
   "id": "b40f5abe",
   "metadata": {},
   "source": [
    "Ok, so her car shows up 6 times in this data set. However, it's hard to make sense of those coordinates. I don't know about you, but I can't read GPS so well.\n",
    "\n",
    "So, let's work out a way to show shere her car has been seen on a map. We'll need to extract the latitude and longitude, as the data isn't quite in the format that the mapping software expects: the mapping software expects the latitude to be in one column and the longitude in anote. Let's write some Python code to do that, by splitting the Location string into two pieces: the stuff before the comman (the latitude) and the stuff afet (the longitude)."
   ]
  },
  {
   "cell_type": "code",
   "execution_count": 16,
   "id": "44a0c2f0",
   "metadata": {},
   "outputs": [
    {
     "data": {
      "text/plain": [
       "['37.79871', ' -122.276221) ']"
      ]
     },
     "execution_count": 16,
     "metadata": {},
     "output_type": "execute_result"
    }
   ],
   "source": [
    "'37.79871, -122.276221) '.split(',')"
   ]
  },
  {
   "cell_type": "code",
   "execution_count": 21,
   "id": "64b60e36",
   "metadata": {},
   "outputs": [],
   "source": [
    "def get_latitude(s):\n",
    "    before, after = s.split(',')         # Break it into two parts\n",
    "    lat_string = before.replace('(', '') # Get rid og the annoying '('\n",
    "    return float(lat_string)             # Convert the string to a number\n",
    "\n",
    "def get_longitude(s):\n",
    "    before, after = s.split(',')                  # Break it into two parts\n",
    "    long_string = after.replace(')', '').strip() # Get rid og the annoying ')' and spaces\n",
    "    return float(long_string)                     # Convert the string to a number"
   ]
  },
  {
   "cell_type": "markdown",
   "id": "5004f7dd",
   "metadata": {},
   "source": [
    "Let's test it to make sure it works correctly."
   ]
  },
  {
   "cell_type": "code",
   "execution_count": 23,
   "id": "b5fe4a63",
   "metadata": {},
   "outputs": [
    {
     "data": {
      "text/plain": [
       "37.79871"
      ]
     },
     "execution_count": 23,
     "metadata": {},
     "output_type": "execute_result"
    }
   ],
   "source": [
    "get_latitude('37.79871, -122.276221)')"
   ]
  },
  {
   "cell_type": "code",
   "execution_count": 24,
   "id": "cd46d8e3",
   "metadata": {},
   "outputs": [
    {
     "data": {
      "text/plain": [
       "-122.276221"
      ]
     },
     "execution_count": 24,
     "metadata": {},
     "output_type": "execute_result"
    }
   ],
   "source": [
    "get_longitude('37.79871, -122.276221)')"
   ]
  },
  {
   "cell_type": "markdown",
   "id": "51712651",
   "metadata": {},
   "source": [
    "Good, now we're ready to add these as extra columns to the table."
   ]
  },
  {
   "cell_type": "code",
   "execution_count": 25,
   "id": "a3dade7b",
   "metadata": {},
   "outputs": [
    {
     "data": {
      "text/html": [
       "<table border=\"1\" class=\"dataframe\">\n",
       "    <thead>\n",
       "        <tr>\n",
       "            <th>Plate</th> <th>Timestamp</th> <th>Location</th> <th>Latitude</th> <th>Longitude</th>\n",
       "        </tr>\n",
       "    </thead>\n",
       "    <tbody>\n",
       "        <tr>\n",
       "            <td>1275226</td> <td>01/19/2011 02:06:00 AM</td> <td>(37.798304999999999, -122.27574799999999)</td> <td>37.7983 </td> <td>-122.276 </td>\n",
       "        </tr>\n",
       "        <tr>\n",
       "            <td>27529C </td> <td>01/19/2011 02:06:00 AM</td> <td>(37.798304999999999, -122.27574799999999)</td> <td>37.7983 </td> <td>-122.276 </td>\n",
       "        </tr>\n",
       "        <tr>\n",
       "            <td>1158423</td> <td>01/19/2011 02:06:00 AM</td> <td>(37.798304999999999, -122.27574799999999)</td> <td>37.7983 </td> <td>-122.276 </td>\n",
       "        </tr>\n",
       "        <tr>\n",
       "            <td>1273718</td> <td>01/19/2011 02:06:00 AM</td> <td>(37.798304999999999, -122.27574799999999)</td> <td>37.7983 </td> <td>-122.276 </td>\n",
       "        </tr>\n",
       "        <tr>\n",
       "            <td>1077682</td> <td>01/19/2011 02:06:00 AM</td> <td>(37.798304999999999, -122.27574799999999)</td> <td>37.7983 </td> <td>-122.276 </td>\n",
       "        </tr>\n",
       "        <tr>\n",
       "            <td>1214195</td> <td>01/19/2011 02:06:00 AM</td> <td>(37.798281000000003, -122.27575299999999)</td> <td>37.7983 </td> <td>-122.276 </td>\n",
       "        </tr>\n",
       "        <tr>\n",
       "            <td>1062420</td> <td>01/19/2011 02:06:00 AM</td> <td>(37.79833, -122.27574300000001)          </td> <td>37.7983 </td> <td>-122.276 </td>\n",
       "        </tr>\n",
       "        <tr>\n",
       "            <td>1319726</td> <td>01/19/2011 02:05:00 AM</td> <td>(37.798475000000003, -122.27571500000001)</td> <td>37.7985 </td> <td>-122.276 </td>\n",
       "        </tr>\n",
       "        <tr>\n",
       "            <td>1214196</td> <td>01/19/2011 02:05:00 AM</td> <td>(37.798499999999997, -122.27571)         </td> <td>37.7985 </td> <td>-122.276 </td>\n",
       "        </tr>\n",
       "        <tr>\n",
       "            <td>75227  </td> <td>01/19/2011 02:05:00 AM</td> <td>(37.798596000000003, -122.27569)         </td> <td>37.7986 </td> <td>-122.276 </td>\n",
       "        </tr>\n",
       "    </tbody>\n",
       "</table>\n",
       "<p>... (2742091 rows omitted)</p>"
      ],
      "text/plain": [
       "Plate   | Timestamp              | Location                                  | Latitude | Longitude\n",
       "1275226 | 01/19/2011 02:06:00 AM | (37.798304999999999, -122.27574799999999) | 37.7983  | -122.276\n",
       "27529C  | 01/19/2011 02:06:00 AM | (37.798304999999999, -122.27574799999999) | 37.7983  | -122.276\n",
       "1158423 | 01/19/2011 02:06:00 AM | (37.798304999999999, -122.27574799999999) | 37.7983  | -122.276\n",
       "1273718 | 01/19/2011 02:06:00 AM | (37.798304999999999, -122.27574799999999) | 37.7983  | -122.276\n",
       "1077682 | 01/19/2011 02:06:00 AM | (37.798304999999999, -122.27574799999999) | 37.7983  | -122.276\n",
       "1214195 | 01/19/2011 02:06:00 AM | (37.798281000000003, -122.27575299999999) | 37.7983  | -122.276\n",
       "1062420 | 01/19/2011 02:06:00 AM | (37.79833, -122.27574300000001)           | 37.7983  | -122.276\n",
       "1319726 | 01/19/2011 02:05:00 AM | (37.798475000000003, -122.27571500000001) | 37.7985  | -122.276\n",
       "1214196 | 01/19/2011 02:05:00 AM | (37.798499999999997, -122.27571)          | 37.7985  | -122.276\n",
       "75227   | 01/19/2011 02:05:00 AM | (37.798596000000003, -122.27569)          | 37.7986  | -122.276\n",
       "... (2742091 rows omitted)"
      ]
     },
     "execution_count": 25,
     "metadata": {},
     "output_type": "execute_result"
    }
   ],
   "source": [
    "lprs = lprs.with_columns(\n",
    "    'Latitude', lprs.apply(get_latitude, 'Location'),\n",
    "    'Longitude', lprs.apply(get_longitude, 'Location'),\n",
    ")\n",
    "lprs"
   ]
  },
  {
   "cell_type": "markdown",
   "id": "af7ff7c1",
   "metadata": {},
   "source": [
    "And at last, we can draw a map with a marker everywhere that her car has been seen."
   ]
  },
  {
   "cell_type": "code",
   "execution_count": 26,
   "id": "34e1d4b6",
   "metadata": {},
   "outputs": [
    {
     "data": {
      "text/html": [
       "<div style=\"width:100%;\"><div style=\"position:relative;width:100%;height:0;padding-bottom:60%;\"><span style=\"color:#565656\">Make this Notebook Trusted to load map: File -> Trust Notebook</span><iframe srcdoc=\"&lt;!DOCTYPE html&gt;\n",
       "&lt;html&gt;\n",
       "&lt;head&gt;\n",
       "    \n",
       "    &lt;meta http-equiv=&quot;content-type&quot; content=&quot;text/html; charset=UTF-8&quot; /&gt;\n",
       "    \n",
       "        &lt;script&gt;\n",
       "            L_NO_TOUCH = false;\n",
       "            L_DISABLE_3D = false;\n",
       "        &lt;/script&gt;\n",
       "    \n",
       "    &lt;style&gt;html, body {width: 100%;height: 100%;margin: 0;padding: 0;}&lt;/style&gt;\n",
       "    &lt;style&gt;#map {position:absolute;top:0;bottom:0;right:0;left:0;}&lt;/style&gt;\n",
       "    &lt;script src=&quot;https://cdn.jsdelivr.net/npm/leaflet@1.9.3/dist/leaflet.js&quot;&gt;&lt;/script&gt;\n",
       "    &lt;script src=&quot;https://code.jquery.com/jquery-1.12.4.min.js&quot;&gt;&lt;/script&gt;\n",
       "    &lt;script src=&quot;https://cdn.jsdelivr.net/npm/bootstrap@5.2.2/dist/js/bootstrap.bundle.min.js&quot;&gt;&lt;/script&gt;\n",
       "    &lt;script src=&quot;https://cdnjs.cloudflare.com/ajax/libs/Leaflet.awesome-markers/2.0.2/leaflet.awesome-markers.js&quot;&gt;&lt;/script&gt;\n",
       "    &lt;link rel=&quot;stylesheet&quot; href=&quot;https://cdn.jsdelivr.net/npm/leaflet@1.9.3/dist/leaflet.css&quot;/&gt;\n",
       "    &lt;link rel=&quot;stylesheet&quot; href=&quot;https://cdn.jsdelivr.net/npm/bootstrap@5.2.2/dist/css/bootstrap.min.css&quot;/&gt;\n",
       "    &lt;link rel=&quot;stylesheet&quot; href=&quot;https://netdna.bootstrapcdn.com/bootstrap/3.0.0/css/bootstrap.min.css&quot;/&gt;\n",
       "    &lt;link rel=&quot;stylesheet&quot; href=&quot;https://cdn.jsdelivr.net/npm/@fortawesome/fontawesome-free@6.2.0/css/all.min.css&quot;/&gt;\n",
       "    &lt;link rel=&quot;stylesheet&quot; href=&quot;https://cdnjs.cloudflare.com/ajax/libs/Leaflet.awesome-markers/2.0.2/leaflet.awesome-markers.css&quot;/&gt;\n",
       "    &lt;link rel=&quot;stylesheet&quot; href=&quot;https://cdn.jsdelivr.net/gh/python-visualization/folium/folium/templates/leaflet.awesome.rotate.min.css&quot;/&gt;\n",
       "    \n",
       "            &lt;meta name=&quot;viewport&quot; content=&quot;width=device-width,\n",
       "                initial-scale=1.0, maximum-scale=1.0, user-scalable=no&quot; /&gt;\n",
       "            &lt;style&gt;\n",
       "                #map_231f3d90fbde50c3ac9ff73b2c01988e {\n",
       "                    position: relative;\n",
       "                    width: 960.0px;\n",
       "                    height: 500.0px;\n",
       "                    left: 0.0%;\n",
       "                    top: 0.0%;\n",
       "                }\n",
       "                .leaflet-container { font-size: 1rem; }\n",
       "            &lt;/style&gt;\n",
       "        \n",
       "&lt;/head&gt;\n",
       "&lt;body&gt;\n",
       "    \n",
       "    \n",
       "            &lt;div class=&quot;folium-map&quot; id=&quot;map_231f3d90fbde50c3ac9ff73b2c01988e&quot; &gt;&lt;/div&gt;\n",
       "        \n",
       "&lt;/body&gt;\n",
       "&lt;script&gt;\n",
       "    \n",
       "    \n",
       "            var map_231f3d90fbde50c3ac9ff73b2c01988e = L.map(\n",
       "                &quot;map_231f3d90fbde50c3ac9ff73b2c01988e&quot;,\n",
       "                {\n",
       "                    center: [37.802557, -122.27391750000001],\n",
       "                    crs: L.CRS.EPSG3857,\n",
       "                    zoom: 13,\n",
       "                    zoomControl: true,\n",
       "                    preferCanvas: false,\n",
       "                    clusteredMarker: false,\n",
       "                    includeColorScaleOutliers: true,\n",
       "                    radiusInMeters: false,\n",
       "                }\n",
       "            );\n",
       "\n",
       "            \n",
       "\n",
       "        \n",
       "    \n",
       "            var tile_layer_0df53431d44e5e0d635461af2e983cc1 = L.tileLayer(\n",
       "                &quot;https://{s}.tile.openstreetmap.org/{z}/{x}/{y}.png&quot;,\n",
       "                {&quot;attribution&quot;: &quot;Data by \\u0026copy; \\u003ca target=\\&quot;_blank\\&quot; href=\\&quot;http://openstreetmap.org\\&quot;\\u003eOpenStreetMap\\u003c/a\\u003e, under \\u003ca target=\\&quot;_blank\\&quot; href=\\&quot;http://www.openstreetmap.org/copyright\\&quot;\\u003eODbL\\u003c/a\\u003e.&quot;, &quot;detectRetina&quot;: false, &quot;maxNativeZoom&quot;: 17, &quot;maxZoom&quot;: 17, &quot;minZoom&quot;: 10, &quot;noWrap&quot;: false, &quot;opacity&quot;: 1, &quot;subdomains&quot;: &quot;abc&quot;, &quot;tms&quot;: false}\n",
       "            ).addTo(map_231f3d90fbde50c3ac9ff73b2c01988e);\n",
       "        \n",
       "    \n",
       "            var marker_086b42aa9969043aaadffb35917aa344 = L.marker(\n",
       "                [37.79871, -122.276221],\n",
       "                {&quot;Timestamp&quot;: &quot;11/01/2012 09:04:00 AM&quot;}\n",
       "            ).addTo(map_231f3d90fbde50c3ac9ff73b2c01988e);\n",
       "        \n",
       "    \n",
       "            var icon_a3fb98dc4d69b10553a3212a7368c9d0 = L.AwesomeMarkers.icon(\n",
       "                {&quot;extraClasses&quot;: &quot;fa-rotate-0&quot;, &quot;icon&quot;: &quot;sign-blank&quot;, &quot;iconColor&quot;: &quot;white&quot;, &quot;markerColor&quot;: &quot;blue&quot;, &quot;prefix&quot;: &quot;glyphicon&quot;}\n",
       "            );\n",
       "            marker_086b42aa9969043aaadffb35917aa344.setIcon(icon_a3fb98dc4d69b10553a3212a7368c9d0);\n",
       "        \n",
       "    \n",
       "        var popup_f9ae56afc4bd1d1b6e0ca25a82c58182 = L.popup({&quot;maxWidth&quot;: &quot;100%&quot;});\n",
       "\n",
       "        \n",
       "            \n",
       "                var html_6c43f2cfa8954186d5dfd379281ae150 = $(`&lt;div id=&quot;html_6c43f2cfa8954186d5dfd379281ae150&quot; style=&quot;width: 100.0%; height: 100.0%;&quot;&gt;&lt;/div&gt;`)[0];\n",
       "                popup_f9ae56afc4bd1d1b6e0ca25a82c58182.setContent(html_6c43f2cfa8954186d5dfd379281ae150);\n",
       "            \n",
       "        \n",
       "\n",
       "        marker_086b42aa9969043aaadffb35917aa344.bindPopup(popup_f9ae56afc4bd1d1b6e0ca25a82c58182)\n",
       "        ;\n",
       "\n",
       "        \n",
       "    \n",
       "    \n",
       "            var marker_335a730c9f1221087d0a1d1b8b92ebb5 = L.marker(\n",
       "                [37.799695, -122.274868],\n",
       "                {&quot;Timestamp&quot;: &quot;10/24/2012 11:15:00 AM&quot;}\n",
       "            ).addTo(map_231f3d90fbde50c3ac9ff73b2c01988e);\n",
       "        \n",
       "    \n",
       "            var icon_336ec3484ae65e1281ff736b4816d01f = L.AwesomeMarkers.icon(\n",
       "                {&quot;extraClasses&quot;: &quot;fa-rotate-0&quot;, &quot;icon&quot;: &quot;sign-blank&quot;, &quot;iconColor&quot;: &quot;white&quot;, &quot;markerColor&quot;: &quot;blue&quot;, &quot;prefix&quot;: &quot;glyphicon&quot;}\n",
       "            );\n",
       "            marker_335a730c9f1221087d0a1d1b8b92ebb5.setIcon(icon_336ec3484ae65e1281ff736b4816d01f);\n",
       "        \n",
       "    \n",
       "        var popup_5403e91062d300ac2ef23044dc318532 = L.popup({&quot;maxWidth&quot;: &quot;100%&quot;});\n",
       "\n",
       "        \n",
       "            \n",
       "                var html_57bad1d0b9b1fc12202403b0db555801 = $(`&lt;div id=&quot;html_57bad1d0b9b1fc12202403b0db555801&quot; style=&quot;width: 100.0%; height: 100.0%;&quot;&gt;&lt;/div&gt;`)[0];\n",
       "                popup_5403e91062d300ac2ef23044dc318532.setContent(html_57bad1d0b9b1fc12202403b0db555801);\n",
       "            \n",
       "        \n",
       "\n",
       "        marker_335a730c9f1221087d0a1d1b8b92ebb5.bindPopup(popup_5403e91062d300ac2ef23044dc318532)\n",
       "        ;\n",
       "\n",
       "        \n",
       "    \n",
       "    \n",
       "            var marker_64d2bf4492947deef2b9e2d6a5964205 = L.marker(\n",
       "                [37.799693, -122.274806],\n",
       "                {&quot;Timestamp&quot;: &quot;10/24/2012 11:01:00 AM&quot;}\n",
       "            ).addTo(map_231f3d90fbde50c3ac9ff73b2c01988e);\n",
       "        \n",
       "    \n",
       "            var icon_4d52b12e831304cf1e3470d04143901b = L.AwesomeMarkers.icon(\n",
       "                {&quot;extraClasses&quot;: &quot;fa-rotate-0&quot;, &quot;icon&quot;: &quot;sign-blank&quot;, &quot;iconColor&quot;: &quot;white&quot;, &quot;markerColor&quot;: &quot;blue&quot;, &quot;prefix&quot;: &quot;glyphicon&quot;}\n",
       "            );\n",
       "            marker_64d2bf4492947deef2b9e2d6a5964205.setIcon(icon_4d52b12e831304cf1e3470d04143901b);\n",
       "        \n",
       "    \n",
       "        var popup_601669ebd772e0f0f41060579c970ef2 = L.popup({&quot;maxWidth&quot;: &quot;100%&quot;});\n",
       "\n",
       "        \n",
       "            \n",
       "                var html_34b29c7844f79b7e24a3c73ae094b7dd = $(`&lt;div id=&quot;html_34b29c7844f79b7e24a3c73ae094b7dd&quot; style=&quot;width: 100.0%; height: 100.0%;&quot;&gt;&lt;/div&gt;`)[0];\n",
       "                popup_601669ebd772e0f0f41060579c970ef2.setContent(html_34b29c7844f79b7e24a3c73ae094b7dd);\n",
       "            \n",
       "        \n",
       "\n",
       "        marker_64d2bf4492947deef2b9e2d6a5964205.bindPopup(popup_601669ebd772e0f0f41060579c970ef2)\n",
       "        ;\n",
       "\n",
       "        \n",
       "    \n",
       "    \n",
       "            var marker_ce8a26074fc4ba2ef21b8b63c60da794 = L.marker(\n",
       "                [37.799735, -122.274893],\n",
       "                {&quot;Timestamp&quot;: &quot;10/24/2012 10:20:00 AM&quot;}\n",
       "            ).addTo(map_231f3d90fbde50c3ac9ff73b2c01988e);\n",
       "        \n",
       "    \n",
       "            var icon_1bdea8fbd720011c72a99cbb0ea3240d = L.AwesomeMarkers.icon(\n",
       "                {&quot;extraClasses&quot;: &quot;fa-rotate-0&quot;, &quot;icon&quot;: &quot;sign-blank&quot;, &quot;iconColor&quot;: &quot;white&quot;, &quot;markerColor&quot;: &quot;blue&quot;, &quot;prefix&quot;: &quot;glyphicon&quot;}\n",
       "            );\n",
       "            marker_ce8a26074fc4ba2ef21b8b63c60da794.setIcon(icon_1bdea8fbd720011c72a99cbb0ea3240d);\n",
       "        \n",
       "    \n",
       "        var popup_c5c4e5bed413661c1897ac494d4f5f9a = L.popup({&quot;maxWidth&quot;: &quot;100%&quot;});\n",
       "\n",
       "        \n",
       "            \n",
       "                var html_94604f0552aa35b0157b9b1606bbddfd = $(`&lt;div id=&quot;html_94604f0552aa35b0157b9b1606bbddfd&quot; style=&quot;width: 100.0%; height: 100.0%;&quot;&gt;&lt;/div&gt;`)[0];\n",
       "                popup_c5c4e5bed413661c1897ac494d4f5f9a.setContent(html_94604f0552aa35b0157b9b1606bbddfd);\n",
       "            \n",
       "        \n",
       "\n",
       "        marker_ce8a26074fc4ba2ef21b8b63c60da794.bindPopup(popup_c5c4e5bed413661c1897ac494d4f5f9a)\n",
       "        ;\n",
       "\n",
       "        \n",
       "    \n",
       "    \n",
       "            var marker_33b921d1a80d88d1eadf8b18c57eb818 = L.marker(\n",
       "                [37.797558, -122.26935],\n",
       "                {&quot;Timestamp&quot;: &quot;05/08/2014 07:30:00 PM&quot;}\n",
       "            ).addTo(map_231f3d90fbde50c3ac9ff73b2c01988e);\n",
       "        \n",
       "    \n",
       "            var icon_0510866c604a882879c62e40aa0d79c2 = L.AwesomeMarkers.icon(\n",
       "                {&quot;extraClasses&quot;: &quot;fa-rotate-0&quot;, &quot;icon&quot;: &quot;sign-blank&quot;, &quot;iconColor&quot;: &quot;white&quot;, &quot;markerColor&quot;: &quot;blue&quot;, &quot;prefix&quot;: &quot;glyphicon&quot;}\n",
       "            );\n",
       "            marker_33b921d1a80d88d1eadf8b18c57eb818.setIcon(icon_0510866c604a882879c62e40aa0d79c2);\n",
       "        \n",
       "    \n",
       "        var popup_31dde6ae452ab5b7d2534b4a971ac8c0 = L.popup({&quot;maxWidth&quot;: &quot;100%&quot;});\n",
       "\n",
       "        \n",
       "            \n",
       "                var html_4ef4cec35b0f621555ecf4a875ed5c06 = $(`&lt;div id=&quot;html_4ef4cec35b0f621555ecf4a875ed5c06&quot; style=&quot;width: 100.0%; height: 100.0%;&quot;&gt;&lt;/div&gt;`)[0];\n",
       "                popup_31dde6ae452ab5b7d2534b4a971ac8c0.setContent(html_4ef4cec35b0f621555ecf4a875ed5c06);\n",
       "            \n",
       "        \n",
       "\n",
       "        marker_33b921d1a80d88d1eadf8b18c57eb818.bindPopup(popup_31dde6ae452ab5b7d2534b4a971ac8c0)\n",
       "        ;\n",
       "\n",
       "        \n",
       "    \n",
       "    \n",
       "            var marker_072cf87042fc1e928796b7a14c246133 = L.marker(\n",
       "                [37.807556, -122.278485],\n",
       "                {&quot;Timestamp&quot;: &quot;12/31/2013 10:09:00 AM&quot;}\n",
       "            ).addTo(map_231f3d90fbde50c3ac9ff73b2c01988e);\n",
       "        \n",
       "    \n",
       "            var icon_ee520f2786fd8fafb9c7a7c70d70c634 = L.AwesomeMarkers.icon(\n",
       "                {&quot;extraClasses&quot;: &quot;fa-rotate-0&quot;, &quot;icon&quot;: &quot;sign-blank&quot;, &quot;iconColor&quot;: &quot;white&quot;, &quot;markerColor&quot;: &quot;blue&quot;, &quot;prefix&quot;: &quot;glyphicon&quot;}\n",
       "            );\n",
       "            marker_072cf87042fc1e928796b7a14c246133.setIcon(icon_ee520f2786fd8fafb9c7a7c70d70c634);\n",
       "        \n",
       "    \n",
       "        var popup_cffea6b0bb56434b9cdfa764abc6e534 = L.popup({&quot;maxWidth&quot;: &quot;100%&quot;});\n",
       "\n",
       "        \n",
       "            \n",
       "                var html_0a5344658bc0263ef2da0c8d19f5ba92 = $(`&lt;div id=&quot;html_0a5344658bc0263ef2da0c8d19f5ba92&quot; style=&quot;width: 100.0%; height: 100.0%;&quot;&gt;&lt;/div&gt;`)[0];\n",
       "                popup_cffea6b0bb56434b9cdfa764abc6e534.setContent(html_0a5344658bc0263ef2da0c8d19f5ba92);\n",
       "            \n",
       "        \n",
       "\n",
       "        marker_072cf87042fc1e928796b7a14c246133.bindPopup(popup_cffea6b0bb56434b9cdfa764abc6e534)\n",
       "        ;\n",
       "\n",
       "        \n",
       "    \n",
       "&lt;/script&gt;\n",
       "&lt;/html&gt;\" style=\"position:absolute;width:100%;height:100%;left:0;top:0;border:none !important;\" allowfullscreen webkitallowfullscreen mozallowfullscreen></iframe></div></div>"
      ],
      "text/plain": [
       "<datascience.maps.Map at 0x144425690>"
      ]
     },
     "execution_count": 26,
     "metadata": {},
     "output_type": "execute_result"
    }
   ],
   "source": [
    "jean_quan = lprs.where('Plate', '6FCH845').select('Latitude', 'Longitude', 'Timestamp')\n",
    "Marker.map_table(jean_quan)"
   ]
  },
  {
   "cell_type": "markdown",
   "id": "7f4fd032",
   "metadata": {},
   "source": [
    "Ok, so it's been seen near the Oakland police department. This should make you suspect we might be getting a bit of a biased sample. Why might the Oakland PD be the most common place where her car is seen? Can you come up with a plausble explanation for this?\n",
    "\n",
    " # Poking around\n",
    " \n",
    " Let's try another. And let's see if we can make the map a little more fancy. It'd be nice to distinguish between license plate reads that are seen during the daytime (on a weekday), vs the evening (on a weekday), vs on a weekend. So we'll color-code the markers. To do this, we'll write some Python code analyze the Timestamp and choose and appropiate color."
   ]
  },
  {
   "cell_type": "code",
   "execution_count": null,
   "id": "b75cfe45",
   "metadata": {},
   "outputs": [],
   "source": []
  },
  {
   "cell_type": "code",
   "execution_count": null,
   "id": "acab9afc",
   "metadata": {},
   "outputs": [],
   "source": []
  }
 ],
 "metadata": {
  "kernelspec": {
   "display_name": "Python 3 (ipykernel)",
   "language": "python",
   "name": "python3"
  },
  "language_info": {
   "codemirror_mode": {
    "name": "ipython",
    "version": 3
   },
   "file_extension": ".py",
   "mimetype": "text/x-python",
   "name": "python",
   "nbconvert_exporter": "python",
   "pygments_lexer": "ipython3",
   "version": "3.10.11"
  }
 },
 "nbformat": 4,
 "nbformat_minor": 5
}
