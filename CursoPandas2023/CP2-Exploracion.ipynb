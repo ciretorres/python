{
 "cells": [
  {
   "cell_type": "code",
   "execution_count": 6,
   "id": "7f495df2",
   "metadata": {},
   "outputs": [
    {
     "data": {
      "text/html": [
       "<div>\n",
       "<style scoped>\n",
       "    .dataframe tbody tr th:only-of-type {\n",
       "        vertical-align: middle;\n",
       "    }\n",
       "\n",
       "    .dataframe tbody tr th {\n",
       "        vertical-align: top;\n",
       "    }\n",
       "\n",
       "    .dataframe thead th {\n",
       "        text-align: right;\n",
       "    }\n",
       "</style>\n",
       "<table border=\"1\" class=\"dataframe\">\n",
       "  <thead>\n",
       "    <tr style=\"text-align: right;\">\n",
       "      <th></th>\n",
       "      <th>ID</th>\n",
       "      <th>Estado_origen</th>\n",
       "      <th>Municipio_origen</th>\n",
       "      <th>Panteón_origen</th>\n",
       "      <th>Estatus_FC</th>\n",
       "      <th>Fecha_inhumación</th>\n",
       "      <th>Fecha_defunción</th>\n",
       "      <th>Restos_tipo</th>\n",
       "      <th>Sexo</th>\n",
       "      <th>Edad</th>\n",
       "      <th>Conocido_Desconocido</th>\n",
       "      <th>Unnamed: 11</th>\n",
       "      <th>Segundo_apellido</th>\n",
       "      <th>Nombre(s)</th>\n",
       "      <th>Nombre_completo</th>\n",
       "      <th>Institución_origen</th>\n",
       "      <th>Rdoc</th>\n",
       "      <th>Datos_alternativos</th>\n",
       "      <th>Marca_temporal</th>\n",
       "    </tr>\n",
       "  </thead>\n",
       "  <tbody>\n",
       "    <tr>\n",
       "      <th>0</th>\n",
       "      <td>XX-DSA001</td>\n",
       "      <td>Ciudad de México</td>\n",
       "      <td>Miguel Hidalgo</td>\n",
       "      <td>Panteón Civil de Dolores</td>\n",
       "      <td>Sin dato</td>\n",
       "      <td>S/D</td>\n",
       "      <td>2015-07-04 00:00:00</td>\n",
       "      <td>Sin dato</td>\n",
       "      <td>Femenino</td>\n",
       "      <td>21</td>\n",
       "      <td>Desconocido</td>\n",
       "      <td>NaN</td>\n",
       "      <td>NaN</td>\n",
       "      <td>NaN</td>\n",
       "      <td></td>\n",
       "      <td>INSTITUTO DE CIENCIAS FORENSES - TRIBUNAL SUPE...</td>\n",
       "      <td>Sí</td>\n",
       "      <td>NaN</td>\n",
       "      <td>2020-10-05 15:09:07</td>\n",
       "    </tr>\n",
       "    <tr>\n",
       "      <th>1</th>\n",
       "      <td>XX-DSA004</td>\n",
       "      <td>Ciudad de México</td>\n",
       "      <td>Miguel Hidalgo</td>\n",
       "      <td>Panteón Civil de Dolores</td>\n",
       "      <td>Inhumación</td>\n",
       "      <td>2015-03-24 00:00:00</td>\n",
       "      <td>2014-03-13 00:00:00</td>\n",
       "      <td>Cadáver</td>\n",
       "      <td>Femenino</td>\n",
       "      <td>84</td>\n",
       "      <td>Conocido</td>\n",
       "      <td>Hernandez</td>\n",
       "      <td>Hernandez</td>\n",
       "      <td>Dolores</td>\n",
       "      <td>Dolores Hernandez Hernandez</td>\n",
       "      <td>INSTITUTO POLITÉCNICO NACIONAL - ESCUELA NACIO...</td>\n",
       "      <td>Sí</td>\n",
       "      <td>NaN</td>\n",
       "      <td>2020-10-21 15:09:34</td>\n",
       "    </tr>\n",
       "    <tr>\n",
       "      <th>2</th>\n",
       "      <td>XX-DSA006</td>\n",
       "      <td>Ciudad de México</td>\n",
       "      <td>Miguel Hidalgo</td>\n",
       "      <td>Panteón Civil de Dolores</td>\n",
       "      <td>Sin dato</td>\n",
       "      <td>2015-03-24 00:00:00</td>\n",
       "      <td>13/03/2015, 13/03/2014</td>\n",
       "      <td>Cadáver</td>\n",
       "      <td>Masculino</td>\n",
       "      <td>75</td>\n",
       "      <td>Conocido</td>\n",
       "      <td>Estrada</td>\n",
       "      <td>NaN</td>\n",
       "      <td>Benjamin</td>\n",
       "      <td>Benjamin Estrada</td>\n",
       "      <td>INSTITUTO POLITÉCNICO NACIONAL - ESCUELA NACIO...</td>\n",
       "      <td>Sí</td>\n",
       "      <td>NaN</td>\n",
       "      <td>2020-10-21 15:09:34</td>\n",
       "    </tr>\n",
       "    <tr>\n",
       "      <th>3</th>\n",
       "      <td>XX-DSA007</td>\n",
       "      <td>Ciudad de México</td>\n",
       "      <td>Miguel Hidalgo</td>\n",
       "      <td>Panteón Civil de Dolores</td>\n",
       "      <td>Sin dato</td>\n",
       "      <td>2015-03-24 00:00:00</td>\n",
       "      <td>2014-04-02 00:00:00</td>\n",
       "      <td>Cadáver</td>\n",
       "      <td>Masculino</td>\n",
       "      <td>NaN</td>\n",
       "      <td>Conocido</td>\n",
       "      <td>Serrano</td>\n",
       "      <td>Perez</td>\n",
       "      <td>Cristobal</td>\n",
       "      <td>Cristobal Serrano Perez</td>\n",
       "      <td>INSTITUTO POLITÉCNICO NACIONAL - ESCUELA NACIO...</td>\n",
       "      <td>Sí</td>\n",
       "      <td>NaN</td>\n",
       "      <td>2020-10-21 15:09:34</td>\n",
       "    </tr>\n",
       "    <tr>\n",
       "      <th>4</th>\n",
       "      <td>XX-DSA009</td>\n",
       "      <td>Estado de México</td>\n",
       "      <td>Naucalpan de Juárez</td>\n",
       "      <td>Panteón Parque Memorial</td>\n",
       "      <td>Sin dato</td>\n",
       "      <td>S/D</td>\n",
       "      <td>2017-05-02 00:00:00</td>\n",
       "      <td>Cadáver</td>\n",
       "      <td>Femenino</td>\n",
       "      <td>81</td>\n",
       "      <td>Conocido</td>\n",
       "      <td>Ceballos</td>\n",
       "      <td>Y Tagle</td>\n",
       "      <td>Alicia</td>\n",
       "      <td>Alicia Ceballos Y Tagle</td>\n",
       "      <td>S/D</td>\n",
       "      <td>Sí</td>\n",
       "      <td>NaN</td>\n",
       "      <td>11/11/2020 12:07:59</td>\n",
       "    </tr>\n",
       "    <tr>\n",
       "      <th>...</th>\n",
       "      <td>...</td>\n",
       "      <td>...</td>\n",
       "      <td>...</td>\n",
       "      <td>...</td>\n",
       "      <td>...</td>\n",
       "      <td>...</td>\n",
       "      <td>...</td>\n",
       "      <td>...</td>\n",
       "      <td>...</td>\n",
       "      <td>...</td>\n",
       "      <td>...</td>\n",
       "      <td>...</td>\n",
       "      <td>...</td>\n",
       "      <td>...</td>\n",
       "      <td>...</td>\n",
       "      <td>...</td>\n",
       "      <td>...</td>\n",
       "      <td>...</td>\n",
       "      <td>...</td>\n",
       "    </tr>\n",
       "    <tr>\n",
       "      <th>995</th>\n",
       "      <td>XX-P10757</td>\n",
       "      <td>Ciudad de México</td>\n",
       "      <td>Miguel Hidalgo</td>\n",
       "      <td>Panteón Civil de Dolores</td>\n",
       "      <td>Inhumación</td>\n",
       "      <td>2003-08-06 00:00:00</td>\n",
       "      <td>2001-10-31 00:00:00</td>\n",
       "      <td>Restos cremados</td>\n",
       "      <td>Masculino</td>\n",
       "      <td>25</td>\n",
       "      <td>Desconocido</td>\n",
       "      <td>NaN</td>\n",
       "      <td>NaN</td>\n",
       "      <td>NaN</td>\n",
       "      <td></td>\n",
       "      <td>UNIVERSIDAD NACIONAL AUTÓNOMA DE MÉXICO - FACU...</td>\n",
       "      <td>Sí</td>\n",
       "      <td>NaN</td>\n",
       "      <td>2021-03-29 18:35:05.733000</td>\n",
       "    </tr>\n",
       "    <tr>\n",
       "      <th>996</th>\n",
       "      <td>XX-P10758</td>\n",
       "      <td>Ciudad de México</td>\n",
       "      <td>Miguel Hidalgo</td>\n",
       "      <td>Panteón Civil de Dolores</td>\n",
       "      <td>Inhumación</td>\n",
       "      <td>2003-08-06 00:00:00</td>\n",
       "      <td>2001-10-27 00:00:00</td>\n",
       "      <td>Restos cremados</td>\n",
       "      <td>Masculino</td>\n",
       "      <td>45</td>\n",
       "      <td>Desconocido</td>\n",
       "      <td>NaN</td>\n",
       "      <td>NaN</td>\n",
       "      <td>NaN</td>\n",
       "      <td></td>\n",
       "      <td>UNIVERSIDAD NACIONAL AUTÓNOMA DE MÉXICO - FACU...</td>\n",
       "      <td>Sí</td>\n",
       "      <td>NaN</td>\n",
       "      <td>2021-03-29 18:38:41.900000</td>\n",
       "    </tr>\n",
       "    <tr>\n",
       "      <th>997</th>\n",
       "      <td>XX-P10759</td>\n",
       "      <td>Ciudad de México</td>\n",
       "      <td>Miguel Hidalgo</td>\n",
       "      <td>Panteón Civil de Dolores</td>\n",
       "      <td>Inhumación</td>\n",
       "      <td>2003-08-06 00:00:00</td>\n",
       "      <td>2001-11-01 00:00:00</td>\n",
       "      <td>Restos cremados</td>\n",
       "      <td>Femenino</td>\n",
       "      <td>40</td>\n",
       "      <td>Conocido</td>\n",
       "      <td>Hernandez</td>\n",
       "      <td>Gomez</td>\n",
       "      <td>Monica</td>\n",
       "      <td>Monica Hernandez Gomez</td>\n",
       "      <td>UNIVERSIDAD NACIONAL AUTÓNOMA DE MÉXICO - FACU...</td>\n",
       "      <td>Sí</td>\n",
       "      <td>NaN</td>\n",
       "      <td>2021-03-29 18:44:38.680000</td>\n",
       "    </tr>\n",
       "    <tr>\n",
       "      <th>998</th>\n",
       "      <td>XX-P1076</td>\n",
       "      <td>Ciudad de México</td>\n",
       "      <td>Miguel Hidalgo</td>\n",
       "      <td>Panteón Civil de Dolores</td>\n",
       "      <td>Inhumación</td>\n",
       "      <td>2018-07-25 00:00:00</td>\n",
       "      <td>2017-04-30 00:00:00</td>\n",
       "      <td>Cadáver</td>\n",
       "      <td>Masculino</td>\n",
       "      <td>46</td>\n",
       "      <td>Conocido</td>\n",
       "      <td>Fuentes</td>\n",
       "      <td>Madrigal</td>\n",
       "      <td>Javier Guillermo</td>\n",
       "      <td>Javier Guillermo Fuentes Madrigal</td>\n",
       "      <td>INSTITUTO POLITÉCNICO NACIONAL - ESCUELA NACIO...</td>\n",
       "      <td>Sí</td>\n",
       "      <td>NaN</td>\n",
       "      <td>2020-04-10 17:16:39.180000</td>\n",
       "    </tr>\n",
       "    <tr>\n",
       "      <th>999</th>\n",
       "      <td>XX-P10760</td>\n",
       "      <td>Ciudad de México</td>\n",
       "      <td>Miguel Hidalgo</td>\n",
       "      <td>Panteón Civil de Dolores</td>\n",
       "      <td>Inhumación</td>\n",
       "      <td>2003-08-06 00:00:00</td>\n",
       "      <td>2001-11-15 00:00:00</td>\n",
       "      <td>Restos cremados</td>\n",
       "      <td>Femenino</td>\n",
       "      <td>75</td>\n",
       "      <td>Conocido</td>\n",
       "      <td>Rios</td>\n",
       "      <td>Parada</td>\n",
       "      <td>Delia</td>\n",
       "      <td>Delia Rios Parada</td>\n",
       "      <td>UNIVERSIDAD NACIONAL AUTÓNOMA DE MÉXICO - FACU...</td>\n",
       "      <td>Sí</td>\n",
       "      <td>NaN</td>\n",
       "      <td>2021-03-29 18:52:20.472000</td>\n",
       "    </tr>\n",
       "  </tbody>\n",
       "</table>\n",
       "<p>1000 rows × 19 columns</p>\n",
       "</div>"
      ],
      "text/plain": [
       "            ID     Estado_origen     Municipio_origen  \\\n",
       "0    XX-DSA001  Ciudad de México       Miguel Hidalgo   \n",
       "1    XX-DSA004  Ciudad de México       Miguel Hidalgo   \n",
       "2    XX-DSA006  Ciudad de México       Miguel Hidalgo   \n",
       "3    XX-DSA007  Ciudad de México       Miguel Hidalgo   \n",
       "4    XX-DSA009  Estado de México  Naucalpan de Juárez   \n",
       "..         ...               ...                  ...   \n",
       "995  XX-P10757  Ciudad de México       Miguel Hidalgo   \n",
       "996  XX-P10758  Ciudad de México       Miguel Hidalgo   \n",
       "997  XX-P10759  Ciudad de México       Miguel Hidalgo   \n",
       "998   XX-P1076  Ciudad de México       Miguel Hidalgo   \n",
       "999  XX-P10760  Ciudad de México       Miguel Hidalgo   \n",
       "\n",
       "               Panteón_origen  Estatus_FC     Fecha_inhumación  \\\n",
       "0    Panteón Civil de Dolores    Sin dato                  S/D   \n",
       "1    Panteón Civil de Dolores  Inhumación  2015-03-24 00:00:00   \n",
       "2    Panteón Civil de Dolores    Sin dato  2015-03-24 00:00:00   \n",
       "3    Panteón Civil de Dolores    Sin dato  2015-03-24 00:00:00   \n",
       "4     Panteón Parque Memorial    Sin dato                  S/D   \n",
       "..                        ...         ...                  ...   \n",
       "995  Panteón Civil de Dolores  Inhumación  2003-08-06 00:00:00   \n",
       "996  Panteón Civil de Dolores  Inhumación  2003-08-06 00:00:00   \n",
       "997  Panteón Civil de Dolores  Inhumación  2003-08-06 00:00:00   \n",
       "998  Panteón Civil de Dolores  Inhumación  2018-07-25 00:00:00   \n",
       "999  Panteón Civil de Dolores  Inhumación  2003-08-06 00:00:00   \n",
       "\n",
       "            Fecha_defunción      Restos_tipo       Sexo Edad  \\\n",
       "0       2015-07-04 00:00:00         Sin dato   Femenino   21   \n",
       "1       2014-03-13 00:00:00          Cadáver   Femenino   84   \n",
       "2    13/03/2015, 13/03/2014          Cadáver  Masculino   75   \n",
       "3       2014-04-02 00:00:00          Cadáver  Masculino  NaN   \n",
       "4       2017-05-02 00:00:00          Cadáver   Femenino   81   \n",
       "..                      ...              ...        ...  ...   \n",
       "995     2001-10-31 00:00:00  Restos cremados  Masculino   25   \n",
       "996     2001-10-27 00:00:00  Restos cremados  Masculino   45   \n",
       "997     2001-11-01 00:00:00  Restos cremados   Femenino   40   \n",
       "998     2017-04-30 00:00:00          Cadáver  Masculino   46   \n",
       "999     2001-11-15 00:00:00  Restos cremados   Femenino   75   \n",
       "\n",
       "    Conocido_Desconocido Unnamed: 11 Segundo_apellido         Nombre(s)  \\\n",
       "0            Desconocido         NaN              NaN               NaN   \n",
       "1               Conocido   Hernandez        Hernandez           Dolores   \n",
       "2               Conocido     Estrada              NaN          Benjamin   \n",
       "3               Conocido     Serrano            Perez         Cristobal   \n",
       "4               Conocido    Ceballos          Y Tagle            Alicia   \n",
       "..                   ...         ...              ...               ...   \n",
       "995          Desconocido         NaN              NaN               NaN   \n",
       "996          Desconocido         NaN              NaN               NaN   \n",
       "997             Conocido   Hernandez            Gomez            Monica   \n",
       "998             Conocido     Fuentes         Madrigal  Javier Guillermo   \n",
       "999             Conocido        Rios           Parada             Delia   \n",
       "\n",
       "                       Nombre_completo  \\\n",
       "0                                        \n",
       "1          Dolores Hernandez Hernandez   \n",
       "2                    Benjamin Estrada    \n",
       "3              Cristobal Serrano Perez   \n",
       "4              Alicia Ceballos Y Tagle   \n",
       "..                                 ...   \n",
       "995                                      \n",
       "996                                      \n",
       "997             Monica Hernandez Gomez   \n",
       "998  Javier Guillermo Fuentes Madrigal   \n",
       "999                  Delia Rios Parada   \n",
       "\n",
       "                                    Institución_origen Rdoc  \\\n",
       "0    INSTITUTO DE CIENCIAS FORENSES - TRIBUNAL SUPE...   Sí   \n",
       "1    INSTITUTO POLITÉCNICO NACIONAL - ESCUELA NACIO...   Sí   \n",
       "2    INSTITUTO POLITÉCNICO NACIONAL - ESCUELA NACIO...   Sí   \n",
       "3    INSTITUTO POLITÉCNICO NACIONAL - ESCUELA NACIO...   Sí   \n",
       "4                                                  S/D   Sí   \n",
       "..                                                 ...  ...   \n",
       "995  UNIVERSIDAD NACIONAL AUTÓNOMA DE MÉXICO - FACU...   Sí   \n",
       "996  UNIVERSIDAD NACIONAL AUTÓNOMA DE MÉXICO - FACU...   Sí   \n",
       "997  UNIVERSIDAD NACIONAL AUTÓNOMA DE MÉXICO - FACU...   Sí   \n",
       "998  INSTITUTO POLITÉCNICO NACIONAL - ESCUELA NACIO...   Sí   \n",
       "999  UNIVERSIDAD NACIONAL AUTÓNOMA DE MÉXICO - FACU...   Sí   \n",
       "\n",
       "     Datos_alternativos              Marca_temporal  \n",
       "0                   NaN         2020-10-05 15:09:07  \n",
       "1                   NaN         2020-10-21 15:09:34  \n",
       "2                   NaN         2020-10-21 15:09:34  \n",
       "3                   NaN         2020-10-21 15:09:34  \n",
       "4                   NaN         11/11/2020 12:07:59  \n",
       "..                  ...                         ...  \n",
       "995                 NaN  2021-03-29 18:35:05.733000  \n",
       "996                 NaN  2021-03-29 18:38:41.900000  \n",
       "997                 NaN  2021-03-29 18:44:38.680000  \n",
       "998                 NaN  2020-04-10 17:16:39.180000  \n",
       "999                 NaN  2021-03-29 18:52:20.472000  \n",
       "\n",
       "[1000 rows x 19 columns]"
      ]
     },
     "execution_count": 6,
     "metadata": {},
     "output_type": "execute_result"
    }
   ],
   "source": [
    "# !pip install pandas openpyxl\n",
    "# https://comisionacionaldebusqueda.gob.mx/modulo-de-fosas-comunes/\n",
    "# http://vita.had.co.nz/papers/tidy-data.pdf\n",
    "# https://pandas.pydata.org/pandas-docs/stable/\n",
    "\n",
    "import pandas as pd\n",
    "\n",
    "file_mfc = 'data_raw/Modulo-de-Fosas-Comunes_actualizacion09may2023_VD.xlsx'\n",
    "df = pd.read_excel(file_mfc, sheet_name='MFC', nrows=1000)\n",
    "df"
   ]
  },
  {
   "cell_type": "code",
   "execution_count": 7,
   "id": "a8b858c8",
   "metadata": {},
   "outputs": [
    {
     "data": {
      "text/plain": [
       "Index(['ID', 'Estado_origen', 'Municipio_origen', 'Panteón_origen',\n",
       "       'Estatus_FC', 'Fecha_inhumación', 'Fecha_defunción', 'Restos_tipo',\n",
       "       'Sexo', 'Edad', 'Conocido_Desconocido', 'Unnamed: 11',\n",
       "       'Segundo_apellido', 'Nombre(s)', 'Nombre_completo',\n",
       "       'Institución_origen', 'Rdoc', 'Datos_alternativos', 'Marca_temporal'],\n",
       "      dtype='object')"
      ]
     },
     "execution_count": 7,
     "metadata": {},
     "output_type": "execute_result"
    }
   ],
   "source": [
    "df.columns"
   ]
  },
  {
   "cell_type": "code",
   "execution_count": 9,
   "id": "d4ed67c0",
   "metadata": {},
   "outputs": [
    {
     "data": {
      "application/vnd.jupyter.widget-view+json": {
       "model_id": "13dee74ec9d345fdb45c195d685189e9",
       "version_major": 2,
       "version_minor": 0
      },
      "text/plain": [
       "Summarize dataset:   0%|          | 0/5 [00:00<?, ?it/s]"
      ]
     },
     "metadata": {},
     "output_type": "display_data"
    },
    {
     "data": {
      "application/vnd.jupyter.widget-view+json": {
       "model_id": "b2928616261e4fed864093bfd0997a92",
       "version_major": 2,
       "version_minor": 0
      },
      "text/plain": [
       "Generate report structure:   0%|          | 0/1 [00:00<?, ?it/s]"
      ]
     },
     "metadata": {},
     "output_type": "display_data"
    },
    {
     "data": {
      "application/vnd.jupyter.widget-view+json": {
       "model_id": "92c7267a09644da6a46a143f2ad6a9ec",
       "version_major": 2,
       "version_minor": 0
      },
      "text/plain": [
       "Render HTML:   0%|          | 0/1 [00:00<?, ?it/s]"
      ]
     },
     "metadata": {},
     "output_type": "display_data"
    },
    {
     "data": {
      "application/vnd.jupyter.widget-view+json": {
       "model_id": "b3752a67cfba485daaf500b3990527bf",
       "version_major": 2,
       "version_minor": 0
      },
      "text/plain": [
       "Export report to file:   0%|          | 0/1 [00:00<?, ?it/s]"
      ]
     },
     "metadata": {},
     "output_type": "display_data"
    }
   ],
   "source": [
    "# !pip install ydata_profiling\n",
    "\n",
    "from ydata_profiling import ProfileReport\n",
    "\n",
    "file_report = 'profiles/MFC_profile_short.html'\n",
    "prof = ProfileReport(df)\n",
    "prof.to_file(output_file=file_report)"
   ]
  },
  {
   "cell_type": "code",
   "execution_count": 10,
   "id": "09f35df5",
   "metadata": {},
   "outputs": [
    {
     "data": {
      "text/plain": [
       "0       21\n",
       "1       84\n",
       "2       75\n",
       "3      NaN\n",
       "4       81\n",
       "      ... \n",
       "995     25\n",
       "996     45\n",
       "997     40\n",
       "998     46\n",
       "999     75\n",
       "Name: Edad, Length: 1000, dtype: object"
      ]
     },
     "execution_count": 10,
     "metadata": {},
     "output_type": "execute_result"
    }
   ],
   "source": [
    "df['Edad']"
   ]
  },
  {
   "cell_type": "code",
   "execution_count": 11,
   "id": "1c41f960",
   "metadata": {},
   "outputs": [
    {
     "data": {
      "text/plain": [
       "0      21\n",
       "1      84\n",
       "2      75\n",
       "4      81\n",
       "5      11\n",
       "       ..\n",
       "995    25\n",
       "996    45\n",
       "997    40\n",
       "998    46\n",
       "999    75\n",
       "Name: Edad, Length: 594, dtype: object"
      ]
     },
     "execution_count": 11,
     "metadata": {},
     "output_type": "execute_result"
    }
   ],
   "source": [
    "df['Edad'].dropna()"
   ]
  },
  {
   "cell_type": "code",
   "execution_count": 12,
   "id": "85bd14d4",
   "metadata": {},
   "outputs": [
    {
     "data": {
      "text/plain": [
       "0      21.0\n",
       "1      84.0\n",
       "2      75.0\n",
       "4      81.0\n",
       "5      11.0\n",
       "       ... \n",
       "995    25.0\n",
       "996    45.0\n",
       "997    40.0\n",
       "998    46.0\n",
       "999    75.0\n",
       "Name: Edad, Length: 538, dtype: float64"
      ]
     },
     "execution_count": 12,
     "metadata": {},
     "output_type": "execute_result"
    }
   ],
   "source": [
    "df['Edad'] = pd.to_numeric(df['Edad'], errors='coerce')\n",
    "df['Edad'].dropna()"
   ]
  },
  {
   "cell_type": "code",
   "execution_count": 14,
   "id": "08669a93",
   "metadata": {},
   "outputs": [
    {
     "data": {
      "application/vnd.jupyter.widget-view+json": {
       "model_id": "b56f6eb530e2481595b73e48becaf842",
       "version_major": 2,
       "version_minor": 0
      },
      "text/plain": [
       "Summarize dataset:   0%|          | 0/5 [00:00<?, ?it/s]"
      ]
     },
     "metadata": {},
     "output_type": "display_data"
    },
    {
     "data": {
      "application/vnd.jupyter.widget-view+json": {
       "model_id": "cf3c7d69fb364799bc512b771f188a5f",
       "version_major": 2,
       "version_minor": 0
      },
      "text/plain": [
       "Generate report structure:   0%|          | 0/1 [00:00<?, ?it/s]"
      ]
     },
     "metadata": {},
     "output_type": "display_data"
    },
    {
     "data": {
      "application/vnd.jupyter.widget-view+json": {
       "model_id": "90034565ff754ba8a2c9e99256b33324",
       "version_major": 2,
       "version_minor": 0
      },
      "text/plain": [
       "Render HTML:   0%|          | 0/1 [00:00<?, ?it/s]"
      ]
     },
     "metadata": {},
     "output_type": "display_data"
    },
    {
     "data": {
      "application/vnd.jupyter.widget-view+json": {
       "model_id": "4ae0b13d41234ec9a0b21321d72a1abd",
       "version_major": 2,
       "version_minor": 0
      },
      "text/plain": [
       "Export report to file:   0%|          | 0/1 [00:00<?, ?it/s]"
      ]
     },
     "metadata": {},
     "output_type": "display_data"
    }
   ],
   "source": [
    "file_profile = 'profiles/MFC_profile_short_2.html'\n",
    "prof = ProfileReport(df)\n",
    "prof.to_file(output_file=file_profile)"
   ]
  },
  {
   "cell_type": "code",
   "execution_count": 17,
   "id": "0c4ddee3",
   "metadata": {},
   "outputs": [
    {
     "name": "stderr",
     "output_type": "stream",
     "text": [
      "/Library/Frameworks/Python.framework/Versions/3.10/lib/python3.10/site-packages/ydata_profiling/utils/dataframe.py:137: SettingWithCopyWarning: \n",
      "A value is trying to be set on a copy of a slice from a DataFrame\n",
      "\n",
      "See the caveats in the documentation: https://pandas.pydata.org/pandas-docs/stable/user_guide/indexing.html#returning-a-view-versus-a-copy\n",
      "  df.rename(columns={\"index\": \"df_index\"}, inplace=True)\n"
     ]
    },
    {
     "data": {
      "application/vnd.jupyter.widget-view+json": {
       "model_id": "81def582132e4734ad72427729a54c6f",
       "version_major": 2,
       "version_minor": 0
      },
      "text/plain": [
       "Summarize dataset:   0%|          | 0/5 [00:00<?, ?it/s]"
      ]
     },
     "metadata": {},
     "output_type": "display_data"
    },
    {
     "data": {
      "application/vnd.jupyter.widget-view+json": {
       "model_id": "06f54ca1ac824b38be1154b16984d675",
       "version_major": 2,
       "version_minor": 0
      },
      "text/plain": [
       "Summarize dataset:   0%|          | 0/5 [00:00<?, ?it/s]"
      ]
     },
     "metadata": {},
     "output_type": "display_data"
    },
    {
     "data": {
      "application/vnd.jupyter.widget-view+json": {
       "model_id": "fac4cf9ed5c84d94b1addc6c07ad2046",
       "version_major": 2,
       "version_minor": 0
      },
      "text/plain": [
       "Generate report structure:   0%|          | 0/1 [00:00<?, ?it/s]"
      ]
     },
     "metadata": {},
     "output_type": "display_data"
    },
    {
     "data": {
      "application/vnd.jupyter.widget-view+json": {
       "model_id": "f42009e1147c4c7c86cc5d30d9b8e554",
       "version_major": 2,
       "version_minor": 0
      },
      "text/plain": [
       "Render HTML:   0%|          | 0/1 [00:00<?, ?it/s]"
      ]
     },
     "metadata": {},
     "output_type": "display_data"
    },
    {
     "data": {
      "application/vnd.jupyter.widget-view+json": {
       "model_id": "f4c4e5ccf9054eeca53f36da6d3e02e2",
       "version_major": 2,
       "version_minor": 0
      },
      "text/plain": [
       "Export report to file:   0%|          | 0/1 [00:00<?, ?it/s]"
      ]
     },
     "metadata": {},
     "output_type": "display_data"
    }
   ],
   "source": [
    "from ydata_profiling import compare\n",
    "\n",
    "#df = df.drop('Fecha_exhumación', axis=1) # Esta línea es para evitar un error generado por el tipo de datos.\n",
    "\n",
    "df_masculino = df[df['Sexo']=='Masculino']\n",
    "prof_masculino = ProfileReport(df_masculino, title='Masculino')\n",
    "\n",
    "df_femenino = df[df['Sexo']=='Femenino']\n",
    "prof_femenino = ProfileReport(df_femenino, title='Femenino')\n",
    "\n",
    "file_compare = 'profiles/MFC_profile_compare.html'\n",
    "prof_comparison = compare([prof_masculino, prof_femenino])\n",
    "prof_comparison.to_file(file_compare)"
   ]
  },
  {
   "cell_type": "code",
   "execution_count": 32,
   "id": "9220de9d",
   "metadata": {},
   "outputs": [
    {
     "data": {
      "application/vnd.jupyter.widget-view+json": {
       "model_id": "356ac9d1261e4c82a86b5e1f3f529b54",
       "version_major": 2,
       "version_minor": 0
      },
      "text/plain": [
       "Summarize dataset:   0%|          | 0/5 [00:00<?, ?it/s]"
      ]
     },
     "metadata": {},
     "output_type": "display_data"
    },
    {
     "data": {
      "application/vnd.jupyter.widget-view+json": {
       "model_id": "eab15e1cd572493e8b76d953b8a9a623",
       "version_major": 2,
       "version_minor": 0
      },
      "text/plain": [
       "Generate report structure:   0%|          | 0/1 [00:00<?, ?it/s]"
      ]
     },
     "metadata": {},
     "output_type": "display_data"
    },
    {
     "data": {
      "application/vnd.jupyter.widget-view+json": {
       "model_id": "ca34bcf7c8674278968d14b32b97fd00",
       "version_major": 2,
       "version_minor": 0
      },
      "text/plain": [
       "Render HTML:   0%|          | 0/1 [00:00<?, ?it/s]"
      ]
     },
     "metadata": {},
     "output_type": "display_data"
    },
    {
     "data": {
      "application/vnd.jupyter.widget-view+json": {
       "model_id": "66854c6e15644e0c87c827398661d304",
       "version_major": 2,
       "version_minor": 0
      },
      "text/plain": [
       "Export report to file:   0%|          | 0/1 [00:00<?, ?it/s]"
      ]
     },
     "metadata": {},
     "output_type": "display_data"
    }
   ],
   "source": [
    "# Este código toma el diccionario de datos y obtiene el nombre de la variable y descripción\n",
    "dic_datos = pd.read_excel(file_mfc, sheet_name='Diccionario', header=2)\n",
    "dic_datos = dic_datos[['Variable', 'Descripción operativa']].dropna()\n",
    "dic_datos = dict(zip(dic_datos['Variable'], dic_datos['Descripción operativa']))\n",
    "\n",
    "# Este código genera el reporte\n",
    "prof_special = df.profile_report(\n",
    "    title = 'Módulo de fosas comunes',         # Título\n",
    "    dataset = {                                # Metadatos\n",
    "        \"descripcion\": \"Primeros mil registros del Módulo de Fosas Comunes\",\n",
    "        \"author\": \"Comisión Nacional de Búsqueda\",\n",
    "        \"url\": \"https://comisionacionaldebusqueda.gob.mx/modulo-de-fosas-comunes/\",\n",
    "    },\n",
    "    variables = { \"descriptions\": dic_datos }, # Descripción de las variables\n",
    "    minimal = True,                            # Profile mínimo para conjunto de datos grandes\n",
    "    correlations = None,                       # Quitar correlaciones\n",
    "    sensitive = True,                          # Ocultar información desagregada\n",
    ")\n",
    "\n",
    "file_special = 'profiles/MFC_profile_special.html'\n",
    "prof_special.to_file(output_file=file_special)"
   ]
  },
  {
   "cell_type": "markdown",
   "id": "1ce24cb9",
   "metadata": {},
   "source": [
    "Realiza el primer profile de tu conjunto de datos. No es necesario hacerle ninguna modificación especial al archivo.\n",
    "\n",
    "**Gracias!**"
   ]
  },
  {
   "cell_type": "code",
   "execution_count": 10,
   "id": "165f2f53",
   "metadata": {},
   "outputs": [
    {
     "data": {
      "text/html": [
       "<div>\n",
       "<style scoped>\n",
       "    .dataframe tbody tr th:only-of-type {\n",
       "        vertical-align: middle;\n",
       "    }\n",
       "\n",
       "    .dataframe tbody tr th {\n",
       "        vertical-align: top;\n",
       "    }\n",
       "\n",
       "    .dataframe thead th {\n",
       "        text-align: right;\n",
       "    }\n",
       "</style>\n",
       "<table border=\"1\" class=\"dataframe\">\n",
       "  <thead>\n",
       "    <tr style=\"text-align: right;\">\n",
       "      <th></th>\n",
       "      <th>H</th>\n",
       "      <th>1</th>\n",
       "      <th></th>\n",
       "      <th>00 00 00.22</th>\n",
       "      <th>+01 05 20.4</th>\n",
       "      <th>9.10</th>\n",
       "      <th>.1</th>\n",
       "      <th>H.1</th>\n",
       "      <th>000.00091185</th>\n",
       "      <th>+01.08901332</th>\n",
       "      <th>...</th>\n",
       "      <th>S</th>\n",
       "      <th>.13</th>\n",
       "      <th>.14</th>\n",
       "      <th>224700</th>\n",
       "      <th>B+00 5077</th>\n",
       "      <th>.1</th>\n",
       "      <th>.2</th>\n",
       "      <th>0.66</th>\n",
       "      <th>F5</th>\n",
       "      <th>S</th>\n",
       "    </tr>\n",
       "  </thead>\n",
       "  <tbody>\n",
       "    <tr>\n",
       "      <th>0</th>\n",
       "      <td>H</td>\n",
       "      <td>2</td>\n",
       "      <td></td>\n",
       "      <td>00 00 00.91</td>\n",
       "      <td>-19 29 55.8</td>\n",
       "      <td>9.27</td>\n",
       "      <td></td>\n",
       "      <td>G</td>\n",
       "      <td>000.00379737</td>\n",
       "      <td>-19.49883745</td>\n",
       "      <td>...</td>\n",
       "      <td></td>\n",
       "      <td></td>\n",
       "      <td></td>\n",
       "      <td>224690</td>\n",
       "      <td>B-20 6688</td>\n",
       "      <td></td>\n",
       "      <td></td>\n",
       "      <td>1.04</td>\n",
       "      <td>K3V</td>\n",
       "      <td>4</td>\n",
       "    </tr>\n",
       "    <tr>\n",
       "      <th>1</th>\n",
       "      <td>H</td>\n",
       "      <td>3</td>\n",
       "      <td></td>\n",
       "      <td>00 00 01.20</td>\n",
       "      <td>+38 51 33.4</td>\n",
       "      <td>6.61</td>\n",
       "      <td></td>\n",
       "      <td>G</td>\n",
       "      <td>000.00500795</td>\n",
       "      <td>+38.85928608</td>\n",
       "      <td>...</td>\n",
       "      <td>S</td>\n",
       "      <td></td>\n",
       "      <td></td>\n",
       "      <td>224699</td>\n",
       "      <td>B+38 5108</td>\n",
       "      <td></td>\n",
       "      <td></td>\n",
       "      <td>0.00</td>\n",
       "      <td>B9</td>\n",
       "      <td>S</td>\n",
       "    </tr>\n",
       "    <tr>\n",
       "      <th>2</th>\n",
       "      <td>H</td>\n",
       "      <td>4</td>\n",
       "      <td></td>\n",
       "      <td>00 00 02.01</td>\n",
       "      <td>-51 53 36.8</td>\n",
       "      <td>8.06</td>\n",
       "      <td></td>\n",
       "      <td>H</td>\n",
       "      <td>000.00838170</td>\n",
       "      <td>-51.89354612</td>\n",
       "      <td>...</td>\n",
       "      <td>S</td>\n",
       "      <td></td>\n",
       "      <td></td>\n",
       "      <td>224707</td>\n",
       "      <td></td>\n",
       "      <td></td>\n",
       "      <td>P-52 12237</td>\n",
       "      <td>0.43</td>\n",
       "      <td>F0V</td>\n",
       "      <td>2</td>\n",
       "    </tr>\n",
       "    <tr>\n",
       "      <th>3</th>\n",
       "      <td>H</td>\n",
       "      <td>5</td>\n",
       "      <td></td>\n",
       "      <td>00 00 02.39</td>\n",
       "      <td>-40 35 28.4</td>\n",
       "      <td>8.55</td>\n",
       "      <td></td>\n",
       "      <td>H</td>\n",
       "      <td>000.00996534</td>\n",
       "      <td>-40.59122440</td>\n",
       "      <td>...</td>\n",
       "      <td></td>\n",
       "      <td></td>\n",
       "      <td></td>\n",
       "      <td>224705</td>\n",
       "      <td></td>\n",
       "      <td>C-41 15372</td>\n",
       "      <td>P-41  9991</td>\n",
       "      <td>0.95</td>\n",
       "      <td>G8III</td>\n",
       "      <td>2</td>\n",
       "    </tr>\n",
       "    <tr>\n",
       "      <th>4</th>\n",
       "      <td>H</td>\n",
       "      <td>6</td>\n",
       "      <td></td>\n",
       "      <td>00 00 04.35</td>\n",
       "      <td>+03 56 47.4</td>\n",
       "      <td>12.31</td>\n",
       "      <td></td>\n",
       "      <td>G</td>\n",
       "      <td>000.01814144</td>\n",
       "      <td>+03.94648893</td>\n",
       "      <td>...</td>\n",
       "      <td></td>\n",
       "      <td>G</td>\n",
       "      <td></td>\n",
       "      <td></td>\n",
       "      <td></td>\n",
       "      <td></td>\n",
       "      <td></td>\n",
       "      <td>1.55</td>\n",
       "      <td>M0V:</td>\n",
       "      <td>S</td>\n",
       "    </tr>\n",
       "    <tr>\n",
       "      <th>...</th>\n",
       "      <td>...</td>\n",
       "      <td>...</td>\n",
       "      <td>...</td>\n",
       "      <td>...</td>\n",
       "      <td>...</td>\n",
       "      <td>...</td>\n",
       "      <td>...</td>\n",
       "      <td>...</td>\n",
       "      <td>...</td>\n",
       "      <td>...</td>\n",
       "      <td>...</td>\n",
       "      <td>...</td>\n",
       "      <td>...</td>\n",
       "      <td>...</td>\n",
       "      <td>...</td>\n",
       "      <td>...</td>\n",
       "      <td>...</td>\n",
       "      <td>...</td>\n",
       "      <td>...</td>\n",
       "      <td>...</td>\n",
       "      <td>...</td>\n",
       "    </tr>\n",
       "    <tr>\n",
       "      <th>995</th>\n",
       "      <td>H</td>\n",
       "      <td>998</td>\n",
       "      <td></td>\n",
       "      <td>00 12 29.95</td>\n",
       "      <td>+32 12 14.1</td>\n",
       "      <td>8.88</td>\n",
       "      <td></td>\n",
       "      <td>H</td>\n",
       "      <td>003.12479109</td>\n",
       "      <td>+32.20391674</td>\n",
       "      <td>...</td>\n",
       "      <td></td>\n",
       "      <td></td>\n",
       "      <td></td>\n",
       "      <td>803</td>\n",
       "      <td>B+31   12</td>\n",
       "      <td></td>\n",
       "      <td></td>\n",
       "      <td>0.01</td>\n",
       "      <td>A0</td>\n",
       "      <td>S</td>\n",
       "    </tr>\n",
       "    <tr>\n",
       "      <th>996</th>\n",
       "      <td>H</td>\n",
       "      <td>999</td>\n",
       "      <td></td>\n",
       "      <td>00 12 30.12</td>\n",
       "      <td>+14 33 49.3</td>\n",
       "      <td>8.44</td>\n",
       "      <td>2</td>\n",
       "      <td>H</td>\n",
       "      <td>003.12549160</td>\n",
       "      <td>+14.56369614</td>\n",
       "      <td>...</td>\n",
       "      <td></td>\n",
       "      <td></td>\n",
       "      <td>P</td>\n",
       "      <td></td>\n",
       "      <td>B+13   13</td>\n",
       "      <td></td>\n",
       "      <td></td>\n",
       "      <td>0.84</td>\n",
       "      <td>K0</td>\n",
       "      <td>S</td>\n",
       "    </tr>\n",
       "    <tr>\n",
       "      <th>997</th>\n",
       "      <td>H</td>\n",
       "      <td>1000</td>\n",
       "      <td></td>\n",
       "      <td>00 12 30.13</td>\n",
       "      <td>-22 04 01.5</td>\n",
       "      <td>8.73</td>\n",
       "      <td></td>\n",
       "      <td>G</td>\n",
       "      <td>003.12556151</td>\n",
       "      <td>-22.06708268</td>\n",
       "      <td>...</td>\n",
       "      <td></td>\n",
       "      <td></td>\n",
       "      <td></td>\n",
       "      <td>812</td>\n",
       "      <td>B-22   23</td>\n",
       "      <td>C-22    30</td>\n",
       "      <td>P-22    14</td>\n",
       "      <td>0.76</td>\n",
       "      <td>K0V+...</td>\n",
       "      <td>4</td>\n",
       "    </tr>\n",
       "    <tr>\n",
       "      <th>998</th>\n",
       "      <td>H</td>\n",
       "      <td>1001</td>\n",
       "      <td>H</td>\n",
       "      <td>00 12 30.94</td>\n",
       "      <td>-32 19 15.0</td>\n",
       "      <td>9.12</td>\n",
       "      <td></td>\n",
       "      <td>G</td>\n",
       "      <td>003.12892949</td>\n",
       "      <td>-32.32082372</td>\n",
       "      <td>...</td>\n",
       "      <td></td>\n",
       "      <td></td>\n",
       "      <td></td>\n",
       "      <td>824</td>\n",
       "      <td></td>\n",
       "      <td>C-33    42</td>\n",
       "      <td>P-33    18</td>\n",
       "      <td>0.54</td>\n",
       "      <td>F3V</td>\n",
       "      <td>3</td>\n",
       "    </tr>\n",
       "    <tr>\n",
       "      <th>999</th>\n",
       "      <td>H</td>\n",
       "      <td>1002</td>\n",
       "      <td></td>\n",
       "      <td>00 12 31.96</td>\n",
       "      <td>-52 20 00.2</td>\n",
       "      <td>9.23</td>\n",
       "      <td></td>\n",
       "      <td>H</td>\n",
       "      <td>003.13317674</td>\n",
       "      <td>-52.33337574</td>\n",
       "      <td>...</td>\n",
       "      <td></td>\n",
       "      <td></td>\n",
       "      <td></td>\n",
       "      <td>838</td>\n",
       "      <td></td>\n",
       "      <td></td>\n",
       "      <td>P-53    26</td>\n",
       "      <td>1.02</td>\n",
       "      <td>K0III</td>\n",
       "      <td>1</td>\n",
       "    </tr>\n",
       "  </tbody>\n",
       "</table>\n",
       "<p>1000 rows × 78 columns</p>\n",
       "</div>"
      ],
      "text/plain": [
       "     H             1     00 00 00.22  +01 05 20.4   9.10  .1 H.1  \\\n",
       "0    H             2     00 00 00.91  -19 29 55.8   9.27       G   \n",
       "1    H             3     00 00 01.20  +38 51 33.4   6.61       G   \n",
       "2    H             4     00 00 02.01  -51 53 36.8   8.06       H   \n",
       "3    H             5     00 00 02.39  -40 35 28.4   8.55       H   \n",
       "4    H             6     00 00 04.35  +03 56 47.4  12.31       G   \n",
       "..  ..           ... ..          ...          ...    ...  ..  ..   \n",
       "995  H           998     00 12 29.95  +32 12 14.1   8.88       H   \n",
       "996  H           999     00 12 30.12  +14 33 49.3   8.44   2   H   \n",
       "997  H          1000     00 12 30.13  -22 04 01.5   8.73       G   \n",
       "998  H          1001  H  00 12 30.94  -32 19 15.0   9.12       G   \n",
       "999  H          1002     00 12 31.96  -52 20 00.2   9.23       H   \n",
       "\n",
       "     000.00091185  +01.08901332  ...  S  .13  .14  224700  B+00 5077   \\\n",
       "0    000.00379737  -19.49883745  ...               224690  B-20 6688    \n",
       "1    000.00500795  +38.85928608  ...  S            224699  B+38 5108    \n",
       "2    000.00838170  -51.89354612  ...  S            224707               \n",
       "3    000.00996534  -40.59122440  ...               224705               \n",
       "4    000.01814144  +03.94648893  ...       G                            \n",
       "..            ...           ...  ... ..  ...  ...     ...         ...   \n",
       "995  003.12479109  +32.20391674  ...                  803  B+31   12    \n",
       "996  003.12549160  +14.56369614  ...            P          B+13   13    \n",
       "997  003.12556151  -22.06708268  ...                  812  B-22   23    \n",
       "998  003.12892949  -32.32082372  ...                  824               \n",
       "999  003.13317674  -52.33337574  ...                  838               \n",
       "\n",
       "              .1           .2  0.66  F5            S   \n",
       "0                              1.04  K3V           4   \n",
       "1                              0.00  B9            S   \n",
       "2                  P-52 12237  0.43  F0V           2   \n",
       "3     C-41 15372   P-41  9991  0.95  G8III         2   \n",
       "4                              1.55  M0V:          S   \n",
       "..           ...          ...   ...           ...  ..  \n",
       "995                            0.01  A0            S   \n",
       "996                            0.84  K0            S   \n",
       "997   C-22    30   P-22    14  0.76  K0V+...       4   \n",
       "998   C-33    42   P-33    18  0.54  F3V           3   \n",
       "999                P-53    26  1.02  K0III         1   \n",
       "\n",
       "[1000 rows x 78 columns]"
      ]
     },
     "execution_count": 10,
     "metadata": {},
     "output_type": "execute_result"
    }
   ],
   "source": [
    "import pandas as pd\n",
    "\n",
    "file_hip = 'data_raw/hip_main.dat'\n",
    "dataframe = pd.read_csv(file_hip, sep='|', nrows=1000)\n",
    "dataframe"
   ]
  },
  {
   "cell_type": "code",
   "execution_count": 11,
   "id": "2e9b4163",
   "metadata": {},
   "outputs": [
    {
     "data": {
      "application/vnd.jupyter.widget-view+json": {
       "model_id": "4a77b17cc6cb4ca69c7b43285c7223da",
       "version_major": 2,
       "version_minor": 0
      },
      "text/plain": [
       "Summarize dataset:   0%|          | 0/5 [00:00<?, ?it/s]"
      ]
     },
     "metadata": {},
     "output_type": "display_data"
    },
    {
     "data": {
      "application/vnd.jupyter.widget-view+json": {
       "model_id": "7c9affbf75764fcb8b1a260cde77ef95",
       "version_major": 2,
       "version_minor": 0
      },
      "text/plain": [
       "Generate report structure:   0%|          | 0/1 [00:00<?, ?it/s]"
      ]
     },
     "metadata": {},
     "output_type": "display_data"
    },
    {
     "data": {
      "application/vnd.jupyter.widget-view+json": {
       "model_id": "2de536755ac8432f9ea212b165439388",
       "version_major": 2,
       "version_minor": 0
      },
      "text/plain": [
       "Render HTML:   0%|          | 0/1 [00:00<?, ?it/s]"
      ]
     },
     "metadata": {},
     "output_type": "display_data"
    },
    {
     "data": {
      "application/vnd.jupyter.widget-view+json": {
       "model_id": "41d7f602c5ec46509d8261ddc5daf4db",
       "version_major": 2,
       "version_minor": 0
      },
      "text/plain": [
       "Export report to file:   0%|          | 0/1 [00:00<?, ?it/s]"
      ]
     },
     "metadata": {},
     "output_type": "display_data"
    }
   ],
   "source": [
    "from ydata_profiling import ProfileReport\n",
    "\n",
    "file_report = 'profiles/HIP_profile_short.html'\n",
    "prof = ProfileReport(dataframe)\n",
    "prof.to_file(output_file=file_report)"
   ]
  },
  {
   "cell_type": "code",
   "execution_count": null,
   "id": "752beebf",
   "metadata": {},
   "outputs": [],
   "source": []
  }
 ],
 "metadata": {
  "kernelspec": {
   "display_name": "Python 3 (ipykernel)",
   "language": "python",
   "name": "python3"
  },
  "language_info": {
   "codemirror_mode": {
    "name": "ipython",
    "version": 3
   },
   "file_extension": ".py",
   "mimetype": "text/x-python",
   "name": "python",
   "nbconvert_exporter": "python",
   "pygments_lexer": "ipython3",
   "version": "3.10.11"
  }
 },
 "nbformat": 4,
 "nbformat_minor": 5
}
