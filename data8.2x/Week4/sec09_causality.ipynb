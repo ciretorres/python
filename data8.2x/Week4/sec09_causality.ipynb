{
 "cells": [
  {
   "cell_type": "code",
   "execution_count": 1,
   "id": "ddd1787c",
   "metadata": {},
   "outputs": [],
   "source": [
    "from datascience import *\n",
    "import numpy as np\n",
    "\n",
    "%matplotlib inline\n",
    "import matplotlib.pyplot as plots\n",
    "plots.style.use('fivethirtyeight')"
   ]
  },
  {
   "cell_type": "code",
   "execution_count": 2,
   "id": "53b89362",
   "metadata": {},
   "outputs": [
    {
     "data": {
      "text/html": [
       "<table border=\"1\" class=\"dataframe\">\n",
       "    <thead>\n",
       "        <tr>\n",
       "            <th>Group</th> <th>Result</th>\n",
       "        </tr>\n",
       "    </thead>\n",
       "    <tbody>\n",
       "        <tr>\n",
       "            <td>Control  </td> <td>1     </td>\n",
       "        </tr>\n",
       "        <tr>\n",
       "            <td>Control  </td> <td>1     </td>\n",
       "        </tr>\n",
       "        <tr>\n",
       "            <td>Control  </td> <td>0     </td>\n",
       "        </tr>\n",
       "        <tr>\n",
       "            <td>Control  </td> <td>0     </td>\n",
       "        </tr>\n",
       "        <tr>\n",
       "            <td>Control  </td> <td>0     </td>\n",
       "        </tr>\n",
       "        <tr>\n",
       "            <td>Control  </td> <td>0     </td>\n",
       "        </tr>\n",
       "        <tr>\n",
       "            <td>Control  </td> <td>0     </td>\n",
       "        </tr>\n",
       "        <tr>\n",
       "            <td>Control  </td> <td>0     </td>\n",
       "        </tr>\n",
       "        <tr>\n",
       "            <td>Control  </td> <td>0     </td>\n",
       "        </tr>\n",
       "        <tr>\n",
       "            <td>Control  </td> <td>0     </td>\n",
       "        </tr>\n",
       "        <tr>\n",
       "            <td>Control  </td> <td>0     </td>\n",
       "        </tr>\n",
       "        <tr>\n",
       "            <td>Control  </td> <td>0     </td>\n",
       "        </tr>\n",
       "        <tr>\n",
       "            <td>Control  </td> <td>0     </td>\n",
       "        </tr>\n",
       "        <tr>\n",
       "            <td>Control  </td> <td>0     </td>\n",
       "        </tr>\n",
       "        <tr>\n",
       "            <td>Control  </td> <td>0     </td>\n",
       "        </tr>\n",
       "        <tr>\n",
       "            <td>Control  </td> <td>0     </td>\n",
       "        </tr>\n",
       "        <tr>\n",
       "            <td>Treatment</td> <td>1     </td>\n",
       "        </tr>\n",
       "        <tr>\n",
       "            <td>Treatment</td> <td>1     </td>\n",
       "        </tr>\n",
       "        <tr>\n",
       "            <td>Treatment</td> <td>1     </td>\n",
       "        </tr>\n",
       "        <tr>\n",
       "            <td>Treatment</td> <td>1     </td>\n",
       "        </tr>\n",
       "        <tr>\n",
       "            <td>Treatment</td> <td>1     </td>\n",
       "        </tr>\n",
       "        <tr>\n",
       "            <td>Treatment</td> <td>1     </td>\n",
       "        </tr>\n",
       "        <tr>\n",
       "            <td>Treatment</td> <td>1     </td>\n",
       "        </tr>\n",
       "        <tr>\n",
       "            <td>Treatment</td> <td>1     </td>\n",
       "        </tr>\n",
       "        <tr>\n",
       "            <td>Treatment</td> <td>1     </td>\n",
       "        </tr>\n",
       "        <tr>\n",
       "            <td>Treatment</td> <td>0     </td>\n",
       "        </tr>\n",
       "        <tr>\n",
       "            <td>Treatment</td> <td>0     </td>\n",
       "        </tr>\n",
       "        <tr>\n",
       "            <td>Treatment</td> <td>0     </td>\n",
       "        </tr>\n",
       "        <tr>\n",
       "            <td>Treatment</td> <td>0     </td>\n",
       "        </tr>\n",
       "        <tr>\n",
       "            <td>Treatment</td> <td>0     </td>\n",
       "        </tr>\n",
       "        <tr>\n",
       "            <td>Treatment</td> <td>0     </td>\n",
       "        </tr>\n",
       "    </tbody>\n",
       "</table>"
      ],
      "text/plain": [
       "<IPython.core.display.HTML object>"
      ]
     },
     "metadata": {},
     "output_type": "display_data"
    }
   ],
   "source": [
    "bta = Table.read_table('bta.csv')\n",
    "bta.show()"
   ]
  },
  {
   "cell_type": "code",
   "execution_count": 3,
   "id": "87f3edd9",
   "metadata": {},
   "outputs": [
    {
     "data": {
      "text/html": [
       "<table border=\"1\" class=\"dataframe\">\n",
       "    <thead>\n",
       "        <tr>\n",
       "            <th>Group</th> <th>count</th>\n",
       "        </tr>\n",
       "    </thead>\n",
       "    <tbody>\n",
       "        <tr>\n",
       "            <td>Control  </td> <td>16   </td>\n",
       "        </tr>\n",
       "        <tr>\n",
       "            <td>Treatment</td> <td>15   </td>\n",
       "        </tr>\n",
       "    </tbody>\n",
       "</table>"
      ],
      "text/plain": [
       "Group     | count\n",
       "Control   | 16\n",
       "Treatment | 15"
      ]
     },
     "execution_count": 3,
     "metadata": {},
     "output_type": "execute_result"
    }
   ],
   "source": [
    "bta.group('Group')"
   ]
  },
  {
   "cell_type": "code",
   "execution_count": 4,
   "id": "7069d9c1",
   "metadata": {},
   "outputs": [
    {
     "data": {
      "text/html": [
       "<table border=\"1\" class=\"dataframe\">\n",
       "    <thead>\n",
       "        <tr>\n",
       "            <th>Group</th> <th>Result sum</th>\n",
       "        </tr>\n",
       "    </thead>\n",
       "    <tbody>\n",
       "        <tr>\n",
       "            <td>Control  </td> <td>2         </td>\n",
       "        </tr>\n",
       "        <tr>\n",
       "            <td>Treatment</td> <td>9         </td>\n",
       "        </tr>\n",
       "    </tbody>\n",
       "</table>"
      ],
      "text/plain": [
       "Group     | Result sum\n",
       "Control   | 2\n",
       "Treatment | 9"
      ]
     },
     "execution_count": 4,
     "metadata": {},
     "output_type": "execute_result"
    }
   ],
   "source": [
    "bta.group('Group', sum)"
   ]
  },
  {
   "cell_type": "code",
   "execution_count": 5,
   "id": "9bc185b5",
   "metadata": {},
   "outputs": [
    {
     "data": {
      "text/html": [
       "<table border=\"1\" class=\"dataframe\">\n",
       "    <thead>\n",
       "        <tr>\n",
       "            <th>Group</th> <th>Result average</th>\n",
       "        </tr>\n",
       "    </thead>\n",
       "    <tbody>\n",
       "        <tr>\n",
       "            <td>Control  </td> <td>0.125         </td>\n",
       "        </tr>\n",
       "        <tr>\n",
       "            <td>Treatment</td> <td>0.6           </td>\n",
       "        </tr>\n",
       "    </tbody>\n",
       "</table>"
      ],
      "text/plain": [
       "Group     | Result average\n",
       "Control   | 0.125\n",
       "Treatment | 0.6"
      ]
     },
     "execution_count": 5,
     "metadata": {},
     "output_type": "execute_result"
    }
   ],
   "source": [
    "bta.group('Group', np.average)"
   ]
  },
  {
   "cell_type": "code",
   "execution_count": null,
   "id": "dc1d6cab",
   "metadata": {},
   "outputs": [],
   "source": []
  }
 ],
 "metadata": {
  "kernelspec": {
   "display_name": "Python 3 (ipykernel)",
   "language": "python",
   "name": "python3"
  },
  "language_info": {
   "codemirror_mode": {
    "name": "ipython",
    "version": 3
   },
   "file_extension": ".py",
   "mimetype": "text/x-python",
   "name": "python",
   "nbconvert_exporter": "python",
   "pygments_lexer": "ipython3",
   "version": "3.7.6"
  }
 },
 "nbformat": 4,
 "nbformat_minor": 5
}
