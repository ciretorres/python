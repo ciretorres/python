{
 "cells": [
  {
   "cell_type": "code",
   "execution_count": 29,
   "id": "316e9f9f",
   "metadata": {},
   "outputs": [],
   "source": [
    "from datascience import *\n",
    "import numpy as np\n",
    "\n",
    "%matplotlib inline\n",
    "import matplotlib.pyplot as plots\n",
    "plots.style.use('fivethirtyeight')"
   ]
  },
  {
   "cell_type": "code",
   "execution_count": 31,
   "id": "8b84cfbe",
   "metadata": {},
   "outputs": [
    {
     "data": {
      "text/html": [
       "<table border=\"1\" class=\"dataframe\">\n",
       "    <thead>\n",
       "        <tr>\n",
       "            <th>Birth Weight</th> <th>Gestational Days</th> <th>parity</th> <th>Maternal Age</th> <th>Maternal Height</th> <th>Maternal Pregnancy weight</th> <th>Maternal Smoker</th>\n",
       "        </tr>\n",
       "    </thead>\n",
       "    <tbody>\n",
       "        <tr>\n",
       "            <td>120         </td> <td>284             </td> <td>0     </td> <td>27          </td> <td>62             </td> <td>100                      </td> <td>0              </td>\n",
       "        </tr>\n",
       "        <tr>\n",
       "            <td>113         </td> <td>282             </td> <td>0     </td> <td>33          </td> <td>64             </td> <td>135                      </td> <td>0              </td>\n",
       "        </tr>\n",
       "        <tr>\n",
       "            <td>128         </td> <td>279             </td> <td>0     </td> <td>28          </td> <td>64             </td> <td>115                      </td> <td>1              </td>\n",
       "        </tr>\n",
       "        <tr>\n",
       "            <td>123         </td> <td>999             </td> <td>0     </td> <td>36          </td> <td>69             </td> <td>190                      </td> <td>0              </td>\n",
       "        </tr>\n",
       "        <tr>\n",
       "            <td>108         </td> <td>282             </td> <td>0     </td> <td>23          </td> <td>67             </td> <td>125                      </td> <td>1              </td>\n",
       "        </tr>\n",
       "        <tr>\n",
       "            <td>136         </td> <td>286             </td> <td>0     </td> <td>25          </td> <td>62             </td> <td>93                       </td> <td>0              </td>\n",
       "        </tr>\n",
       "        <tr>\n",
       "            <td>138         </td> <td>244             </td> <td>0     </td> <td>33          </td> <td>62             </td> <td>178                      </td> <td>0              </td>\n",
       "        </tr>\n",
       "        <tr>\n",
       "            <td>132         </td> <td>245             </td> <td>0     </td> <td>23          </td> <td>65             </td> <td>140                      </td> <td>0              </td>\n",
       "        </tr>\n",
       "        <tr>\n",
       "            <td>120         </td> <td>289             </td> <td>0     </td> <td>25          </td> <td>62             </td> <td>125                      </td> <td>0              </td>\n",
       "        </tr>\n",
       "        <tr>\n",
       "            <td>143         </td> <td>299             </td> <td>0     </td> <td>30          </td> <td>66             </td> <td>136                      </td> <td>1              </td>\n",
       "        </tr>\n",
       "    </tbody>\n",
       "</table>\n",
       "<p>... (1226 rows omitted)</p>"
      ],
      "text/plain": [
       "Birth Weight | Gestational Days | parity | Maternal Age | Maternal Height | Maternal Pregnancy weight | Maternal Smoker\n",
       "120          | 284              | 0      | 27           | 62              | 100                       | 0\n",
       "113          | 282              | 0      | 33           | 64              | 135                       | 0\n",
       "128          | 279              | 0      | 28           | 64              | 115                       | 1\n",
       "123          | 999              | 0      | 36           | 69              | 190                       | 0\n",
       "108          | 282              | 0      | 23           | 67              | 125                       | 1\n",
       "136          | 286              | 0      | 25           | 62              | 93                        | 0\n",
       "138          | 244              | 0      | 33           | 62              | 178                       | 0\n",
       "132          | 245              | 0      | 23           | 65              | 140                       | 0\n",
       "120          | 289              | 0      | 25           | 62              | 125                       | 0\n",
       "143          | 299              | 0      | 30           | 66              | 136                       | 1\n",
       "... (1226 rows omitted)"
      ]
     },
     "execution_count": 31,
     "metadata": {},
     "output_type": "execute_result"
    }
   ],
   "source": [
    "baby = Table.read_table('baby.csv')\n",
    "baby"
   ]
  },
  {
   "cell_type": "code",
   "execution_count": 32,
   "id": "baeed77b",
   "metadata": {},
   "outputs": [
    {
     "data": {
      "text/html": [
       "<table border=\"1\" class=\"dataframe\">\n",
       "    <thead>\n",
       "        <tr>\n",
       "            <th>Maternal Smoker</th> <th>Birth Weight</th>\n",
       "        </tr>\n",
       "    </thead>\n",
       "    <tbody>\n",
       "        <tr>\n",
       "            <td>0              </td> <td>120         </td>\n",
       "        </tr>\n",
       "        <tr>\n",
       "            <td>0              </td> <td>113         </td>\n",
       "        </tr>\n",
       "        <tr>\n",
       "            <td>1              </td> <td>128         </td>\n",
       "        </tr>\n",
       "        <tr>\n",
       "            <td>0              </td> <td>123         </td>\n",
       "        </tr>\n",
       "        <tr>\n",
       "            <td>1              </td> <td>108         </td>\n",
       "        </tr>\n",
       "        <tr>\n",
       "            <td>0              </td> <td>136         </td>\n",
       "        </tr>\n",
       "        <tr>\n",
       "            <td>0              </td> <td>138         </td>\n",
       "        </tr>\n",
       "        <tr>\n",
       "            <td>0              </td> <td>132         </td>\n",
       "        </tr>\n",
       "        <tr>\n",
       "            <td>0              </td> <td>120         </td>\n",
       "        </tr>\n",
       "        <tr>\n",
       "            <td>1              </td> <td>143         </td>\n",
       "        </tr>\n",
       "    </tbody>\n",
       "</table>\n",
       "<p>... (1226 rows omitted)</p>"
      ],
      "text/plain": [
       "Maternal Smoker | Birth Weight\n",
       "0               | 120\n",
       "0               | 113\n",
       "1               | 128\n",
       "0               | 123\n",
       "1               | 108\n",
       "0               | 136\n",
       "0               | 138\n",
       "0               | 132\n",
       "0               | 120\n",
       "1               | 143\n",
       "... (1226 rows omitted)"
      ]
     },
     "execution_count": 32,
     "metadata": {},
     "output_type": "execute_result"
    }
   ],
   "source": [
    "smoking_and_birthweight = baby.select('Maternal Smoker', 'Birth Weight')\n",
    "smoking_and_birthweight"
   ]
  },
  {
   "cell_type": "code",
   "execution_count": 33,
   "id": "331a4836",
   "metadata": {},
   "outputs": [
    {
     "data": {
      "text/html": [
       "<table border=\"1\" class=\"dataframe\">\n",
       "    <thead>\n",
       "        <tr>\n",
       "            <th>Maternal Smoker</th> <th>count</th>\n",
       "        </tr>\n",
       "    </thead>\n",
       "    <tbody>\n",
       "        <tr>\n",
       "            <td>0              </td> <td>742  </td>\n",
       "        </tr>\n",
       "        <tr>\n",
       "            <td>1              </td> <td>484  </td>\n",
       "        </tr>\n",
       "        <tr>\n",
       "            <td>9              </td> <td>10   </td>\n",
       "        </tr>\n",
       "    </tbody>\n",
       "</table>"
      ],
      "text/plain": [
       "Maternal Smoker | count\n",
       "0               | 742\n",
       "1               | 484\n",
       "9               | 10"
      ]
     },
     "execution_count": 33,
     "metadata": {},
     "output_type": "execute_result"
    }
   ],
   "source": [
    "smoking_and_birthweight.group('Maternal Smoker')"
   ]
  },
  {
   "cell_type": "code",
   "execution_count": 34,
   "id": "2a5ca18a",
   "metadata": {},
   "outputs": [
    {
     "name": "stderr",
     "output_type": "stream",
     "text": [
      "/opt/anaconda3/lib/python3.7/site-packages/datascience/tables.py:496: VisibleDeprecationWarning: Creating an ndarray from ragged nested sequences (which is a list-or-tuple of lists-or-tuples-or ndarrays with different lengths or shapes) is deprecated. If you meant to do this, you must specify 'dtype=object' when creating the ndarray.\n",
      "  values = np.array(tuple(values))\n"
     ]
    },
    {
     "data": {
      "image/png": "[encoded data removed]",
      "text/plain": [
       "<Figure size 432x288 with 1 Axes>"
      ]
     },
     "metadata": {},
     "output_type": "display_data"
    }
   ],
   "source": [
    "smoking_and_birthweight.hist('Birth Weight', group='Maternal Smoker')"
   ]
  },
  {
   "cell_type": "code",
   "execution_count": 36,
   "id": "8173d975",
   "metadata": {},
   "outputs": [
    {
     "data": {
      "text/html": [
       "<table border=\"1\" class=\"dataframe\">\n",
       "    <thead>\n",
       "        <tr>\n",
       "            <th>Maternal Smoker</th> <th>Birth Weight average</th>\n",
       "        </tr>\n",
       "    </thead>\n",
       "    <tbody>\n",
       "        <tr>\n",
       "            <td>0              </td> <td>123.047             </td>\n",
       "        </tr>\n",
       "        <tr>\n",
       "            <td>1              </td> <td>114.11              </td>\n",
       "        </tr>\n",
       "        <tr>\n",
       "            <td>9              </td> <td>126.7               </td>\n",
       "        </tr>\n",
       "    </tbody>\n",
       "</table>"
      ],
      "text/plain": [
       "Maternal Smoker | Birth Weight average\n",
       "0               | 123.047\n",
       "1               | 114.11\n",
       "9               | 126.7"
      ]
     },
     "execution_count": 36,
     "metadata": {},
     "output_type": "execute_result"
    }
   ],
   "source": [
    "means_tb1 = smoking_and_birthweight.group('Maternal Smoker', np.average)\n",
    "means_tb1"
   ]
  },
  {
   "cell_type": "code",
   "execution_count": 37,
   "id": "d36d651c",
   "metadata": {},
   "outputs": [
    {
     "data": {
      "text/plain": [
       "8.93766567908935"
      ]
     },
     "execution_count": 37,
     "metadata": {},
     "output_type": "execute_result"
    }
   ],
   "source": [
    "means = means_tb1.column(1)\n",
    "observed_difference = means.item(0) - means.item(1)\n",
    "observed_difference"
   ]
  },
  {
   "cell_type": "code",
   "execution_count": null,
   "id": "857c71e3",
   "metadata": {},
   "outputs": [],
   "source": []
  }
 ],
 "metadata": {
  "kernelspec": {
   "display_name": "Python 3 (ipykernel)",
   "language": "python",
   "name": "python3"
  },
  "language_info": {
   "codemirror_mode": {
    "name": "ipython",
    "version": 3
   },
   "file_extension": ".py",
   "mimetype": "text/x-python",
   "name": "python",
   "nbconvert_exporter": "python",
   "pygments_lexer": "ipython3",
   "version": "3.7.6"
  }
 },
 "nbformat": 4,
 "nbformat_minor": 5
}
