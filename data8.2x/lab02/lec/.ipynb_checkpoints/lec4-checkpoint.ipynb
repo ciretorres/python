{
 "cells": [
  {
   "cell_type": "code",
   "execution_count": 1,
   "metadata": {},
   "outputs": [],
   "source": [
    "from datascience import *\n",
    "import numpy as np\n",
    "\n",
    "import matplotlib.pyplot as plots\n",
    "plots.style.use('fivethirtyeight')\n",
    "%matplotlib inline"
   ]
  },
  {
   "cell_type": "markdown",
   "metadata": {},
   "source": [
    "## Sampling"
   ]
  },
  {
   "cell_type": "markdown",
   "metadata": {},
   "source": [
    "Here are the top-grossing movies of all time up to 2017, where they're ordered not by the\n",
    "amount of money that they earned in box office sales, but instead, an adjusted amount where\n",
    "this number represents the dollars of revenue in the box office from \"Gone with the Wind\"\n",
    "back in 1939 when it was released 200 million was a lot back then.\n",
    "If they had been selling tickets at today's ticket prices, it would have been $1.8 billion\n",
    "instead.\n",
    "In these adjusted dollars, the second-highest-grossing movie of all time was \"Star Wars,\" and you\n",
    "can see the rest of the list, and here we have a table of the top 200."
   ]
  },
  {
   "cell_type": "code",
   "execution_count": 2,
   "metadata": {},
   "outputs": [
    {
     "data": {
      "text/html": [
       "<table border=\"1\" class=\"dataframe\">\n",
       "    <thead>\n",
       "        <tr>\n",
       "            <th>Row Index</th> <th>Title</th> <th>Studio</th> <th>Gross</th> <th>Gross (Adjusted)</th> <th>Year</th>\n",
       "        </tr>\n",
       "    </thead>\n",
       "    <tbody>\n",
       "        <tr>\n",
       "            <td>0        </td> <td>Gone with the Wind              </td> <td>MGM            </td> <td>198,676,459</td> <td>1,796,176,700   </td> <td>1939</td>\n",
       "        </tr>\n",
       "    </tbody>\n",
       "        <tr>\n",
       "            <td>1        </td> <td>Star Wars                       </td> <td>Fox            </td> <td>460,998,007</td> <td>1,583,483,200   </td> <td>1977</td>\n",
       "        </tr>\n",
       "    </tbody>\n",
       "        <tr>\n",
       "            <td>2        </td> <td>The Sound of Music              </td> <td>Fox            </td> <td>158,671,368</td> <td>1,266,072,700   </td> <td>1965</td>\n",
       "        </tr>\n",
       "    </tbody>\n",
       "        <tr>\n",
       "            <td>3        </td> <td>E.T.: The Extra-Terrestrial     </td> <td>Universal      </td> <td>435,110,554</td> <td>1,261,085,000   </td> <td>1982</td>\n",
       "        </tr>\n",
       "    </tbody>\n",
       "        <tr>\n",
       "            <td>4        </td> <td>Titanic                         </td> <td>Paramount      </td> <td>658,672,302</td> <td>1,204,368,000   </td> <td>1997</td>\n",
       "        </tr>\n",
       "    </tbody>\n",
       "        <tr>\n",
       "            <td>5        </td> <td>The Ten Commandments            </td> <td>Paramount      </td> <td>65,500,000 </td> <td>1,164,590,000   </td> <td>1956</td>\n",
       "        </tr>\n",
       "    </tbody>\n",
       "        <tr>\n",
       "            <td>6        </td> <td>Jaws                            </td> <td>Universal      </td> <td>260,000,000</td> <td>1,138,620,700   </td> <td>1975</td>\n",
       "        </tr>\n",
       "    </tbody>\n",
       "        <tr>\n",
       "            <td>7        </td> <td>Doctor Zhivago                  </td> <td>MGM            </td> <td>111,721,910</td> <td>1,103,564,200   </td> <td>1965</td>\n",
       "        </tr>\n",
       "    </tbody>\n",
       "        <tr>\n",
       "            <td>8        </td> <td>The Exorcist                    </td> <td>Warner Brothers</td> <td>232,906,145</td> <td>983,226,600     </td> <td>1973</td>\n",
       "        </tr>\n",
       "    </tbody>\n",
       "        <tr>\n",
       "            <td>9        </td> <td>Snow White and the Seven Dwarves</td> <td>Disney         </td> <td>184,925,486</td> <td>969,010,000     </td> <td>1937</td>\n",
       "        </tr>\n",
       "    </tbody>\n",
       "</table>\n",
       "<p>... (190 rows omitted)</p>"
      ],
      "text/plain": [
       "Row Index | Title                            | Studio          | Gross       | Gross (Adjusted) | Year\n",
       "0         | Gone with the Wind               | MGM             | 198,676,459 | 1,796,176,700    | 1939\n",
       "1         | Star Wars                        | Fox             | 460,998,007 | 1,583,483,200    | 1977\n",
       "2         | The Sound of Music               | Fox             | 158,671,368 | 1,266,072,700    | 1965\n",
       "3         | E.T.: The Extra-Terrestrial      | Universal       | 435,110,554 | 1,261,085,000    | 1982\n",
       "4         | Titanic                          | Paramount       | 658,672,302 | 1,204,368,000    | 1997\n",
       "5         | The Ten Commandments             | Paramount       | 65,500,000  | 1,164,590,000    | 1956\n",
       "6         | Jaws                             | Universal       | 260,000,000 | 1,138,620,700    | 1975\n",
       "7         | Doctor Zhivago                   | MGM             | 111,721,910 | 1,103,564,200    | 1965\n",
       "8         | The Exorcist                     | Warner Brothers | 232,906,145 | 983,226,600      | 1973\n",
       "9         | Snow White and the Seven Dwarves | Disney          | 184,925,486 | 969,010,000      | 1937\n",
       "... (190 rows omitted)"
      ]
     },
     "execution_count": 2,
     "metadata": {},
     "output_type": "execute_result"
    }
   ],
   "source": [
    "top = Table.read_table('top_movies_2017.csv')\n",
    "top = top.with_column('Row Index', np.arange(top.num_rows)).move_to_start('Row Index')\n",
    "top.set_format(['Gross', 'Gross (Adjusted)'], NumberFormatter)"
   ]
  },
  {
   "cell_type": "code",
   "execution_count": 3,
   "metadata": {},
   "outputs": [
    {
     "data": {
      "text/html": [
       "<table border=\"1\" class=\"dataframe\">\n",
       "    <thead>\n",
       "        <tr>\n",
       "            <th>Row Index</th> <th>Title</th> <th>Studio</th> <th>Gross</th> <th>Gross (Adjusted)</th> <th>Year</th>\n",
       "        </tr>\n",
       "    </thead>\n",
       "    <tbody>\n",
       "        <tr>\n",
       "            <td>3        </td> <td>E.T.: The Extra-Terrestrial</td> <td>Universal</td> <td>435,110,554</td> <td>1,261,085,000   </td> <td>1982</td>\n",
       "        </tr>\n",
       "    </tbody>\n",
       "        <tr>\n",
       "            <td>5        </td> <td>The Ten Commandments       </td> <td>Paramount</td> <td>65,500,000 </td> <td>1,164,590,000   </td> <td>1956</td>\n",
       "        </tr>\n",
       "    </tbody>\n",
       "        <tr>\n",
       "            <td>7        </td> <td>Doctor Zhivago             </td> <td>MGM      </td> <td>111,721,910</td> <td>1,103,564,200   </td> <td>1965</td>\n",
       "        </tr>\n",
       "    </tbody>\n",
       "</table>"
      ],
      "text/plain": [
       "Row Index | Title                       | Studio    | Gross       | Gross (Adjusted) | Year\n",
       "3         | E.T.: The Extra-Terrestrial | Universal | 435,110,554 | 1,261,085,000    | 1982\n",
       "5         | The Ten Commandments        | Paramount | 65,500,000  | 1,164,590,000    | 1956\n",
       "7         | Doctor Zhivago              | MGM       | 111,721,910 | 1,103,564,200    | 1965"
      ]
     },
     "execution_count": 3,
     "metadata": {},
     "output_type": "execute_result"
    }
   ],
   "source": [
    "# Deterministic sample, where I just picked some arbitraty rows.\n",
    "top.take([3,5,7])"
   ]
  },
  {
   "cell_type": "code",
   "execution_count": 4,
   "metadata": {},
   "outputs": [
    {
     "data": {
      "text/html": [
       "<table border=\"1\" class=\"dataframe\">\n",
       "    <thead>\n",
       "        <tr>\n",
       "            <th>Row Index</th> <th>Title</th> <th>Studio</th> <th>Gross</th> <th>Gross (Adjusted)</th> <th>Year</th>\n",
       "        </tr>\n",
       "    </thead>\n",
       "    <tbody>\n",
       "        <tr>\n",
       "            <td>9        </td> <td>Snow White and the Seven Dwarves           </td> <td>Disney         </td> <td>184,925,486</td> <td>969,010,000     </td> <td>1937</td>\n",
       "        </tr>\n",
       "    </tbody>\n",
       "        <tr>\n",
       "            <td>35       </td> <td>Butch Cassidy and the Sundance Kid         </td> <td>Fox            </td> <td>102,308,889</td> <td>627,259,300     </td> <td>1969</td>\n",
       "        </tr>\n",
       "    </tbody>\n",
       "        <tr>\n",
       "            <td>70       </td> <td>Smokey and the Bandit                      </td> <td>Universal      </td> <td>126,737,428</td> <td>505,244,700     </td> <td>1977</td>\n",
       "        </tr>\n",
       "    </tbody>\n",
       "        <tr>\n",
       "            <td>71       </td> <td>Beauty and the Beast (2017)                </td> <td>Buena Vista    </td> <td>504,014,165</td> <td>504,014,165     </td> <td>2017</td>\n",
       "        </tr>\n",
       "    </tbody>\n",
       "        <tr>\n",
       "            <td>74       </td> <td>Harry Potter and the Sorcerer's Stone      </td> <td>Warner Brothers</td> <td>317,575,550</td> <td>497,066,400     </td> <td>2001</td>\n",
       "        </tr>\n",
       "    </tbody>\n",
       "        <tr>\n",
       "            <td>75       </td> <td>Lady and the Tramp                         </td> <td>Disney         </td> <td>93,602,326 </td> <td>495,483,100     </td> <td>1955</td>\n",
       "        </tr>\n",
       "    </tbody>\n",
       "        <tr>\n",
       "            <td>91       </td> <td>Indiana Jones and the Temple of Doom       </td> <td>Paramount      </td> <td>179,870,271</td> <td>475,906,700     </td> <td>1984</td>\n",
       "        </tr>\n",
       "    </tbody>\n",
       "        <tr>\n",
       "            <td>105      </td> <td>Indiana Jones and the Last Crusade         </td> <td>Paramount      </td> <td>197,171,806</td> <td>439,312,600     </td> <td>1989</td>\n",
       "        </tr>\n",
       "    </tbody>\n",
       "        <tr>\n",
       "            <td>114      </td> <td>Harry Potter and the Deathly Hallows Part 2</td> <td>Warner Brothers</td> <td>381,011,219</td> <td>426,630,300     </td> <td>2011</td>\n",
       "        </tr>\n",
       "    </tbody>\n",
       "        <tr>\n",
       "            <td>129      </td> <td>Beauty and the Beast                       </td> <td>Buena Vista    </td> <td>218,967,620</td> <td>403,283,400     </td> <td>1991</td>\n",
       "        </tr>\n",
       "    </tbody>\n",
       "</table>\n",
       "<p>... (7 rows omitted)</p>"
      ],
      "text/plain": [
       "Row Index | Title                                       | Studio          | Gross       | Gross (Adjusted) | Year\n",
       "9         | Snow White and the Seven Dwarves            | Disney          | 184,925,486 | 969,010,000      | 1937\n",
       "35        | Butch Cassidy and the Sundance Kid          | Fox             | 102,308,889 | 627,259,300      | 1969\n",
       "70        | Smokey and the Bandit                       | Universal       | 126,737,428 | 505,244,700      | 1977\n",
       "71        | Beauty and the Beast (2017)                 | Buena Vista     | 504,014,165 | 504,014,165      | 2017\n",
       "74        | Harry Potter and the Sorcerer's Stone       | Warner Brothers | 317,575,550 | 497,066,400      | 2001\n",
       "75        | Lady and the Tramp                          | Disney          | 93,602,326  | 495,483,100      | 1955\n",
       "91        | Indiana Jones and the Temple of Doom        | Paramount       | 179,870,271 | 475,906,700      | 1984\n",
       "105       | Indiana Jones and the Last Crusade          | Paramount       | 197,171,806 | 439,312,600      | 1989\n",
       "114       | Harry Potter and the Deathly Hallows Part 2 | Warner Brothers | 381,011,219 | 426,630,300      | 2011\n",
       "129       | Beauty and the Beast                        | Buena Vista     | 218,967,620 | 403,283,400      | 1991\n",
       "... (7 rows omitted)"
      ]
     },
     "execution_count": 4,
     "metadata": {},
     "output_type": "execute_result"
    }
   ],
   "source": [
    "# Deterministic sample.\n",
    "# There was no chance involved, and here we see all the top-grossing movies that had \"and\n",
    "# the\"--quite a few indeed, and there's both releases of \"Beauty and the Beast\"--the animated\n",
    "# version and the live action version.\n",
    "top.where('Title', are.containing('and the'))"
   ]
  },
  {
   "cell_type": "code",
   "execution_count": 5,
   "metadata": {},
   "outputs": [
    {
     "data": {
      "text/html": [
       "<table border=\"1\" class=\"dataframe\">\n",
       "    <thead>\n",
       "        <tr>\n",
       "            <th>Row Index</th> <th>Title</th> <th>Studio</th> <th>Gross</th> <th>Gross (Adjusted)</th> <th>Year</th>\n",
       "        </tr>\n",
       "    </thead>\n",
       "    <tbody>\n",
       "        <tr>\n",
       "            <td>2        </td> <td>The Sound of Music         </td> <td>Fox      </td> <td>158,671,368</td> <td>1,266,072,700   </td> <td>1965</td>\n",
       "        </tr>\n",
       "    </tbody>\n",
       "        <tr>\n",
       "            <td>3        </td> <td>E.T.: The Extra-Terrestrial</td> <td>Universal</td> <td>435,110,554</td> <td>1,261,085,000   </td> <td>1982</td>\n",
       "        </tr>\n",
       "    </tbody>\n",
       "        <tr>\n",
       "            <td>4        </td> <td>Titanic                    </td> <td>Paramount</td> <td>658,672,302</td> <td>1,204,368,000   </td> <td>1997</td>\n",
       "        </tr>\n",
       "    </tbody>\n",
       "        <tr>\n",
       "            <td>5        </td> <td>The Ten Commandments       </td> <td>Paramount</td> <td>65,500,000 </td> <td>1,164,590,000   </td> <td>1956</td>\n",
       "        </tr>\n",
       "    </tbody>\n",
       "        <tr>\n",
       "            <td>6        </td> <td>Jaws                       </td> <td>Universal</td> <td>260,000,000</td> <td>1,138,620,700   </td> <td>1975</td>\n",
       "        </tr>\n",
       "    </tbody>\n",
       "</table>"
      ],
      "text/plain": [
       "Row Index | Title                       | Studio    | Gross       | Gross (Adjusted) | Year\n",
       "2         | The Sound of Music          | Fox       | 158,671,368 | 1,266,072,700    | 1965\n",
       "3         | E.T.: The Extra-Terrestrial | Universal | 435,110,554 | 1,261,085,000    | 1982\n",
       "4         | Titanic                     | Paramount | 658,672,302 | 1,204,368,000    | 1997\n",
       "5         | The Ten Commandments        | Paramount | 65,500,000  | 1,164,590,000    | 1956\n",
       "6         | Jaws                        | Universal | 260,000,000 | 1,138,620,700    | 1975"
      ]
     },
     "execution_count": 5,
     "metadata": {},
     "output_type": "execute_result"
    }
   ],
   "source": [
    "# Probabilistic sample.\n",
    "# Take a few elements from the population starting at that starting point.\n",
    "# The chance that this particular group of five movies ended up in the sample was 1 in 10,\n",
    "# since there were ten different starting positions, and for each starting position, I just take\n",
    "# the next five.\n",
    "start = np.random.choice(np.arange(10))\n",
    "top.take(np.arange(start, start+5))"
   ]
  },
  {
   "cell_type": "code",
   "execution_count": 6,
   "metadata": {},
   "outputs": [
    {
     "data": {
      "text/html": [
       "<table border=\"1\" class=\"dataframe\">\n",
       "    <thead>\n",
       "        <tr>\n",
       "            <th>Row Index</th> <th>Title</th> <th>Studio</th> <th>Gross</th> <th>Gross (Adjusted)</th> <th>Year</th>\n",
       "        </tr>\n",
       "    </thead>\n",
       "    <tbody>\n",
       "        <tr>\n",
       "            <td>132      </td> <td>Pirates of the Caribbean: At World's End</td> <td>Buena Vista    </td> <td>309,420,425</td> <td>399,818,000     </td> <td>2007</td>\n",
       "        </tr>\n",
       "    </tbody>\n",
       "        <tr>\n",
       "            <td>115      </td> <td>Toy Story 2                             </td> <td>Buena Vista    </td> <td>245,852,179</td> <td>425,266,700     </td> <td>1999</td>\n",
       "        </tr>\n",
       "    </tbody>\n",
       "        <tr>\n",
       "            <td>57       </td> <td>Cinderella (1950)                       </td> <td>Disney         </td> <td>93,141,149 </td> <td>536,079,700     </td> <td>1950</td>\n",
       "        </tr>\n",
       "    </tbody>\n",
       "        <tr>\n",
       "            <td>67       </td> <td>The Sixth Sense                         </td> <td>Buena Vista    </td> <td>293,506,292</td> <td>511,878,400     </td> <td>1999</td>\n",
       "        </tr>\n",
       "    </tbody>\n",
       "        <tr>\n",
       "            <td>66       </td> <td>The Dark Knight Rises                   </td> <td>Warner Brothers</td> <td>448,139,099</td> <td>511,902,300     </td> <td>2012</td>\n",
       "        </tr>\n",
       "    </tbody>\n",
       "</table>"
      ],
      "text/plain": [
       "Row Index | Title                                    | Studio          | Gross       | Gross (Adjusted) | Year\n",
       "132       | Pirates of the Caribbean: At World's End | Buena Vista     | 309,420,425 | 399,818,000      | 2007\n",
       "115       | Toy Story 2                              | Buena Vista     | 245,852,179 | 425,266,700      | 1999\n",
       "57        | Cinderella (1950)                        | Disney          | 93,141,149  | 536,079,700      | 1950\n",
       "67        | The Sixth Sense                          | Buena Vista     | 293,506,292 | 511,878,400      | 1999\n",
       "66        | The Dark Knight Rises                    | Warner Brothers | 448,139,099 | 511,902,300      | 2012"
      ]
     },
     "execution_count": 6,
     "metadata": {},
     "output_type": "execute_result"
    }
   ],
   "source": [
    "# A uniform random sample can be taken from the rows of a table using the sample method.\n",
    "# In this case, each row had an equal chance of being selected.\n",
    "top.sample(5)"
   ]
  },
  {
   "cell_type": "code",
   "execution_count": 7,
   "metadata": {},
   "outputs": [
    {
     "data": {
      "text/html": [
       "<table border=\"1\" class=\"dataframe\">\n",
       "    <thead>\n",
       "        <tr>\n",
       "            <th>Title</th> <th>count</th>\n",
       "        </tr>\n",
       "    </thead>\n",
       "    <tbody>\n",
       "        <tr>\n",
       "            <td>101 Dalmatians            </td> <td>4    </td>\n",
       "        </tr>\n",
       "    </tbody>\n",
       "        <tr>\n",
       "            <td>2001: A Space Odyssey     </td> <td>2    </td>\n",
       "        </tr>\n",
       "    </tbody>\n",
       "        <tr>\n",
       "            <td>9 to 5                    </td> <td>3    </td>\n",
       "        </tr>\n",
       "    </tbody>\n",
       "        <tr>\n",
       "            <td>Airport                   </td> <td>5    </td>\n",
       "        </tr>\n",
       "    </tbody>\n",
       "        <tr>\n",
       "            <td>Aladdin                   </td> <td>3    </td>\n",
       "        </tr>\n",
       "    </tbody>\n",
       "        <tr>\n",
       "            <td>Alice in Wonderland (2010)</td> <td>1    </td>\n",
       "        </tr>\n",
       "    </tbody>\n",
       "        <tr>\n",
       "            <td>American Graffiti         </td> <td>1    </td>\n",
       "        </tr>\n",
       "    </tbody>\n",
       "        <tr>\n",
       "            <td>American Sniper           </td> <td>3    </td>\n",
       "        </tr>\n",
       "    </tbody>\n",
       "        <tr>\n",
       "            <td>An Officer and a Gentleman</td> <td>3    </td>\n",
       "        </tr>\n",
       "    </tbody>\n",
       "        <tr>\n",
       "            <td>Apollo 13                 </td> <td>1    </td>\n",
       "        </tr>\n",
       "    </tbody>\n",
       "</table>\n",
       "<p>... (170 rows omitted)</p>"
      ],
      "text/plain": [
       "Title                      | count\n",
       "101 Dalmatians             | 4\n",
       "2001: A Space Odyssey      | 2\n",
       "9 to 5                     | 3\n",
       "Airport                    | 5\n",
       "Aladdin                    | 3\n",
       "Alice in Wonderland (2010) | 1\n",
       "American Graffiti          | 1\n",
       "American Sniper            | 3\n",
       "An Officer and a Gentleman | 3\n",
       "Apollo 13                  | 1\n",
       "... (170 rows omitted)"
      ]
     },
     "execution_count": 7,
     "metadata": {},
     "output_type": "execute_result"
    }
   ],
   "source": [
    "# If I sample 500 and group by title,\n",
    "# then you'll see that I sampled many of them multiple times, 'cause there's only 200 movies\n",
    "# in this table, drawing 500 samples means that I'm guaranteed to get something twice, and\n",
    "# it will be typical that I'll draw the same movie over and over again.\n",
    "top.sample(500).group('Title')"
   ]
  },
  {
   "cell_type": "code",
   "execution_count": 8,
   "metadata": {},
   "outputs": [
    {
     "data": {
      "text/html": [
       "<table border=\"1\" class=\"dataframe\">\n",
       "    <thead>\n",
       "        <tr>\n",
       "            <th>Row Index</th> <th>Title</th> <th>Studio</th> <th>Gross</th> <th>Gross (Adjusted)</th> <th>Year</th>\n",
       "        </tr>\n",
       "    </thead>\n",
       "    <tbody>\n",
       "        <tr>\n",
       "            <td>73       </td> <td>West Side Story</td> <td>MGM            </td> <td>43,656,822 </td> <td>497,575,800     </td> <td>1961</td>\n",
       "        </tr>\n",
       "    </tbody>\n",
       "        <tr>\n",
       "            <td>192      </td> <td>Superman II    </td> <td>Warner Brothers</td> <td>108,185,706</td> <td>345,960,800     </td> <td>1981</td>\n",
       "        </tr>\n",
       "    </tbody>\n",
       "        <tr>\n",
       "            <td>178      </td> <td>Funny Girl     </td> <td>Columbia       </td> <td>52,223,306 </td> <td>355,950,700     </td> <td>1968</td>\n",
       "        </tr>\n",
       "    </tbody>\n",
       "        <tr>\n",
       "            <td>14       </td> <td>Avatar         </td> <td>Fox            </td> <td>760,507,625</td> <td>865,082,100     </td> <td>2009</td>\n",
       "        </tr>\n",
       "    </tbody>\n",
       "        <tr>\n",
       "            <td>36       </td> <td>Love Story     </td> <td>Paramount      </td> <td>106,397,186</td> <td>622,283,500     </td> <td>1970</td>\n",
       "        </tr>\n",
       "    </tbody>\n",
       "</table>"
      ],
      "text/plain": [
       "Row Index | Title           | Studio          | Gross       | Gross (Adjusted) | Year\n",
       "73        | West Side Story | MGM             | 43,656,822  | 497,575,800      | 1961\n",
       "192       | Superman II     | Warner Brothers | 108,185,706 | 345,960,800      | 1981\n",
       "178       | Funny Girl      | Columbia        | 52,223,306  | 355,950,700      | 1968\n",
       "14        | Avatar          | Fox             | 760,507,625 | 865,082,100      | 2009\n",
       "36        | Love Story      | Paramount       | 106,397,186 | 622,283,500      | 1970"
      ]
     },
     "execution_count": 8,
     "metadata": {},
     "output_type": "execute_result"
    }
   ],
   "source": [
    "# To specify that you're not allowed to include any row twice, you sample without replacement.\n",
    "top.sample(5, with_replacement=False)"
   ]
  },
  {
   "cell_type": "markdown",
   "metadata": {},
   "source": [
    "## Dice"
   ]
  },
  {
   "cell_type": "code",
   "execution_count": 9,
   "metadata": {},
   "outputs": [
    {
     "data": {
      "text/html": [
       "<table border=\"1\" class=\"dataframe\">\n",
       "    <thead>\n",
       "        <tr>\n",
       "            <th>face</th>\n",
       "        </tr>\n",
       "    </thead>\n",
       "    <tbody>\n",
       "        <tr>\n",
       "            <td>1   </td>\n",
       "        </tr>\n",
       "    </tbody>\n",
       "        <tr>\n",
       "            <td>2   </td>\n",
       "        </tr>\n",
       "    </tbody>\n",
       "        <tr>\n",
       "            <td>3   </td>\n",
       "        </tr>\n",
       "    </tbody>\n",
       "        <tr>\n",
       "            <td>4   </td>\n",
       "        </tr>\n",
       "    </tbody>\n",
       "        <tr>\n",
       "            <td>5   </td>\n",
       "        </tr>\n",
       "    </tbody>\n",
       "        <tr>\n",
       "            <td>6   </td>\n",
       "        </tr>\n",
       "    </tbody>\n",
       "</table>"
      ],
      "text/plain": [
       "face\n",
       "1\n",
       "2\n",
       "3\n",
       "4\n",
       "5\n",
       "6"
      ]
     },
     "execution_count": 9,
     "metadata": {},
     "output_type": "execute_result"
    }
   ],
   "source": [
    "die = Table().with_column('face', np.arange(6)+1)\n",
    "die"
   ]
  },
  {
   "cell_type": "code",
   "execution_count": 10,
   "metadata": {},
   "outputs": [
    {
     "data": {
      "image/png": "[encoded data removed]",
      "text/plain": [
       "<matplotlib.figure.Figure at 0x1a09f7d4a8>"
      ]
     },
     "metadata": {},
     "output_type": "display_data"
    }
   ],
   "source": [
    "# Each has an equal chance of 1/6 or 16.666%.\n",
    "def face_hist(t):\n",
    "    \"\"\"This histogram shows all of the different outcomes--1, 2, 3, 4, 5, or 6--and the chance of each.\"\"\"\n",
    "    t.hist('face', bins=np.arange(0.5, 7, 1), unit='face')\n",
    "    plots.xlabel('Face')\n",
    "\n",
    "face_hist(die)"
   ]
  },
  {
   "cell_type": "code",
   "execution_count": 11,
   "metadata": {},
   "outputs": [
    {
     "data": {
      "image/png": "[encoded data removed]",
      "text/plain": [
       "<matplotlib.figure.Figure at 0x1a11d11cc0>"
      ]
     },
     "metadata": {},
     "output_type": "display_data"
    }
   ],
   "source": [
    "# If I sample 1,000 times, here I see another empirical histogram--a histogram of an empirical\n",
    "# distribution of outcomes of an experiment where the die was actually rolled 1,000 times,\n",
    "# but now the heights of the bars are even closer together than they were before, and they're\n",
    "# all getting quite close to 1/6.\n",
    "# 10,000 times, and I would expect to see a bunch of bars that are all really close to\n",
    "# the true probability, which is 16.66%.\n",
    "# The more times I roll, the closer the empirical histogram looks to the probability histogram.\n",
    "\n",
    "# Try changing the sample size of 1000 to larger and smaller numbers.\n",
    "face_hist(die.sample(1000))"
   ]
  },
  {
   "cell_type": "markdown",
   "metadata": {},
   "source": [
    "## Large Random Samples"
   ]
  },
  {
   "cell_type": "code",
   "execution_count": 12,
   "metadata": {},
   "outputs": [
    {
     "data": {
      "text/html": [
       "<table border=\"1\" class=\"dataframe\">\n",
       "    <thead>\n",
       "        <tr>\n",
       "            <th>Date</th> <th>Flight Number</th> <th>Destination</th> <th>Delay</th>\n",
       "        </tr>\n",
       "    </thead>\n",
       "    <tbody>\n",
       "        <tr>\n",
       "            <td>6/1/15</td> <td>73           </td> <td>HNL        </td> <td>257  </td>\n",
       "        </tr>\n",
       "    </tbody>\n",
       "        <tr>\n",
       "            <td>6/1/15</td> <td>217          </td> <td>EWR        </td> <td>28   </td>\n",
       "        </tr>\n",
       "    </tbody>\n",
       "        <tr>\n",
       "            <td>6/1/15</td> <td>237          </td> <td>STL        </td> <td>-3   </td>\n",
       "        </tr>\n",
       "    </tbody>\n",
       "        <tr>\n",
       "            <td>6/1/15</td> <td>250          </td> <td>SAN        </td> <td>0    </td>\n",
       "        </tr>\n",
       "    </tbody>\n",
       "        <tr>\n",
       "            <td>6/1/15</td> <td>267          </td> <td>PHL        </td> <td>64   </td>\n",
       "        </tr>\n",
       "    </tbody>\n",
       "        <tr>\n",
       "            <td>6/1/15</td> <td>273          </td> <td>SEA        </td> <td>-6   </td>\n",
       "        </tr>\n",
       "    </tbody>\n",
       "        <tr>\n",
       "            <td>6/1/15</td> <td>278          </td> <td>SEA        </td> <td>-8   </td>\n",
       "        </tr>\n",
       "    </tbody>\n",
       "        <tr>\n",
       "            <td>6/1/15</td> <td>292          </td> <td>EWR        </td> <td>12   </td>\n",
       "        </tr>\n",
       "    </tbody>\n",
       "        <tr>\n",
       "            <td>6/1/15</td> <td>300          </td> <td>HNL        </td> <td>20   </td>\n",
       "        </tr>\n",
       "    </tbody>\n",
       "        <tr>\n",
       "            <td>6/1/15</td> <td>317          </td> <td>IND        </td> <td>-10  </td>\n",
       "        </tr>\n",
       "    </tbody>\n",
       "</table>\n",
       "<p>... (13722 rows omitted)</p>"
      ],
      "text/plain": [
       "Date   | Flight Number | Destination | Delay\n",
       "6/1/15 | 73            | HNL         | 257\n",
       "6/1/15 | 217           | EWR         | 28\n",
       "6/1/15 | 237           | STL         | -3\n",
       "6/1/15 | 250           | SAN         | 0\n",
       "6/1/15 | 267           | PHL         | 64\n",
       "6/1/15 | 273           | SEA         | -6\n",
       "6/1/15 | 278           | SEA         | -8\n",
       "6/1/15 | 292           | EWR         | 12\n",
       "6/1/15 | 300           | HNL         | 20\n",
       "6/1/15 | 317           | IND         | -10\n",
       "... (13722 rows omitted)"
      ]
     },
     "execution_count": 12,
     "metadata": {},
     "output_type": "execute_result"
    }
   ],
   "source": [
    "united = Table().read_table('united.csv')\n",
    "united"
   ]
  },
  {
   "cell_type": "code",
   "execution_count": 13,
   "metadata": {},
   "outputs": [
    {
     "data": {
      "image/png": "[encoded data removed]",
      "text/plain": [
       "<matplotlib.figure.Figure at 0x1a11e18a90>"
      ]
     },
     "metadata": {},
     "output_type": "display_data"
    }
   ],
   "source": [
    "def delay_hist(t):\n",
    "    t.hist('Delay', unit='minute', bins=np.arange(-20, 301, 10))\n",
    "\n",
    "delay_hist(united)"
   ]
  },
  {
   "cell_type": "code",
   "execution_count": 14,
   "metadata": {},
   "outputs": [
    {
     "data": {
      "image/png": "[encoded data removed]",
      "text/plain": [
       "<matplotlib.figure.Figure at 0x1a11f07208>"
      ]
     },
     "metadata": {},
     "output_type": "display_data"
    }
   ],
   "source": [
    "# Now, this ragged part where, in fact, this bar is higher than this bar is due to the\n",
    "# random chance of sampling.\n",
    "delay_hist(united.sample(1000))"
   ]
  },
  {
   "cell_type": "markdown",
   "metadata": {},
   "source": [
    "## Simulation"
   ]
  },
  {
   "cell_type": "markdown",
   "metadata": {},
   "source": [
    "What's the chance of this event of rolling at least one six in 4 rolls of the die?"
   ]
  },
  {
   "cell_type": "code",
   "execution_count": 15,
   "metadata": {},
   "outputs": [
    {
     "data": {
      "text/plain": [
       "0.5177469135802468"
      ]
     },
     "execution_count": 15,
     "metadata": {},
     "output_type": "execute_result"
    }
   ],
   "source": [
    "k = 4\n",
    "(5/6) ** k # The probability of rolling no sixes.\n",
    "1 - (5/6) ** k # The chance of getting at least one six in four rolls die."
   ]
  },
  {
   "cell_type": "code",
   "execution_count": 16,
   "metadata": {},
   "outputs": [
    {
     "data": {
      "text/plain": [
       "array([4, 2, 5, 3])"
      ]
     },
     "execution_count": 16,
     "metadata": {},
     "output_type": "execute_result"
    }
   ],
   "source": [
    "dice = np.arange(6)+1\n",
    "rolls = np.random.choice(dice, k)\n",
    "rolls"
   ]
  },
  {
   "cell_type": "code",
   "execution_count": 17,
   "metadata": {},
   "outputs": [
    {
     "data": {
      "text/plain": [
       "0"
      ]
     },
     "execution_count": 17,
     "metadata": {},
     "output_type": "execute_result"
    }
   ],
   "source": [
    "# How many times did I got at least one 6?\n",
    "sum(rolls == 6)"
   ]
  },
  {
   "cell_type": "code",
   "execution_count": 18,
   "metadata": {},
   "outputs": [
    {
     "data": {
      "text/plain": [
       "0.5182"
      ]
     },
     "execution_count": 18,
     "metadata": {},
     "output_type": "execute_result"
    }
   ],
   "source": [
    "trials = 10000\n",
    "successes = 0\n",
    "\n",
    "for _ in np.arange(trials):\n",
    "    rolls = np.random.choice(dice, k)\n",
    "    if sum(rolls == 6) > 0:\n",
    "        successes = successes + 1\n",
    "\n",
    "# Our estimate of the probability that this event occurs is the number of successes\n",
    "# divided by the number of trials.\n",
    "successes / trials"
   ]
  },
  {
   "cell_type": "markdown",
   "metadata": {},
   "source": [
    "## Statistics"
   ]
  },
  {
   "cell_type": "code",
   "execution_count": 20,
   "metadata": {},
   "outputs": [],
   "source": [
    "# This cell will take a long time to run\n",
    "def estimate_by_simulation(trials):\n",
    "    successes = 0\n",
    "\n",
    "    for _ in np.arange(trials):\n",
    "        rolls = np.random.choice(dice, k)\n",
    "        if sum(rolls == 6) > 0:\n",
    "            successes = successes + 1\n",
    "\n",
    "    # Our estimate of the probability that this event occurs is the number of successes\n",
    "    # divided by the number of trials.\n",
    "    return successes / trials\n",
    "    \n",
    "estimates = []\n",
    "for _ in np.arange(1000):\n",
    "    estimates.append(estimate_by_simulation(10000))"
   ]
  },
  {
   "cell_type": "code",
   "execution_count": 24,
   "metadata": {},
   "outputs": [
    {
     "data": {
      "image/png": "[encoded data removed]",
      "text/plain": [
       "<matplotlib.figure.Figure at 0x104e86828>"
      ]
     },
     "metadata": {},
     "output_type": "display_data"
    }
   ],
   "source": [
    "# These are 1,000 different estimates binned, and you can see that all the different estimates are\n",
    "# between .5 and .54 where the parameter was .5177.\n",
    "# Moreover, the estimates were clustered around the true parameter.\n",
    "# A lot of them were really close.\n",
    "# Some of them were pretty close--only off by .02 or so--and then some of them were farther\n",
    "# away, and so you can't always expect the estimate to be exactly the same as the parameter, or\n",
    "# even to share the first two digits, but we see that they were all clustered around the parameter.\n",
    "# It was more often that we got something close than we got something far away, and even the\n",
    "# ones that were far away weren't that far away--.5 versus .517.\n",
    "Table().with_column('Estimates', estimates).hist(bins=50, normed=False, ec='white')"
   ]
  },
  {
   "cell_type": "code",
   "execution_count": null,
   "metadata": {},
   "outputs": [],
   "source": []
  },
  {
   "cell_type": "code",
   "execution_count": null,
   "metadata": {},
   "outputs": [],
   "source": []
  }
 ],
 "metadata": {
  "kernelspec": {
   "display_name": "Python 3",
   "language": "python",
   "name": "python3"
  },
  "language_info": {
   "codemirror_mode": {
    "name": "ipython",
    "version": 3
   },
   "file_extension": ".py",
   "mimetype": "text/x-python",
   "name": "python",
   "nbconvert_exporter": "python",
   "pygments_lexer": "ipython3",
   "version": "3.6.4"
  }
 },
 "nbformat": 4,
 "nbformat_minor": 2
}
