{
 "cells": [
  {
   "cell_type": "code",
   "execution_count": 1,
   "id": "bf8bfee3",
   "metadata": {},
   "outputs": [],
   "source": [
    "from datascience import *\n",
    "import numpy as np\n",
    "\n",
    "%matplotlib inline\n",
    "import matplotlib.pyplot as plots\n",
    "plots.style.use('fivethirtyeight')"
   ]
  },
  {
   "cell_type": "code",
   "execution_count": 2,
   "id": "dfc56404",
   "metadata": {},
   "outputs": [
    {
     "data": {
      "text/plain": [
       "[1, 7, 3, 9, 5]"
      ]
     },
     "execution_count": 2,
     "metadata": {},
     "output_type": "execute_result"
    }
   ],
   "source": [
    "v = [1, 7, 3, 9, 5]\n",
    "v"
   ]
  },
  {
   "cell_type": "code",
   "execution_count": 6,
   "id": "3d3c347a",
   "metadata": {},
   "outputs": [
    {
     "data": {
      "text/plain": [
       "9"
      ]
     },
     "execution_count": 6,
     "metadata": {},
     "output_type": "execute_result"
    }
   ],
   "source": [
    "percentile(99, v)"
   ]
  },
  {
   "cell_type": "markdown",
   "id": "f5f6f5c9",
   "metadata": {},
   "source": [
    "## Estimation"
   ]
  },
  {
   "cell_type": "code",
   "execution_count": 9,
   "id": "e6588fd8",
   "metadata": {},
   "outputs": [
    {
     "data": {
      "text/html": [
       "<table border=\"1\" class=\"dataframe\">\n",
       "    <thead>\n",
       "        <tr>\n",
       "            <th>Organization Group</th> <th>Job</th> <th>Total Compensation</th>\n",
       "        </tr>\n",
       "    </thead>\n",
       "    <tbody>\n",
       "        <tr>\n",
       "            <td>Public Works, Transportation & Commerce</td> <td>Water Qualitytech I/II     </td> <td>117,767           </td>\n",
       "        </tr>\n",
       "        <tr>\n",
       "            <td>Public Works, Transportation & Commerce</td> <td>Soft Floor Coverer         </td> <td>41,210            </td>\n",
       "        </tr>\n",
       "        <tr>\n",
       "            <td>Community Health                       </td> <td>Health Care Billing Clerk 2</td> <td>110,561           </td>\n",
       "        </tr>\n",
       "    </tbody>\n",
       "</table>\n",
       "<p>... (38214 rows omitted)</p>"
      ],
      "text/plain": [
       "<IPython.core.display.HTML object>"
      ]
     },
     "metadata": {},
     "output_type": "display_data"
    }
   ],
   "source": [
    "sf = Table.read_table('san_francisco_2015.csv').select(3, 11, 21)\n",
    "sf.set_format('Total Compensation', NumberFormatter(0))\n",
    "sf = sf.where('Total Compensation', are.above(10000))\n",
    "sf.show(3)"
   ]
  },
  {
   "cell_type": "code",
   "execution_count": 11,
   "id": "ef181495",
   "metadata": {},
   "outputs": [
    {
     "data": {
      "text/html": [
       "<table border=\"1\" class=\"dataframe\">\n",
       "    <thead>\n",
       "        <tr>\n",
       "            <th>Organization Group</th> <th>Job</th> <th>Total Compensation</th>\n",
       "        </tr>\n",
       "    </thead>\n",
       "    <tbody>\n",
       "        <tr>\n",
       "            <td>General Administration & Finance       </td> <td>Chief Investment Officer   </td> <td>648,875           </td>\n",
       "        </tr>\n",
       "        <tr>\n",
       "            <td>General Administration & Finance       </td> <td>Asst Med Examiner          </td> <td>480,509           </td>\n",
       "        </tr>\n",
       "        <tr>\n",
       "            <td>General Administration & Finance       </td> <td>Asst Med Examiner          </td> <td>427,219           </td>\n",
       "        </tr>\n",
       "        <tr>\n",
       "            <td>Public Works, Transportation & Commerce</td> <td>Dept Head V                </td> <td>426,686           </td>\n",
       "        </tr>\n",
       "        <tr>\n",
       "            <td>Community Health                       </td> <td>Adm, SFGH Medical Center   </td> <td>422,800           </td>\n",
       "        </tr>\n",
       "        <tr>\n",
       "            <td>Public Protection                      </td> <td>Chief, Fire Department     </td> <td>418,844           </td>\n",
       "        </tr>\n",
       "        <tr>\n",
       "            <td>Public Works, Transportation & Commerce</td> <td>Executive Contract Employee</td> <td>417,848           </td>\n",
       "        </tr>\n",
       "        <tr>\n",
       "            <td>Community Health                       </td> <td>Senior Physician Specialist</td> <td>415,457           </td>\n",
       "        </tr>\n",
       "        <tr>\n",
       "            <td>Public Protection                      </td> <td>Chief Of Police            </td> <td>414,791           </td>\n",
       "        </tr>\n",
       "        <tr>\n",
       "            <td>Public Works, Transportation & Commerce</td> <td>Gen Mgr, Public Trnsp Dept </td> <td>405,050           </td>\n",
       "        </tr>\n",
       "    </tbody>\n",
       "</table>\n",
       "<p>... (38207 rows omitted)</p>"
      ],
      "text/plain": [
       "Organization Group                      | Job                         | Total Compensation\n",
       "General Administration & Finance        | Chief Investment Officer    | 648,875\n",
       "General Administration & Finance        | Asst Med Examiner           | 480,509\n",
       "General Administration & Finance        | Asst Med Examiner           | 427,219\n",
       "Public Works, Transportation & Commerce | Dept Head V                 | 426,686\n",
       "Community Health                        | Adm, SFGH Medical Center    | 422,800\n",
       "Public Protection                       | Chief, Fire Department      | 418,844\n",
       "Public Works, Transportation & Commerce | Executive Contract Employee | 417,848\n",
       "Community Health                        | Senior Physician Specialist | 415,457\n",
       "Public Protection                       | Chief Of Police             | 414,791\n",
       "Public Works, Transportation & Commerce | Gen Mgr, Public Trnsp Dept  | 405,050\n",
       "... (38207 rows omitted)"
      ]
     },
     "execution_count": 11,
     "metadata": {},
     "output_type": "execute_result"
    }
   ],
   "source": [
    "sf.sort('Total Compensation', descending=True)"
   ]
  },
  {
   "cell_type": "code",
   "execution_count": 15,
   "id": "c7bbdfd5",
   "metadata": {},
   "outputs": [
    {
     "data": {
      "image/png": "[encoded data removed]",
      "text/plain": [
       "<Figure size 432x288 with 1 Axes>"
      ]
     },
     "metadata": {},
     "output_type": "display_data"
    }
   ],
   "source": [
    "comp_bins = np.arange(0, 700000, 25000)\n",
    "sf.hist('Total Compensation', bins=comp_bins, unit=\"dollar\")"
   ]
  },
  {
   "cell_type": "code",
   "execution_count": 16,
   "id": "6a218f19",
   "metadata": {},
   "outputs": [
    {
     "data": {
      "text/plain": [
       "107219.48"
      ]
     },
     "execution_count": 16,
     "metadata": {},
     "output_type": "execute_result"
    }
   ],
   "source": [
    "percentile(50, sf.column('Total Compensation'))"
   ]
  },
  {
   "cell_type": "code",
   "execution_count": 17,
   "id": "95ee6f1d",
   "metadata": {},
   "outputs": [
    {
     "data": {
      "text/html": [
       "<table border=\"1\" class=\"dataframe\">\n",
       "    <thead>\n",
       "        <tr>\n",
       "            <th>Organization Group</th> <th>Job</th> <th>Total Compensation</th>\n",
       "        </tr>\n",
       "    </thead>\n",
       "    <tbody>\n",
       "        <tr>\n",
       "            <td>Public Protection               </td> <td>Sergeant 3            </td> <td>208,914           </td>\n",
       "        </tr>\n",
       "        <tr>\n",
       "            <td>General Administration & Finance</td> <td>Mayoral Staff VII     </td> <td>113,854           </td>\n",
       "        </tr>\n",
       "        <tr>\n",
       "            <td>General Administration & Finance</td> <td>Public Service Trainee</td> <td>30,053            </td>\n",
       "        </tr>\n",
       "    </tbody>\n",
       "</table>\n",
       "<p>... (197 rows omitted)</p>"
      ],
      "text/plain": [
       "<IPython.core.display.HTML object>"
      ]
     },
     "metadata": {},
     "output_type": "display_data"
    }
   ],
   "source": [
    "sample_from_population = sf.sample(200, with_replacement=False)\n",
    "sample_from_population.show(3)"
   ]
  },
  {
   "cell_type": "code",
   "execution_count": 18,
   "id": "3fa9cbd9",
   "metadata": {},
   "outputs": [
    {
     "data": {
      "text/plain": [
       "100824.85"
      ]
     },
     "execution_count": 18,
     "metadata": {},
     "output_type": "execute_result"
    }
   ],
   "source": [
    "percentile(50, sample_from_population.column('Total Compensation'))"
   ]
  },
  {
   "cell_type": "code",
   "execution_count": 19,
   "id": "46754763",
   "metadata": {},
   "outputs": [
    {
     "data": {
      "text/plain": [
       "107219.48"
      ]
     },
     "execution_count": 19,
     "metadata": {},
     "output_type": "execute_result"
    }
   ],
   "source": [
    "np.median(sf.column('Total Compensation'))"
   ]
  },
  {
   "cell_type": "code",
   "execution_count": 20,
   "id": "2872dbc6",
   "metadata": {},
   "outputs": [
    {
     "data": {
      "text/plain": [
       "100864.205"
      ]
     },
     "execution_count": 20,
     "metadata": {},
     "output_type": "execute_result"
    }
   ],
   "source": [
    "np.median(sample_from_population.column('Total Compensation'))"
   ]
  },
  {
   "cell_type": "code",
   "execution_count": null,
   "id": "a1c6759e",
   "metadata": {},
   "outputs": [],
   "source": []
  }
 ],
 "metadata": {
  "kernelspec": {
   "display_name": "Python 3 (ipykernel)",
   "language": "python",
   "name": "python3"
  },
  "language_info": {
   "codemirror_mode": {
    "name": "ipython",
    "version": 3
   },
   "file_extension": ".py",
   "mimetype": "text/x-python",
   "name": "python",
   "nbconvert_exporter": "python",
   "pygments_lexer": "ipython3",
   "version": "3.7.6"
  }
 },
 "nbformat": 4,
 "nbformat_minor": 5
}
