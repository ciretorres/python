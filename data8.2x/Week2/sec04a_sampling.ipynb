{
 "cells": [
  {
   "cell_type": "code",
   "execution_count": 1,
   "id": "6e4003a7",
   "metadata": {},
   "outputs": [],
   "source": [
    "from datascience import *\n",
    "import numpy as np\n",
    "\n",
    "import matplotlib.pyplot as plots\n",
    "plots.style.use('fivethirtyeight')\n",
    "%matplotlib inline"
   ]
  },
  {
   "cell_type": "code",
   "execution_count": 3,
   "id": "a371af3c",
   "metadata": {},
   "outputs": [
    {
     "data": {
      "text/html": [
       "<table border=\"1\" class=\"dataframe\">\n",
       "    <thead>\n",
       "        <tr>\n",
       "            <th>Row Index</th> <th>Title</th> <th>Studio</th> <th>Gross</th> <th>Gross (Adjusted)</th> <th>Year</th>\n",
       "        </tr>\n",
       "    </thead>\n",
       "    <tbody>\n",
       "        <tr>\n",
       "            <td>0        </td> <td>Gone with the Wind              </td> <td>MGM            </td> <td>198,676,459</td> <td>1,796,176,700   </td> <td>1939</td>\n",
       "        </tr>\n",
       "        <tr>\n",
       "            <td>1        </td> <td>Star Wars                       </td> <td>Fox            </td> <td>460,998,007</td> <td>1,583,483,200   </td> <td>1977</td>\n",
       "        </tr>\n",
       "        <tr>\n",
       "            <td>2        </td> <td>The Sound of Music              </td> <td>Fox            </td> <td>158,671,368</td> <td>1,266,072,700   </td> <td>1965</td>\n",
       "        </tr>\n",
       "        <tr>\n",
       "            <td>3        </td> <td>E.T.: The Extra-Terrestrial     </td> <td>Universal      </td> <td>435,110,554</td> <td>1,261,085,000   </td> <td>1982</td>\n",
       "        </tr>\n",
       "        <tr>\n",
       "            <td>4        </td> <td>Titanic                         </td> <td>Paramount      </td> <td>658,672,302</td> <td>1,204,368,000   </td> <td>1997</td>\n",
       "        </tr>\n",
       "        <tr>\n",
       "            <td>5        </td> <td>The Ten Commandments            </td> <td>Paramount      </td> <td>65,500,000 </td> <td>1,164,590,000   </td> <td>1956</td>\n",
       "        </tr>\n",
       "        <tr>\n",
       "            <td>6        </td> <td>Jaws                            </td> <td>Universal      </td> <td>260,000,000</td> <td>1,138,620,700   </td> <td>1975</td>\n",
       "        </tr>\n",
       "        <tr>\n",
       "            <td>7        </td> <td>Doctor Zhivago                  </td> <td>MGM            </td> <td>111,721,910</td> <td>1,103,564,200   </td> <td>1965</td>\n",
       "        </tr>\n",
       "        <tr>\n",
       "            <td>8        </td> <td>The Exorcist                    </td> <td>Warner Brothers</td> <td>232,906,145</td> <td>983,226,600     </td> <td>1973</td>\n",
       "        </tr>\n",
       "        <tr>\n",
       "            <td>9        </td> <td>Snow White and the Seven Dwarves</td> <td>Disney         </td> <td>184,925,486</td> <td>969,010,000     </td> <td>1937</td>\n",
       "        </tr>\n",
       "    </tbody>\n",
       "</table>\n",
       "<p>... (190 rows omitted)</p>"
      ],
      "text/plain": [
       "Row Index | Title                            | Studio          | Gross       | Gross (Adjusted) | Year\n",
       "0         | Gone with the Wind               | MGM             | 198,676,459 | 1,796,176,700    | 1939\n",
       "1         | Star Wars                        | Fox             | 460,998,007 | 1,583,483,200    | 1977\n",
       "2         | The Sound of Music               | Fox             | 158,671,368 | 1,266,072,700    | 1965\n",
       "3         | E.T.: The Extra-Terrestrial      | Universal       | 435,110,554 | 1,261,085,000    | 1982\n",
       "4         | Titanic                          | Paramount       | 658,672,302 | 1,204,368,000    | 1997\n",
       "5         | The Ten Commandments             | Paramount       | 65,500,000  | 1,164,590,000    | 1956\n",
       "6         | Jaws                             | Universal       | 260,000,000 | 1,138,620,700    | 1975\n",
       "7         | Doctor Zhivago                   | MGM             | 111,721,910 | 1,103,564,200    | 1965\n",
       "8         | The Exorcist                     | Warner Brothers | 232,906,145 | 983,226,600      | 1973\n",
       "9         | Snow White and the Seven Dwarves | Disney          | 184,925,486 | 969,010,000      | 1937\n",
       "... (190 rows omitted)"
      ]
     },
     "execution_count": 3,
     "metadata": {},
     "output_type": "execute_result"
    }
   ],
   "source": [
    "top = Table.read_table('top_movies_2017.csv')\n",
    "top = top.with_column('Row Index', np.arange(top.num_rows)).move_to_start('Row Index')\n",
    "top.set_format(['Gross', 'Gross (Adjusted)'], NumberFormatter)"
   ]
  },
  {
   "cell_type": "code",
   "execution_count": 4,
   "id": "535df264",
   "metadata": {},
   "outputs": [
    {
     "data": {
      "text/html": [
       "<table border=\"1\" class=\"dataframe\">\n",
       "    <thead>\n",
       "        <tr>\n",
       "            <th>Row Index</th> <th>Title</th> <th>Studio</th> <th>Gross</th> <th>Gross (Adjusted)</th> <th>Year</th>\n",
       "        </tr>\n",
       "    </thead>\n",
       "    <tbody>\n",
       "        <tr>\n",
       "            <td>3        </td> <td>E.T.: The Extra-Terrestrial</td> <td>Universal</td> <td>435,110,554</td> <td>1,261,085,000   </td> <td>1982</td>\n",
       "        </tr>\n",
       "        <tr>\n",
       "            <td>5        </td> <td>The Ten Commandments       </td> <td>Paramount</td> <td>65,500,000 </td> <td>1,164,590,000   </td> <td>1956</td>\n",
       "        </tr>\n",
       "        <tr>\n",
       "            <td>7        </td> <td>Doctor Zhivago             </td> <td>MGM      </td> <td>111,721,910</td> <td>1,103,564,200   </td> <td>1965</td>\n",
       "        </tr>\n",
       "    </tbody>\n",
       "</table>"
      ],
      "text/plain": [
       "Row Index | Title                       | Studio    | Gross       | Gross (Adjusted) | Year\n",
       "3         | E.T.: The Extra-Terrestrial | Universal | 435,110,554 | 1,261,085,000    | 1982\n",
       "5         | The Ten Commandments        | Paramount | 65,500,000  | 1,164,590,000    | 1956\n",
       "7         | Doctor Zhivago              | MGM       | 111,721,910 | 1,103,564,200    | 1965"
      ]
     },
     "execution_count": 4,
     "metadata": {},
     "output_type": "execute_result"
    }
   ],
   "source": [
    "top.take([3, 5, 7])"
   ]
  },
  {
   "cell_type": "code",
   "execution_count": 5,
   "id": "465b4f0c",
   "metadata": {},
   "outputs": [
    {
     "data": {
      "text/html": [
       "<table border=\"1\" class=\"dataframe\">\n",
       "    <thead>\n",
       "        <tr>\n",
       "            <th>Row Index</th> <th>Title</th> <th>Studio</th> <th>Gross</th> <th>Gross (Adjusted)</th> <th>Year</th>\n",
       "        </tr>\n",
       "    </thead>\n",
       "    <tbody>\n",
       "        <tr>\n",
       "            <td>9        </td> <td>Snow White and the Seven Dwarves           </td> <td>Disney         </td> <td>184,925,486</td> <td>969,010,000     </td> <td>1937</td>\n",
       "        </tr>\n",
       "        <tr>\n",
       "            <td>35       </td> <td>Butch Cassidy and the Sundance Kid         </td> <td>Fox            </td> <td>102,308,889</td> <td>627,259,300     </td> <td>1969</td>\n",
       "        </tr>\n",
       "        <tr>\n",
       "            <td>70       </td> <td>Smokey and the Bandit                      </td> <td>Universal      </td> <td>126,737,428</td> <td>505,244,700     </td> <td>1977</td>\n",
       "        </tr>\n",
       "        <tr>\n",
       "            <td>71       </td> <td>Beauty and the Beast (2017)                </td> <td>Buena Vista    </td> <td>504,014,165</td> <td>504,014,165     </td> <td>2017</td>\n",
       "        </tr>\n",
       "        <tr>\n",
       "            <td>74       </td> <td>Harry Potter and the Sorcerer's Stone      </td> <td>Warner Brothers</td> <td>317,575,550</td> <td>497,066,400     </td> <td>2001</td>\n",
       "        </tr>\n",
       "        <tr>\n",
       "            <td>75       </td> <td>Lady and the Tramp                         </td> <td>Disney         </td> <td>93,602,326 </td> <td>495,483,100     </td> <td>1955</td>\n",
       "        </tr>\n",
       "        <tr>\n",
       "            <td>91       </td> <td>Indiana Jones and the Temple of Doom       </td> <td>Paramount      </td> <td>179,870,271</td> <td>475,906,700     </td> <td>1984</td>\n",
       "        </tr>\n",
       "        <tr>\n",
       "            <td>105      </td> <td>Indiana Jones and the Last Crusade         </td> <td>Paramount      </td> <td>197,171,806</td> <td>439,312,600     </td> <td>1989</td>\n",
       "        </tr>\n",
       "        <tr>\n",
       "            <td>114      </td> <td>Harry Potter and the Deathly Hallows Part 2</td> <td>Warner Brothers</td> <td>381,011,219</td> <td>426,630,300     </td> <td>2011</td>\n",
       "        </tr>\n",
       "        <tr>\n",
       "            <td>129      </td> <td>Beauty and the Beast                       </td> <td>Buena Vista    </td> <td>218,967,620</td> <td>403,283,400     </td> <td>1991</td>\n",
       "        </tr>\n",
       "    </tbody>\n",
       "</table>\n",
       "<p>... (7 rows omitted)</p>"
      ],
      "text/plain": [
       "Row Index | Title                                       | Studio          | Gross       | Gross (Adjusted) | Year\n",
       "9         | Snow White and the Seven Dwarves            | Disney          | 184,925,486 | 969,010,000      | 1937\n",
       "35        | Butch Cassidy and the Sundance Kid          | Fox             | 102,308,889 | 627,259,300      | 1969\n",
       "70        | Smokey and the Bandit                       | Universal       | 126,737,428 | 505,244,700      | 1977\n",
       "71        | Beauty and the Beast (2017)                 | Buena Vista     | 504,014,165 | 504,014,165      | 2017\n",
       "74        | Harry Potter and the Sorcerer's Stone       | Warner Brothers | 317,575,550 | 497,066,400      | 2001\n",
       "75        | Lady and the Tramp                          | Disney          | 93,602,326  | 495,483,100      | 1955\n",
       "91        | Indiana Jones and the Temple of Doom        | Paramount       | 179,870,271 | 475,906,700      | 1984\n",
       "105       | Indiana Jones and the Last Crusade          | Paramount       | 197,171,806 | 439,312,600      | 1989\n",
       "114       | Harry Potter and the Deathly Hallows Part 2 | Warner Brothers | 381,011,219 | 426,630,300      | 2011\n",
       "129       | Beauty and the Beast                        | Buena Vista     | 218,967,620 | 403,283,400      | 1991\n",
       "... (7 rows omitted)"
      ]
     },
     "execution_count": 5,
     "metadata": {},
     "output_type": "execute_result"
    }
   ],
   "source": [
    "top.where('Title', are.containing('and the'))"
   ]
  },
  {
   "cell_type": "code",
   "execution_count": 6,
   "id": "468f14fc",
   "metadata": {},
   "outputs": [
    {
     "data": {
      "text/html": [
       "<table border=\"1\" class=\"dataframe\">\n",
       "    <thead>\n",
       "        <tr>\n",
       "            <th>Row Index</th> <th>Title</th> <th>Studio</th> <th>Gross</th> <th>Gross (Adjusted)</th> <th>Year</th>\n",
       "        </tr>\n",
       "    </thead>\n",
       "    <tbody>\n",
       "        <tr>\n",
       "            <td>0        </td> <td>Gone with the Wind         </td> <td>MGM      </td> <td>198,676,459</td> <td>1,796,176,700   </td> <td>1939</td>\n",
       "        </tr>\n",
       "        <tr>\n",
       "            <td>1        </td> <td>Star Wars                  </td> <td>Fox      </td> <td>460,998,007</td> <td>1,583,483,200   </td> <td>1977</td>\n",
       "        </tr>\n",
       "        <tr>\n",
       "            <td>2        </td> <td>The Sound of Music         </td> <td>Fox      </td> <td>158,671,368</td> <td>1,266,072,700   </td> <td>1965</td>\n",
       "        </tr>\n",
       "        <tr>\n",
       "            <td>3        </td> <td>E.T.: The Extra-Terrestrial</td> <td>Universal</td> <td>435,110,554</td> <td>1,261,085,000   </td> <td>1982</td>\n",
       "        </tr>\n",
       "        <tr>\n",
       "            <td>4        </td> <td>Titanic                    </td> <td>Paramount</td> <td>658,672,302</td> <td>1,204,368,000   </td> <td>1997</td>\n",
       "        </tr>\n",
       "    </tbody>\n",
       "</table>"
      ],
      "text/plain": [
       "Row Index | Title                       | Studio    | Gross       | Gross (Adjusted) | Year\n",
       "0         | Gone with the Wind          | MGM       | 198,676,459 | 1,796,176,700    | 1939\n",
       "1         | Star Wars                   | Fox       | 460,998,007 | 1,583,483,200    | 1977\n",
       "2         | The Sound of Music          | Fox       | 158,671,368 | 1,266,072,700    | 1965\n",
       "3         | E.T.: The Extra-Terrestrial | Universal | 435,110,554 | 1,261,085,000    | 1982\n",
       "4         | Titanic                     | Paramount | 658,672,302 | 1,204,368,000    | 1997"
      ]
     },
     "execution_count": 6,
     "metadata": {},
     "output_type": "execute_result"
    }
   ],
   "source": [
    "start = np.random.choice(np.arange(10))\n",
    "top.take(np.arange(start, start+5))"
   ]
  },
  {
   "cell_type": "code",
   "execution_count": 9,
   "id": "ec86d8a1",
   "metadata": {},
   "outputs": [
    {
     "data": {
      "text/html": [
       "<table border=\"1\" class=\"dataframe\">\n",
       "    <thead>\n",
       "        <tr>\n",
       "            <th>Title</th> <th>count</th>\n",
       "        </tr>\n",
       "    </thead>\n",
       "    <tbody>\n",
       "        <tr>\n",
       "            <td>101 Dalmatians                       </td> <td>4    </td>\n",
       "        </tr>\n",
       "        <tr>\n",
       "            <td>2001: A Space Odyssey                </td> <td>5    </td>\n",
       "        </tr>\n",
       "        <tr>\n",
       "            <td>9 to 5                               </td> <td>2    </td>\n",
       "        </tr>\n",
       "        <tr>\n",
       "            <td>Airport                              </td> <td>2    </td>\n",
       "        </tr>\n",
       "        <tr>\n",
       "            <td>Aladdin                              </td> <td>1    </td>\n",
       "        </tr>\n",
       "        <tr>\n",
       "            <td>Alice in Wonderland (2010)           </td> <td>2    </td>\n",
       "        </tr>\n",
       "        <tr>\n",
       "            <td>American Graffiti                    </td> <td>1    </td>\n",
       "        </tr>\n",
       "        <tr>\n",
       "            <td>An Officer and a Gentleman           </td> <td>1    </td>\n",
       "        </tr>\n",
       "        <tr>\n",
       "            <td>Apollo 13                            </td> <td>4    </td>\n",
       "        </tr>\n",
       "        <tr>\n",
       "            <td>Austin Powers: The Spy Who Shagged Me</td> <td>6    </td>\n",
       "        </tr>\n",
       "    </tbody>\n",
       "</table>\n",
       "<p>... (173 rows omitted)</p>"
      ],
      "text/plain": [
       "Title                                 | count\n",
       "101 Dalmatians                        | 4\n",
       "2001: A Space Odyssey                 | 5\n",
       "9 to 5                                | 2\n",
       "Airport                               | 2\n",
       "Aladdin                               | 1\n",
       "Alice in Wonderland (2010)            | 2\n",
       "American Graffiti                     | 1\n",
       "An Officer and a Gentleman            | 1\n",
       "Apollo 13                             | 4\n",
       "Austin Powers: The Spy Who Shagged Me | 6\n",
       "... (173 rows omitted)"
      ]
     },
     "execution_count": 9,
     "metadata": {},
     "output_type": "execute_result"
    }
   ],
   "source": [
    "top.sample(500).group('Title')"
   ]
  },
  {
   "cell_type": "code",
   "execution_count": 10,
   "id": "269286f1",
   "metadata": {},
   "outputs": [
    {
     "data": {
      "text/html": [
       "<table border=\"1\" class=\"dataframe\">\n",
       "    <thead>\n",
       "        <tr>\n",
       "            <th>Row Index</th> <th>Title</th> <th>Studio</th> <th>Gross</th> <th>Gross (Adjusted)</th> <th>Year</th>\n",
       "        </tr>\n",
       "    </thead>\n",
       "    <tbody>\n",
       "        <tr>\n",
       "            <td>128      </td> <td>Gremlins          </td> <td>Warner Brothers</td> <td>153,083,102</td> <td>404,336,400     </td> <td>1984</td>\n",
       "        </tr>\n",
       "        <tr>\n",
       "            <td>0        </td> <td>Gone with the Wind</td> <td>MGM            </td> <td>198,676,459</td> <td>1,796,176,700   </td> <td>1939</td>\n",
       "        </tr>\n",
       "        <tr>\n",
       "            <td>18       </td> <td>The Lion King     </td> <td>Buena Vista    </td> <td>422,783,777</td> <td>792,511,700     </td> <td>1994</td>\n",
       "        </tr>\n",
       "        <tr>\n",
       "            <td>191      </td> <td>Signs             </td> <td>Buena Vista    </td> <td>227,966,634</td> <td>348,787,100     </td> <td>2002</td>\n",
       "        </tr>\n",
       "        <tr>\n",
       "            <td>14       </td> <td>Avatar            </td> <td>Fox            </td> <td>760,507,625</td> <td>865,082,100     </td> <td>2009</td>\n",
       "        </tr>\n",
       "    </tbody>\n",
       "</table>"
      ],
      "text/plain": [
       "Row Index | Title              | Studio          | Gross       | Gross (Adjusted) | Year\n",
       "128       | Gremlins           | Warner Brothers | 153,083,102 | 404,336,400      | 1984\n",
       "0         | Gone with the Wind | MGM             | 198,676,459 | 1,796,176,700    | 1939\n",
       "18        | The Lion King      | Buena Vista     | 422,783,777 | 792,511,700      | 1994\n",
       "191       | Signs              | Buena Vista     | 227,966,634 | 348,787,100      | 2002\n",
       "14        | Avatar             | Fox             | 760,507,625 | 865,082,100      | 2009"
      ]
     },
     "execution_count": 10,
     "metadata": {},
     "output_type": "execute_result"
    }
   ],
   "source": [
    "top.sample(5, with_replacement=False)"
   ]
  },
  {
   "cell_type": "code",
   "execution_count": null,
   "id": "f30ad1a1",
   "metadata": {},
   "outputs": [],
   "source": []
  }
 ],
 "metadata": {
  "kernelspec": {
   "display_name": "Python 3 (ipykernel)",
   "language": "python",
   "name": "python3"
  },
  "language_info": {
   "codemirror_mode": {
    "name": "ipython",
    "version": 3
   },
   "file_extension": ".py",
   "mimetype": "text/x-python",
   "name": "python",
   "nbconvert_exporter": "python",
   "pygments_lexer": "ipython3",
   "version": "3.7.6"
  }
 },
 "nbformat": 4,
 "nbformat_minor": 5
}
