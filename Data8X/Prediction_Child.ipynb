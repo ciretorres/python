{
 "cells": [
  {
   "cell_type": "code",
   "execution_count": 1,
   "metadata": {},
   "outputs": [],
   "source": [
    "from datascience import *\n",
    "import numpy as np\n",
    "\n",
    "%matplotlib inline\n",
    "import matplotlib.pyplot as plots\n",
    "plots.style.use('fivethirtyeight')"
   ]
  },
  {
   "cell_type": "markdown",
   "metadata": {},
   "source": [
    "# Prediction child"
   ]
  },
  {
   "cell_type": "code",
   "execution_count": 2,
   "metadata": {},
   "outputs": [
    {
     "data": {
      "text/html": [
       "<table border=\"1\" class=\"dataframe\">\n",
       "    <thead>\n",
       "        <tr>\n",
       "            <th>father</th> <th>mother</th> <th>child</th>\n",
       "        </tr>\n",
       "    </thead>\n",
       "    <tbody>\n",
       "        <tr>\n",
       "            <td>78.5  </td> <td>67    </td> <td>73.2 </td>\n",
       "        </tr>\n",
       "    </tbody>\n",
       "        <tr>\n",
       "            <td>78.5  </td> <td>67    </td> <td>69.2 </td>\n",
       "        </tr>\n",
       "    </tbody>\n",
       "        <tr>\n",
       "            <td>78.5  </td> <td>67    </td> <td>69   </td>\n",
       "        </tr>\n",
       "    </tbody>\n",
       "        <tr>\n",
       "            <td>78.5  </td> <td>67    </td> <td>69   </td>\n",
       "        </tr>\n",
       "    </tbody>\n",
       "        <tr>\n",
       "            <td>75.5  </td> <td>66.5  </td> <td>73.5 </td>\n",
       "        </tr>\n",
       "    </tbody>\n",
       "        <tr>\n",
       "            <td>75.5  </td> <td>66.5  </td> <td>72.5 </td>\n",
       "        </tr>\n",
       "    </tbody>\n",
       "        <tr>\n",
       "            <td>75.5  </td> <td>66.5  </td> <td>65.5 </td>\n",
       "        </tr>\n",
       "    </tbody>\n",
       "        <tr>\n",
       "            <td>75.5  </td> <td>66.5  </td> <td>65.5 </td>\n",
       "        </tr>\n",
       "    </tbody>\n",
       "        <tr>\n",
       "            <td>75    </td> <td>64    </td> <td>71   </td>\n",
       "        </tr>\n",
       "    </tbody>\n",
       "        <tr>\n",
       "            <td>75    </td> <td>64    </td> <td>68   </td>\n",
       "        </tr>\n",
       "    </tbody>\n",
       "</table>\n",
       "<p>... (924 rows omitted)</p>"
      ],
      "text/plain": [
       "father | mother | child\n",
       "78.5   | 67     | 73.2\n",
       "78.5   | 67     | 69.2\n",
       "78.5   | 67     | 69\n",
       "78.5   | 67     | 69\n",
       "75.5   | 66.5   | 73.5\n",
       "75.5   | 66.5   | 72.5\n",
       "75.5   | 66.5   | 65.5\n",
       "75.5   | 66.5   | 65.5\n",
       "75     | 64     | 71\n",
       "75     | 64     | 68\n",
       "... (924 rows omitted)"
      ]
     },
     "execution_count": 2,
     "metadata": {},
     "output_type": "execute_result"
    }
   ],
   "source": [
    "height = Table.read_table('db/galton.csv').select(1, 2, 7).relabeled(2, 'child')\n",
    "height"
   ]
  },
  {
   "cell_type": "code",
   "execution_count": 3,
   "metadata": {},
   "outputs": [
    {
     "data": {
      "text/html": [
       "<table border=\"1\" class=\"dataframe\">\n",
       "    <thead>\n",
       "        <tr>\n",
       "            <th>father</th> <th>mother</th> <th>child</th> <th>parent average</th>\n",
       "        </tr>\n",
       "    </thead>\n",
       "    <tbody>\n",
       "        <tr>\n",
       "            <td>78.5  </td> <td>67    </td> <td>73.2 </td> <td>72.75         </td>\n",
       "        </tr>\n",
       "    </tbody>\n",
       "        <tr>\n",
       "            <td>78.5  </td> <td>67    </td> <td>69.2 </td> <td>72.75         </td>\n",
       "        </tr>\n",
       "    </tbody>\n",
       "        <tr>\n",
       "            <td>78.5  </td> <td>67    </td> <td>69   </td> <td>72.75         </td>\n",
       "        </tr>\n",
       "    </tbody>\n",
       "        <tr>\n",
       "            <td>78.5  </td> <td>67    </td> <td>69   </td> <td>72.75         </td>\n",
       "        </tr>\n",
       "    </tbody>\n",
       "        <tr>\n",
       "            <td>75.5  </td> <td>66.5  </td> <td>73.5 </td> <td>71            </td>\n",
       "        </tr>\n",
       "    </tbody>\n",
       "        <tr>\n",
       "            <td>75.5  </td> <td>66.5  </td> <td>72.5 </td> <td>71            </td>\n",
       "        </tr>\n",
       "    </tbody>\n",
       "        <tr>\n",
       "            <td>75.5  </td> <td>66.5  </td> <td>65.5 </td> <td>71            </td>\n",
       "        </tr>\n",
       "    </tbody>\n",
       "        <tr>\n",
       "            <td>75.5  </td> <td>66.5  </td> <td>65.5 </td> <td>71            </td>\n",
       "        </tr>\n",
       "    </tbody>\n",
       "        <tr>\n",
       "            <td>75    </td> <td>64    </td> <td>71   </td> <td>69.5          </td>\n",
       "        </tr>\n",
       "    </tbody>\n",
       "        <tr>\n",
       "            <td>75    </td> <td>64    </td> <td>68   </td> <td>69.5          </td>\n",
       "        </tr>\n",
       "    </tbody>\n",
       "</table>\n",
       "<p>... (924 rows omitted)</p>"
      ],
      "text/plain": [
       "father | mother | child | parent average\n",
       "78.5   | 67     | 73.2  | 72.75\n",
       "78.5   | 67     | 69.2  | 72.75\n",
       "78.5   | 67     | 69    | 72.75\n",
       "78.5   | 67     | 69    | 72.75\n",
       "75.5   | 66.5   | 73.5  | 71\n",
       "75.5   | 66.5   | 72.5  | 71\n",
       "75.5   | 66.5   | 65.5  | 71\n",
       "75.5   | 66.5   | 65.5  | 71\n",
       "75     | 64     | 71    | 69.5\n",
       "75     | 64     | 68    | 69.5\n",
       "... (924 rows omitted)"
      ]
     },
     "execution_count": 3,
     "metadata": {},
     "output_type": "execute_result"
    }
   ],
   "source": [
    "height = height.with_column(\n",
    "    'parent average', (height.column('mother') + height.column('father')) / 2\n",
    ")\n",
    "height"
   ]
  },
  {
   "cell_type": "code",
   "execution_count": 4,
   "metadata": {},
   "outputs": [],
   "source": [
    "def predict_child(pa):\n",
    "    close_points = height.where('parent average', are.between(pa - 0.5, pa + 0.5))\n",
    "    return close_points.column('child').mean()"
   ]
  },
  {
   "cell_type": "code",
   "execution_count": 5,
   "metadata": {},
   "outputs": [
    {
     "data": {
      "text/html": [
       "<table border=\"1\" class=\"dataframe\">\n",
       "    <thead>\n",
       "        <tr>\n",
       "            <th>father</th> <th>mother</th> <th>child</th> <th>parent average</th> <th>prediction</th>\n",
       "        </tr>\n",
       "    </thead>\n",
       "    <tbody>\n",
       "        <tr>\n",
       "            <td>78.5  </td> <td>67    </td> <td>73.2 </td> <td>72.75         </td> <td>70.1      </td>\n",
       "        </tr>\n",
       "    </tbody>\n",
       "        <tr>\n",
       "            <td>78.5  </td> <td>67    </td> <td>69.2 </td> <td>72.75         </td> <td>70.1      </td>\n",
       "        </tr>\n",
       "    </tbody>\n",
       "        <tr>\n",
       "            <td>78.5  </td> <td>67    </td> <td>69   </td> <td>72.75         </td> <td>70.1      </td>\n",
       "        </tr>\n",
       "    </tbody>\n",
       "        <tr>\n",
       "            <td>78.5  </td> <td>67    </td> <td>69   </td> <td>72.75         </td> <td>70.1      </td>\n",
       "        </tr>\n",
       "    </tbody>\n",
       "        <tr>\n",
       "            <td>75.5  </td> <td>66.5  </td> <td>73.5 </td> <td>71            </td> <td>70.4158   </td>\n",
       "        </tr>\n",
       "    </tbody>\n",
       "        <tr>\n",
       "            <td>75.5  </td> <td>66.5  </td> <td>72.5 </td> <td>71            </td> <td>70.4158   </td>\n",
       "        </tr>\n",
       "    </tbody>\n",
       "        <tr>\n",
       "            <td>75.5  </td> <td>66.5  </td> <td>65.5 </td> <td>71            </td> <td>70.4158   </td>\n",
       "        </tr>\n",
       "    </tbody>\n",
       "        <tr>\n",
       "            <td>75.5  </td> <td>66.5  </td> <td>65.5 </td> <td>71            </td> <td>70.4158   </td>\n",
       "        </tr>\n",
       "    </tbody>\n",
       "        <tr>\n",
       "            <td>75    </td> <td>64    </td> <td>71   </td> <td>69.5          </td> <td>68.5025   </td>\n",
       "        </tr>\n",
       "    </tbody>\n",
       "        <tr>\n",
       "            <td>75    </td> <td>64    </td> <td>68   </td> <td>69.5          </td> <td>68.5025   </td>\n",
       "        </tr>\n",
       "    </tbody>\n",
       "</table>\n",
       "<p>... (924 rows omitted)</p>"
      ],
      "text/plain": [
       "father | mother | child | parent average | prediction\n",
       "78.5   | 67     | 73.2  | 72.75          | 70.1\n",
       "78.5   | 67     | 69.2  | 72.75          | 70.1\n",
       "78.5   | 67     | 69    | 72.75          | 70.1\n",
       "78.5   | 67     | 69    | 72.75          | 70.1\n",
       "75.5   | 66.5   | 73.5  | 71             | 70.4158\n",
       "75.5   | 66.5   | 72.5  | 71             | 70.4158\n",
       "75.5   | 66.5   | 65.5  | 71             | 70.4158\n",
       "75.5   | 66.5   | 65.5  | 71             | 70.4158\n",
       "75     | 64     | 71    | 69.5           | 68.5025\n",
       "75     | 64     | 68    | 69.5           | 68.5025\n",
       "... (924 rows omitted)"
      ]
     },
     "execution_count": 5,
     "metadata": {},
     "output_type": "execute_result"
    }
   ],
   "source": [
    "# Apply predict_child to all the midparent heights\n",
    "\n",
    "prediction = height.with_column(\n",
    "    'prediction', height.apply(predict_child, 'parent average')\n",
    ")\n",
    "prediction"
   ]
  },
  {
   "cell_type": "code",
   "execution_count": 6,
   "metadata": {},
   "outputs": [
    {
     "data": {
      "image/png": "[encoded data removed]",
      "text/plain": [
       "<matplotlib.figure.Figure at 0x1a16b6b630>"
      ]
     },
     "metadata": {},
     "output_type": "display_data"
    }
   ],
   "source": [
    "prediction.select(2, 3, 4).scatter('parent average')"
   ]
  },
  {
   "cell_type": "code",
   "execution_count": null,
   "metadata": {},
   "outputs": [],
   "source": []
  }
 ],
 "metadata": {
  "kernelspec": {
   "display_name": "Python 3",
   "language": "python",
   "name": "python3"
  },
  "language_info": {
   "codemirror_mode": {
    "name": "ipython",
    "version": 3
   },
   "file_extension": ".py",
   "mimetype": "text/x-python",
   "name": "python",
   "nbconvert_exporter": "python",
   "pygments_lexer": "ipython3",
   "version": "3.6.4"
  }
 },
 "nbformat": 4,
 "nbformat_minor": 2
}
