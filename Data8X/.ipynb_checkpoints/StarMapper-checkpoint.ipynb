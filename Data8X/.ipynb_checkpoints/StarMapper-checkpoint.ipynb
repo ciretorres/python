{
 "cells": [
  {
   "cell_type": "code",
   "execution_count": 2,
   "metadata": {},
   "outputs": [],
   "source": [
    "from datascience import *\n",
    "import numpy as np\n",
    "import math\n",
    "\n",
    "%matplotlib inline\n",
    "import matplotlib.pyplot as plots\n",
    "plots.style.use('fivethirtyeight')"
   ]
  },
  {
   "cell_type": "markdown",
   "metadata": {},
   "source": [
    "# Star Mapper"
   ]
  },
  {
   "cell_type": "code",
   "execution_count": 13,
   "metadata": {},
   "outputs": [],
   "source": [
    "# Speed of light\n",
    "speed_of_light = 299792458 # m/s\n",
    "c = speed_of_light\n",
    "# Light year\n",
    "light_year = 9.4607 * 10**12 # m\n",
    "ly = light_year\n",
    "# Parsec\n",
    "parsec = 3.261564 # ly\n",
    "pc = parsec"
   ]
  },
  {
   "cell_type": "code",
   "execution_count": 14,
   "metadata": {},
   "outputs": [],
   "source": [
    "def distance_modulus(app_mag, abs_mag): # Distance modulus\n",
    "    \"\"\" Calculate the distance modulus: m - M = 5log * d - 5 \"\"\"\n",
    "    log = (app_mag - abs_mag + 5) / 5\n",
    "    dist = 10**log\n",
    "    return dist # parsecs"
   ]
  },
  {
   "cell_type": "markdown",
   "metadata": {},
   "source": [
    "## Cuadro o tabla del módulo distancia"
   ]
  },
  {
   "cell_type": "code",
   "execution_count": 15,
   "metadata": {},
   "outputs": [
    {
     "data": {
      "text/html": [
       "<table border=\"1\" class=\"dataframe\">\n",
       "    <thead>\n",
       "        <tr>\n",
       "            <th>id</th> <th>hip</th> <th>hd</th> <th>hr</th> <th>gl</th> <th>bf</th> <th>proper</th> <th>ra</th> <th>dec</th> <th>dist</th> <th>pmra</th> <th>pmdec</th> <th>rv</th> <th>mag</th> <th>absmag</th> <th>spect</th> <th>ci</th> <th>x</th> <th>y</th> <th>z</th> <th>vx</th> <th>vy</th> <th>vz</th> <th>rarad</th> <th>decrad</th> <th>pmrarad</th> <th>pmdecrad</th> <th>bayer</th> <th>flam</th> <th>con</th> <th>comp</th> <th>comp_primary</th> <th>base</th> <th>lum</th> <th>var</th> <th>var_min</th> <th>var_max</th>\n",
       "        </tr>\n",
       "    </thead>\n",
       "    <tbody>\n",
       "        <tr>\n",
       "            <td>0   </td> <td>nan </td> <td>nan   </td> <td>nan </td> <td>nan </td> <td>nan </td> <td>Sol   </td> <td>0       </td> <td>0       </td> <td>0      </td> <td>0     </td> <td>0    </td> <td>0   </td> <td>-26.7</td> <td>4.85  </td> <td>G2V  </td> <td>0.656 </td> <td>5e-06  </td> <td>0       </td> <td>0      </td> <td>0       </td> <td>0        </td> <td>0        </td> <td>0          </td> <td>0        </td> <td>0           </td> <td>0           </td> <td>nan  </td> <td>nan </td> <td>nan </td> <td>1   </td> <td>0           </td> <td>nan </td> <td>1       </td> <td>nan </td> <td>nan    </td> <td>nan    </td>\n",
       "        </tr>\n",
       "    </tbody>\n",
       "        <tr>\n",
       "            <td>1   </td> <td>1   </td> <td>224700</td> <td>nan </td> <td>nan </td> <td>nan </td> <td>nan   </td> <td>6e-05   </td> <td>1.08901 </td> <td>219.78 </td> <td>-5.2  </td> <td>-1.88</td> <td>0   </td> <td>9.1  </td> <td>2.39  </td> <td>F5   </td> <td>0.482 </td> <td>219.741</td> <td>0.003449</td> <td>4.17706</td> <td>4e-08   </td> <td>-5.54e-06</td> <td>-2e-06   </td> <td>1.56934e-05</td> <td>0.0190068</td> <td>-2.52103e-08</td> <td>-9.1145e-09 </td> <td>nan  </td> <td>nan </td> <td>Psc </td> <td>1   </td> <td>1           </td> <td>nan </td> <td>9.63829 </td> <td>nan </td> <td>nan    </td> <td>nan    </td>\n",
       "        </tr>\n",
       "    </tbody>\n",
       "        <tr>\n",
       "            <td>2   </td> <td>2   </td> <td>224690</td> <td>nan </td> <td>nan </td> <td>nan </td> <td>nan   </td> <td>0.000283</td> <td>-19.4988</td> <td>47.9616</td> <td>181.21</td> <td>-0.93</td> <td>0   </td> <td>9.27 </td> <td>5.866 </td> <td>K3V  </td> <td>0.999 </td> <td>45.2109</td> <td>0.003365</td> <td>-16.009</td> <td>-7e-08  </td> <td>4.213e-05</td> <td>-2e-07   </td> <td>7.39611e-05</td> <td>-0.340319</td> <td>8.78531e-07 </td> <td>-4.50877e-09</td> <td>nan  </td> <td>nan </td> <td>Cet </td> <td>1   </td> <td>2           </td> <td>nan </td> <td>0.392283</td> <td>nan </td> <td>nan    </td> <td>nan    </td>\n",
       "        </tr>\n",
       "    </tbody>\n",
       "        <tr>\n",
       "            <td>3   </td> <td>3   </td> <td>224699</td> <td>nan </td> <td>nan </td> <td>nan </td> <td>nan   </td> <td>0.000335</td> <td>38.8593 </td> <td>442.478</td> <td>5.24  </td> <td>-2.91</td> <td>0   </td> <td>6.61 </td> <td>-1.619</td> <td>B9   </td> <td>-0.019</td> <td>344.553</td> <td>0.030213</td> <td>277.615</td> <td>3.92e-06</td> <td>1.124e-05</td> <td>-4.86e-06</td> <td>8.76263e-05</td> <td>0.678222 </td> <td>2.54042e-08 </td> <td>-1.41081e-08</td> <td>nan  </td> <td>nan </td> <td>And </td> <td>1   </td> <td>3           </td> <td>nan </td> <td>386.901 </td> <td>nan </td> <td>nan    </td> <td>nan    </td>\n",
       "        </tr>\n",
       "    </tbody>\n",
       "        <tr>\n",
       "            <td>4   </td> <td>4   </td> <td>224707</td> <td>nan </td> <td>nan </td> <td>nan </td> <td>nan   </td> <td>0.000569</td> <td>-51.8935</td> <td>134.228</td> <td>62.85 </td> <td>0.16 </td> <td>0   </td> <td>8.06 </td> <td>2.421 </td> <td>F0V  </td> <td>0.37  </td> <td>82.8355</td> <td>0.012476</td> <td>-105.62</td> <td>8e-08   </td> <td>4.09e-05 </td> <td>6e-08    </td> <td>0.000148954</td> <td>-0.905713</td> <td>3.04705e-07 </td> <td>7.75701e-10 </td> <td>nan  </td> <td>nan </td> <td>Phe </td> <td>1   </td> <td>4           </td> <td>nan </td> <td>9.36699 </td> <td>nan </td> <td>nan    </td> <td>nan    </td>\n",
       "        </tr>\n",
       "    </tbody>\n",
       "</table>\n",
       "<p>... (119609 rows omitted)</p>"
      ],
      "text/plain": [
       "<IPython.core.display.HTML object>"
      ]
     },
     "metadata": {},
     "output_type": "display_data"
    }
   ],
   "source": [
    "# Read table from star catalog database www.astronexus.com/hyg\n",
    "hygdata_v3 = Table.read_table('db/hygdata_v3.csv')\n",
    "hygdata_v3.show(5)"
   ]
  },
  {
   "cell_type": "code",
   "execution_count": 16,
   "metadata": {},
   "outputs": [
    {
     "data": {
      "text/html": [
       "<table border=\"1\" class=\"dataframe\">\n",
       "    <thead>\n",
       "        <tr>\n",
       "            <th>id</th> <th>proper</th> <th>mag</th> <th>absmag</th> <th>dist</th> <th>ra</th> <th>dec</th> <th>x</th> <th>y</th> <th>z</th>\n",
       "        </tr>\n",
       "    </thead>\n",
       "    <tbody>\n",
       "        <tr>\n",
       "            <td>0     </td> <td>Sol             </td> <td>-26.7</td> <td>4.85  </td> <td>0     </td> <td>0      </td> <td>0       </td> <td>5e-06    </td> <td>0        </td> <td>0        </td>\n",
       "        </tr>\n",
       "    </tbody>\n",
       "        <tr>\n",
       "            <td>70666 </td> <td>Proxima Centauri</td> <td>11.01</td> <td>15.447</td> <td>1.2959</td> <td>14.496 </td> <td>-62.6795</td> <td>-0.472264</td> <td>-0.361451</td> <td>-1.15122 </td>\n",
       "        </tr>\n",
       "    </tbody>\n",
       "        <tr>\n",
       "            <td>71456 </td> <td>Rigil Kentaurus </td> <td>-0.01</td> <td>4.379 </td> <td>1.3248</td> <td>14.6608</td> <td>-60.834 </td> <td>-0.495203</td> <td>-0.414084</td> <td>-1.15663 </td>\n",
       "        </tr>\n",
       "    </tbody>\n",
       "        <tr>\n",
       "            <td>87665 </td> <td>Barnard's Star  </td> <td>9.54 </td> <td>13.235</td> <td>1.8238</td> <td>17.9635</td> <td>4.69339 </td> <td>-0.017373</td> <td>-1.81661 </td> <td>0.149123 </td>\n",
       "        </tr>\n",
       "    </tbody>\n",
       "        <tr>\n",
       "            <td>53879 </td> <td>Lalande 21185   </td> <td>7.49 </td> <td>10.46 </td> <td>2.5469</td> <td>11.0556</td> <td>35.9699 </td> <td>-1.998   </td> <td>0.504305 </td> <td>1.4955   </td>\n",
       "        </tr>\n",
       "    </tbody>\n",
       "        <tr>\n",
       "            <td>32263 </td> <td>Sirius          </td> <td>-1.44</td> <td>1.454 </td> <td>2.6371</td> <td>6.75248</td> <td>-16.7161</td> <td>-0.494323</td> <td>2.47673  </td> <td>-0.758485</td>\n",
       "        </tr>\n",
       "    </tbody>\n",
       "        <tr>\n",
       "            <td>113687</td> <td>Lacaille 9352   </td> <td>7.35 </td> <td>9.773 </td> <td>3.2759</td> <td>23.0975</td> <td>-35.8531</td> <td>2.58153  </td> <td>-0.621353</td> <td>-1.91877 </td>\n",
       "        </tr>\n",
       "    </tbody>\n",
       "        <tr>\n",
       "            <td>37173 </td> <td>Procyon         </td> <td>0.4  </td> <td>2.671 </td> <td>3.5142</td> <td>7.65503</td> <td>5.22499 </td> <td>-1.46931 </td> <td>3.17617  </td> <td>0.320024 </td>\n",
       "        </tr>\n",
       "    </tbody>\n",
       "        <tr>\n",
       "            <td>36107 </td> <td>Luyten's Star   </td> <td>9.84 </td> <td>11.94 </td> <td>3.8026</td> <td>7.45681</td> <td>5.22579 </td> <td>-1.40955 </td> <td>3.51486  </td> <td>0.346358 </td>\n",
       "        </tr>\n",
       "    </tbody>\n",
       "        <tr>\n",
       "            <td>24129 </td> <td>Kapteyn's Star  </td> <td>8.86 </td> <td>10.898</td> <td>3.9114</td> <td>5.19417</td> <td>-45.0184</td> <td>0.578997 </td> <td>2.70517  </td> <td>-2.76822 </td>\n",
       "        </tr>\n",
       "    </tbody>\n",
       "</table>\n",
       "<p>... (136 rows omitted)</p>"
      ],
      "text/plain": [
       "id     | proper           | mag   | absmag | dist   | ra      | dec      | x         | y         | z\n",
       "0      | Sol              | -26.7 | 4.85   | 0      | 0       | 0        | 5e-06     | 0         | 0\n",
       "70666  | Proxima Centauri | 11.01 | 15.447 | 1.2959 | 14.496  | -62.6795 | -0.472264 | -0.361451 | -1.15122\n",
       "71456  | Rigil Kentaurus  | -0.01 | 4.379  | 1.3248 | 14.6608 | -60.834  | -0.495203 | -0.414084 | -1.15663\n",
       "87665  | Barnard's Star   | 9.54  | 13.235 | 1.8238 | 17.9635 | 4.69339  | -0.017373 | -1.81661  | 0.149123\n",
       "53879  | Lalande 21185    | 7.49  | 10.46  | 2.5469 | 11.0556 | 35.9699  | -1.998    | 0.504305  | 1.4955\n",
       "32263  | Sirius           | -1.44 | 1.454  | 2.6371 | 6.75248 | -16.7161 | -0.494323 | 2.47673   | -0.758485\n",
       "113687 | Lacaille 9352    | 7.35  | 9.773  | 3.2759 | 23.0975 | -35.8531 | 2.58153   | -0.621353 | -1.91877\n",
       "37173  | Procyon          | 0.4   | 2.671  | 3.5142 | 7.65503 | 5.22499  | -1.46931  | 3.17617   | 0.320024\n",
       "36107  | Luyten's Star    | 9.84  | 11.94  | 3.8026 | 7.45681 | 5.22579  | -1.40955  | 3.51486   | 0.346358\n",
       "24129  | Kapteyn's Star   | 8.86  | 10.898 | 3.9114 | 5.19417 | -45.0184 | 0.578997  | 2.70517   | -2.76822\n",
       "... (136 rows omitted)"
      ]
     },
     "execution_count": 16,
     "metadata": {},
     "output_type": "execute_result"
    }
   ],
   "source": [
    "dist_modulus = hygdata_v3.select('id', 'proper', 'mag', 'absmag', 'dist', 'ra', 'dec', 'x', 'y', 'z')\n",
    "\n",
    "without_nan = dist_modulus.where('proper', are.not_equal_to('nan')).sort('dist', descending=False)\n",
    "#without_nan.where('mag', are.below_or_equal_to(1.00)).show()\n",
    "without_nan\n",
    "\n",
    "# without_nan.to_csv('export.csv')"
   ]
  },
  {
   "cell_type": "code",
   "execution_count": null,
   "metadata": {},
   "outputs": [],
   "source": []
  },
  {
   "cell_type": "code",
   "execution_count": 17,
   "metadata": {},
   "outputs": [
    {
     "name": "stdout",
     "output_type": "stream",
     "text": [
      "Un parsec es: 3.261564 años luz\n",
      "Un año luz es: 9460700000000.0 kilometros\n",
      "La velocidad de la luz es:  299792458 km/s\n"
     ]
    }
   ],
   "source": [
    "print(\"Un parsec son:\", parsec, \"años luz\")\n",
    "print(\"Un año luz son:\", ly, \"kilometros\")\n",
    "print(\"La velocidad de la luz es de: \", c, \"km/s\")"
   ]
  },
  {
   "cell_type": "code",
   "execution_count": 7,
   "metadata": {},
   "outputs": [
    {
     "data": {
      "text/html": [
       "<table border=\"1\" class=\"dataframe\">\n",
       "    <thead>\n",
       "        <tr>\n",
       "            <th>proper</th> <th>mag</th> <th>absmag</th> <th>dist</th>\n",
       "        </tr>\n",
       "    </thead>\n",
       "    <tbody>\n",
       "        <tr>\n",
       "            <td>Altair</td> <td>0.76</td> <td>2.21  </td> <td>5.1295</td>\n",
       "        </tr>\n",
       "    </tbody>\n",
       "</table>"
      ],
      "text/plain": [
       "proper | mag  | absmag | dist\n",
       "Altair | 0.76 | 2.21   | 5.1295"
      ]
     },
     "execution_count": 7,
     "metadata": {},
     "output_type": "execute_result"
    }
   ],
   "source": [
    "altair = without_nan.where(\"proper\", are.equal_to('Altair')).select('proper', 'mag', 'absmag', 'dist')\n",
    "mag = altair.column('mag')[0]\n",
    "absmag = altair.column('absmag')[0]\n",
    "altair"
   ]
  },
  {
   "cell_type": "code",
   "execution_count": 8,
   "metadata": {},
   "outputs": [
    {
     "data": {
      "text/html": [
       "<table border=\"1\" class=\"dataframe\">\n",
       "    <thead>\n",
       "        <tr>\n",
       "            <th>proper</th> <th>mag</th> <th>absmag</th> <th>dist</th>\n",
       "        </tr>\n",
       "    </thead>\n",
       "    <tbody>\n",
       "        <tr>\n",
       "            <td>Vega  </td> <td>0.03</td> <td>0.604 </td> <td>7.6787</td>\n",
       "        </tr>\n",
       "    </tbody>\n",
       "</table>"
      ],
      "text/plain": [
       "proper | mag  | absmag | dist\n",
       "Vega   | 0.03 | 0.604  | 7.6787"
      ]
     },
     "execution_count": 8,
     "metadata": {},
     "output_type": "execute_result"
    }
   ],
   "source": [
    "vega = without_nan.where(\"proper\", are.equal_to('Vega')).select('proper', 'mag', 'absmag', 'dist')\n",
    "vega"
   ]
  },
  {
   "cell_type": "code",
   "execution_count": 9,
   "metadata": {},
   "outputs": [
    {
     "data": {
      "text/html": [
       "<table border=\"1\" class=\"dataframe\">\n",
       "    <thead>\n",
       "        <tr>\n",
       "            <th>proper</th> <th>mag</th> <th>absmag</th> <th>dist</th>\n",
       "        </tr>\n",
       "    </thead>\n",
       "    <tbody>\n",
       "        <tr>\n",
       "            <td>Deneb </td> <td>1.25</td> <td>-6.932</td> <td>432.9</td>\n",
       "        </tr>\n",
       "    </tbody>\n",
       "</table>"
      ],
      "text/plain": [
       "proper | mag  | absmag | dist\n",
       "Deneb  | 1.25 | -6.932 | 432.9"
      ]
     },
     "execution_count": 9,
     "metadata": {},
     "output_type": "execute_result"
    }
   ],
   "source": [
    "without_nan.where(\"proper\", are.equal_to('Deneb')).select('proper', 'mag', 'absmag', 'dist')"
   ]
  },
  {
   "cell_type": "code",
   "execution_count": 10,
   "metadata": {},
   "outputs": [
    {
     "data": {
      "text/html": [
       "<table border=\"1\" class=\"dataframe\">\n",
       "    <thead>\n",
       "        <tr>\n",
       "            <th>proper</th> <th>mag</th> <th>absmag</th> <th>dist</th>\n",
       "        </tr>\n",
       "    </thead>\n",
       "    <tbody>\n",
       "        <tr>\n",
       "            <td>Spica </td> <td>0.98</td> <td>-3.44 </td> <td>76.5697</td>\n",
       "        </tr>\n",
       "    </tbody>\n",
       "</table>"
      ],
      "text/plain": [
       "proper | mag  | absmag | dist\n",
       "Spica  | 0.98 | -3.44  | 76.5697"
      ]
     },
     "execution_count": 10,
     "metadata": {},
     "output_type": "execute_result"
    }
   ],
   "source": [
    "without_nan.where(\"proper\", are.equal_to('Spica')).select('proper', 'mag', 'absmag', 'dist')"
   ]
  },
  {
   "cell_type": "code",
   "execution_count": 11,
   "metadata": {},
   "outputs": [
    {
     "data": {
      "text/html": [
       "<table border=\"1\" class=\"dataframe\">\n",
       "    <thead>\n",
       "        <tr>\n",
       "            <th>proper</th> <th>mag</th> <th>absmag</th> <th>dist</th>\n",
       "        </tr>\n",
       "    </thead>\n",
       "    <tbody>\n",
       "        <tr>\n",
       "            <td>Arcturus</td> <td>-0.05</td> <td>-0.307</td> <td>11.2575</td>\n",
       "        </tr>\n",
       "    </tbody>\n",
       "</table>"
      ],
      "text/plain": [
       "proper   | mag   | absmag | dist\n",
       "Arcturus | -0.05 | -0.307 | 11.2575"
      ]
     },
     "execution_count": 11,
     "metadata": {},
     "output_type": "execute_result"
    }
   ],
   "source": [
    "without_nan.where(\"proper\", are.equal_to('Arcturus')).select('proper', 'mag', 'absmag', 'dist')"
   ]
  },
  {
   "cell_type": "code",
   "execution_count": 12,
   "metadata": {},
   "outputs": [
    {
     "data": {
      "text/plain": [
       "5.1286138399136485"
      ]
     },
     "execution_count": 12,
     "metadata": {},
     "output_type": "execute_result"
    }
   ],
   "source": [
    "distance_modulus(mag, absmag)"
   ]
  },
  {
   "cell_type": "code",
   "execution_count": null,
   "metadata": {},
   "outputs": [],
   "source": []
  }
 ],
 "metadata": {
  "kernelspec": {
   "display_name": "Python 3",
   "language": "python",
   "name": "python3"
  },
  "language_info": {
   "codemirror_mode": {
    "name": "ipython",
    "version": 3
   },
   "file_extension": ".py",
   "mimetype": "text/x-python",
   "name": "python",
   "nbconvert_exporter": "python",
   "pygments_lexer": "ipython3",
   "version": "3.6.4"
  }
 },
 "nbformat": 4,
 "nbformat_minor": 2
}
