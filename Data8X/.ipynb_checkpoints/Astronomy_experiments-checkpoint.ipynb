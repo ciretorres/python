{
 "cells": [
  {
   "cell_type": "markdown",
   "metadata": {},
   "source": [
    "# Astronomy experiment"
   ]
  },
  {
   "cell_type": "code",
   "execution_count": 1,
   "metadata": {},
   "outputs": [],
   "source": [
    "# Modules\n",
    "\n",
    "from datascience import *\n",
    "import numpy as np\n",
    "import math\n",
    "\n",
    "%matplotlib inline\n",
    "import matplotlib.pyplot as plots\n",
    "plots.style.use('fivethirtyeight')\n",
    "\n",
    "#\n",
    "# Constants –cte.–, & units of lenghts use in Astronomy/Astrophysics\n",
    "#\n",
    "astronomical_unit = 1.496 * 10**8 # km\n",
    "au = astronomical_unit\n",
    "\n",
    "gravity_constant = 6.67384 * 10**-11 # m**3 * kg**-1 * s**-2\n",
    "g = gravity_constant\n",
    "\n",
    "# lambda λ = 1 * 10**−9 # m**3\n",
    "\n",
    "light_year = 9.4607 * 10**12 # km\n",
    "ly = light_year\n",
    "\n",
    "parsec = 3.261564 # ly\n",
    "pc = parsec\n",
    "\n",
    "speed_of_light = 299792458/1000 # km/s\n",
    "c = speed_of_light\n",
    "\n",
    "#\n",
    "# Celestial objects\n",
    "#\n",
    "earth_mass = 5.9722 * 10**24 # kg\n",
    "earth_radius = 6.371 * 10**6 # m\n",
    "earth_dist_from_sun = au # km\n",
    "\n",
    "mars_mass = 6.4171 * 10**23 # kg\n",
    "mars_radius = 3389439 # m\n",
    "mars_dist_from_sun = 2.29 * 10**8 # km\n",
    "\n",
    "moon_mass = 7.34767309 * 10**22\n",
    "moon_radius = 1.737 * 10**6 # m\n",
    "moon_dist_from_sun = 3.8440 * 10**8 # m\n",
    "\n",
    "solar_mass = 1.9885 * 10**30 # kg\n",
    "m = solar_mass\n",
    "solar_radius = 6.957 * 10**5 # m\n",
    "r = solar_radius\n"
   ]
  },
  {
   "cell_type": "code",
   "execution_count": 2,
   "metadata": {},
   "outputs": [
    {
     "data": {
      "text/plain": [
       "(308566785348000.0,\n",
       " 'Trecientos ocho trillones, quinientos sesenta y seis billones, setecientos ochenta y cinco millones, trecientos cuarenta y ocho mill kilómetros para recorrer 10 pársecs')"
      ]
     },
     "execution_count": 2,
     "metadata": {},
     "output_type": "execute_result"
    }
   ],
   "source": [
    "(10*pc)*ly, \"Trecientos ocho trillones, quinientos sesenta y seis billones, setecientos ochenta y cinco millones, trecientos cuarenta y ocho mill kilómetros para recorrer 10 pársecs\""
   ]
  },
  {
   "cell_type": "code",
   "execution_count": 3,
   "metadata": {},
   "outputs": [
    {
     "data": {
      "text/plain": [
       "3.06601372838307"
      ]
     },
     "execution_count": 3,
     "metadata": {},
     "output_type": "execute_result"
    }
   ],
   "source": [
    "10*1/pc"
   ]
  },
  {
   "cell_type": "code",
   "execution_count": 4,
   "metadata": {},
   "outputs": [
    {
     "data": {
      "text/plain": [
       "'30856678534800.0 = Treinta trillones ochocientos cincuenta y seis billones seiscientos setenta y ocho millones quinientos treinta y cuatro mil ochocientos kilómetros'"
      ]
     },
     "execution_count": 4,
     "metadata": {},
     "output_type": "execute_result"
    }
   ],
   "source": [
    "str(pc*ly)+\" = Treinta trillones ochocientos cincuenta y seis billones seiscientos setenta y ocho millones quinientos treinta y cuatro mil ochocientos kilómetros\""
   ]
  },
  {
   "cell_type": "code",
   "execution_count": 5,
   "metadata": {},
   "outputs": [
    {
     "data": {
      "text/plain": [
       "('1 pc : 3.261564 años luz', '1 au : 149600000.0 kilómetros')"
      ]
     },
     "execution_count": 5,
     "metadata": {},
     "output_type": "execute_result"
    }
   ],
   "source": [
    "\"1 pc : \"+str(pc)+\" años luz\", \"1 au : \"+str(au)+\" kilómetros\""
   ]
  },
  {
   "cell_type": "code",
   "execution_count": 6,
   "metadata": {},
   "outputs": [
    {
     "data": {
      "text/plain": [
       "'206261.22015240643 kilómetros, unidades astronómicas o número repetido de veces de la distancia de la tierra al sol para recorrer un pársec'"
      ]
     },
     "execution_count": 6,
     "metadata": {},
     "output_type": "execute_result"
    }
   ],
   "source": [
    "str((pc*ly)/au)+\" kilómetros, unidades astronómicas o número repetido de veces de la distancia de la tierra al sol para recorrer un pársec\""
   ]
  },
  {
   "cell_type": "code",
   "execution_count": 7,
   "metadata": {},
   "outputs": [
    {
     "name": "stdout",
     "output_type": "stream",
     "text": [
      "0.5 1.6252717224313786 1.44\n",
      "0.8126358612156893 1.44\n"
     ]
    }
   ],
   "source": [
    "m = (1/2) * (gravity_constant * (moon_mass/moon_radius**2)) * (1.2**2) \n",
    "print((1/2),(gravity_constant * (moon_mass/moon_radius**2)), (1.2**2))\n",
    "print((1/2)*(gravity_constant * (moon_mass/moon_radius**2)), (1.2**2) )"
   ]
  },
  {
   "cell_type": "code",
   "execution_count": 8,
   "metadata": {},
   "outputs": [
    {
     "data": {
      "text/plain": [
       "(1.2, 'seconds')"
      ]
     },
     "execution_count": 8,
     "metadata": {},
     "output_type": "execute_result"
    }
   ],
   "source": [
    "time = math.sqrt(m/((1/2)*(gravity_constant * (moon_mass/moon_radius**2))))\n",
    "time, \"seconds\""
   ]
  },
  {
   "cell_type": "code",
   "execution_count": 9,
   "metadata": {},
   "outputs": [
    {
     "name": "stdout",
     "output_type": "stream",
     "text": [
      "Time falling object in planets\n",
      "\n",
      "In Earth : 0.48819887454624017s\n",
      "In Moon : 1.2s\n",
      "In Mars : 0.792345798044477s\n",
      "\n",
      "In Earth : 0.5918774028979232s\n",
      "In Moon : 1.4548433446055307s\n",
      "In Mars : 0.960615842425971s\n"
     ]
    }
   ],
   "source": [
    "def calculateTimeFallingPlanets(height_cm):\n",
    "        earth_time = math.sqrt(height_cm/((1/2)*(gravity_constant * (earth_mass/earth_radius**2))))\n",
    "        moon_time = math.sqrt(height_cm/((1/2)*(gravity_constant * (moon_mass/moon_radius**2))))\n",
    "        mars_time = math.sqrt(height_cm/((1/2)*(gravity_constant * (mars_mass/mars_radius**2))))\n",
    "        print(\"In Earth : \" + str(earth_time) +  \"s\")\n",
    "        print(\"In Moon : \" + str(moon_time) +  \"s\")\n",
    "        print(\"In Mars : \" + str(mars_time) +  \"s\")\n",
    "\n",
    "print(\"Time falling object in planets\")\n",
    "print()\n",
    "calculateTimeFallingPlanets(m)\n",
    "print()\n",
    "calculateTimeFallingPlanets(1.72)"
   ]
  },
  {
   "cell_type": "markdown",
   "metadata": {},
   "source": [
    "# Ecuaciones"
   ]
  },
  {
   "cell_type": "code",
   "execution_count": 10,
   "metadata": {},
   "outputs": [],
   "source": [
    "def acceleration_gravity(mass_kg, radius_m):\n",
    "    \"\"\"Equation to get the force between two bodies\"\"\"\n",
    "    force = gravity_constant * (mass_kg/radius_m**2)\n",
    "    return force\n",
    "\n",
    "def get_force_between(mass_1_kg, mass_2_kg, radius_m):\n",
    "    \"\"\"Equation to get the force between two bodies\"\"\"\n",
    "    force = gravity_constant * (mass_1_kg * mass_2_kg/radius_m**2)\n",
    "    #return str(force)\n",
    "    return force\n",
    "\n",
    "def get_energy(mass_kg):\n",
    "    \"\"\"Equation to get the energy of a mass in joules.\"\"\"\n",
    "    energy = mass_kg * speed_of_light**2\n",
    "    return str(energy) + ' Joules: J: m·N: kg·m2/s2: C·V: W·s '\n",
    "\n",
    "def dynamic_cluster_galaxy():\n",
    "    \"\"\" A galaxy member from a cluster strikes in a velocity and time\"\"\"\n",
    "    trc = r/v - 6 * 10**8 * (r/mpc) / (vr/10**3)\n",
    "    \n",
    "def parsecs_to_ly(parsecs):\n",
    "    \"\"\"Convert parsec to light_years (ly)\"\"\"\n",
    "    return parsecs * pc # light-years\n",
    "\n",
    "def period_pendulum(length, acceleration_gravity):\n",
    "    \"\"\"Calculate the period of a simple pendulum\"\"\"\n",
    "    period = 2 * np.pi * math.sqrt(length / acceleration_gravity)\n",
    "    return period # seconds\n",
    "\n",
    "def distance_modulus(app_mag, abs_mag): # Distance modulus\n",
    "    \"\"\" Calculate the distance modulus: m-M=5log*d-5 \"\"\"\n",
    "    log = (app_mag - abs_mag + 5) / 5\n",
    "    dist = 10**log\n",
    "    return dist # parsecs"
   ]
  },
  {
   "cell_type": "code",
   "execution_count": null,
   "metadata": {},
   "outputs": [],
   "source": []
  },
  {
   "cell_type": "markdown",
   "metadata": {},
   "source": [
    "# Tabla Módulo distancia"
   ]
  },
  {
   "cell_type": "code",
   "execution_count": 11,
   "metadata": {},
   "outputs": [
    {
     "data": {
      "text/html": [
       "<table border=\"1\" class=\"dataframe\">\n",
       "    <thead>\n",
       "        <tr>\n",
       "            <th>id</th> <th>hip</th> <th>hd</th> <th>hr</th> <th>gl</th> <th>bf</th> <th>proper</th> <th>ra</th> <th>dec</th> <th>dist</th> <th>pmra</th> <th>pmdec</th> <th>rv</th> <th>mag</th> <th>absmag</th> <th>spect</th> <th>ci</th> <th>x</th> <th>y</th> <th>z</th> <th>vx</th> <th>vy</th> <th>vz</th> <th>rarad</th> <th>decrad</th> <th>pmrarad</th> <th>pmdecrad</th> <th>bayer</th> <th>flam</th> <th>con</th> <th>comp</th> <th>comp_primary</th> <th>base</th> <th>lum</th> <th>var</th> <th>var_min</th> <th>var_max</th>\n",
       "        </tr>\n",
       "    </thead>\n",
       "    <tbody>\n",
       "        <tr>\n",
       "            <td>0   </td> <td>nan </td> <td>nan   </td> <td>nan </td> <td>nan </td> <td>nan </td> <td>Sol   </td> <td>0       </td> <td>0       </td> <td>0      </td> <td>0     </td> <td>0    </td> <td>0   </td> <td>-26.7</td> <td>4.85  </td> <td>G2V  </td> <td>0.656 </td> <td>5e-06  </td> <td>0       </td> <td>0      </td> <td>0       </td> <td>0        </td> <td>0        </td> <td>0          </td> <td>0        </td> <td>0           </td> <td>0           </td> <td>nan  </td> <td>nan </td> <td>nan </td> <td>1   </td> <td>0           </td> <td>nan </td> <td>1       </td> <td>nan </td> <td>nan    </td> <td>nan    </td>\n",
       "        </tr>\n",
       "    </tbody>\n",
       "        <tr>\n",
       "            <td>1   </td> <td>1   </td> <td>224700</td> <td>nan </td> <td>nan </td> <td>nan </td> <td>nan   </td> <td>6e-05   </td> <td>1.08901 </td> <td>219.78 </td> <td>-5.2  </td> <td>-1.88</td> <td>0   </td> <td>9.1  </td> <td>2.39  </td> <td>F5   </td> <td>0.482 </td> <td>219.741</td> <td>0.003449</td> <td>4.17706</td> <td>4e-08   </td> <td>-5.54e-06</td> <td>-2e-06   </td> <td>1.56934e-05</td> <td>0.0190068</td> <td>-2.52103e-08</td> <td>-9.1145e-09 </td> <td>nan  </td> <td>nan </td> <td>Psc </td> <td>1   </td> <td>1           </td> <td>nan </td> <td>9.63829 </td> <td>nan </td> <td>nan    </td> <td>nan    </td>\n",
       "        </tr>\n",
       "    </tbody>\n",
       "        <tr>\n",
       "            <td>2   </td> <td>2   </td> <td>224690</td> <td>nan </td> <td>nan </td> <td>nan </td> <td>nan   </td> <td>0.000283</td> <td>-19.4988</td> <td>47.9616</td> <td>181.21</td> <td>-0.93</td> <td>0   </td> <td>9.27 </td> <td>5.866 </td> <td>K3V  </td> <td>0.999 </td> <td>45.2109</td> <td>0.003365</td> <td>-16.009</td> <td>-7e-08  </td> <td>4.213e-05</td> <td>-2e-07   </td> <td>7.39611e-05</td> <td>-0.340319</td> <td>8.78531e-07 </td> <td>-4.50877e-09</td> <td>nan  </td> <td>nan </td> <td>Cet </td> <td>1   </td> <td>2           </td> <td>nan </td> <td>0.392283</td> <td>nan </td> <td>nan    </td> <td>nan    </td>\n",
       "        </tr>\n",
       "    </tbody>\n",
       "        <tr>\n",
       "            <td>3   </td> <td>3   </td> <td>224699</td> <td>nan </td> <td>nan </td> <td>nan </td> <td>nan   </td> <td>0.000335</td> <td>38.8593 </td> <td>442.478</td> <td>5.24  </td> <td>-2.91</td> <td>0   </td> <td>6.61 </td> <td>-1.619</td> <td>B9   </td> <td>-0.019</td> <td>344.553</td> <td>0.030213</td> <td>277.615</td> <td>3.92e-06</td> <td>1.124e-05</td> <td>-4.86e-06</td> <td>8.76263e-05</td> <td>0.678222 </td> <td>2.54042e-08 </td> <td>-1.41081e-08</td> <td>nan  </td> <td>nan </td> <td>And </td> <td>1   </td> <td>3           </td> <td>nan </td> <td>386.901 </td> <td>nan </td> <td>nan    </td> <td>nan    </td>\n",
       "        </tr>\n",
       "    </tbody>\n",
       "        <tr>\n",
       "            <td>4   </td> <td>4   </td> <td>224707</td> <td>nan </td> <td>nan </td> <td>nan </td> <td>nan   </td> <td>0.000569</td> <td>-51.8935</td> <td>134.228</td> <td>62.85 </td> <td>0.16 </td> <td>0   </td> <td>8.06 </td> <td>2.421 </td> <td>F0V  </td> <td>0.37  </td> <td>82.8355</td> <td>0.012476</td> <td>-105.62</td> <td>8e-08   </td> <td>4.09e-05 </td> <td>6e-08    </td> <td>0.000148954</td> <td>-0.905713</td> <td>3.04705e-07 </td> <td>7.75701e-10 </td> <td>nan  </td> <td>nan </td> <td>Phe </td> <td>1   </td> <td>4           </td> <td>nan </td> <td>9.36699 </td> <td>nan </td> <td>nan    </td> <td>nan    </td>\n",
       "        </tr>\n",
       "    </tbody>\n",
       "</table>\n",
       "<p>... (119609 rows omitted)</p>"
      ],
      "text/plain": [
       "<IPython.core.display.HTML object>"
      ]
     },
     "metadata": {},
     "output_type": "display_data"
    }
   ],
   "source": [
    "# Read table from star catalog database www.astronexus.com/hyg\n",
    "hygdata_v3 = Table.read_table('db/hygdata_v3.csv')\n",
    "\n",
    "hygdata_v3.show(5)"
   ]
  },
  {
   "cell_type": "code",
   "execution_count": 12,
   "metadata": {},
   "outputs": [
    {
     "data": {
      "text/html": [
       "<table border=\"1\" class=\"dataframe\">\n",
       "    <thead>\n",
       "        <tr>\n",
       "            <th>id</th> <th>proper</th> <th>mag</th> <th>absmag</th> <th>dist</th> <th>ra</th> <th>dec</th> <th>x</th> <th>y</th> <th>z</th>\n",
       "        </tr>\n",
       "    </thead>\n",
       "    <tbody>\n",
       "        <tr>\n",
       "            <td>0     </td> <td>Sol             </td> <td>-26.7</td> <td>4.85  </td> <td>0     </td> <td>0      </td> <td>0       </td> <td>5e-06    </td> <td>0        </td> <td>0        </td>\n",
       "        </tr>\n",
       "    </tbody>\n",
       "        <tr>\n",
       "            <td>70666 </td> <td>Proxima Centauri</td> <td>11.01</td> <td>15.447</td> <td>1.2959</td> <td>14.496 </td> <td>-62.6795</td> <td>-0.472264</td> <td>-0.361451</td> <td>-1.15122 </td>\n",
       "        </tr>\n",
       "    </tbody>\n",
       "        <tr>\n",
       "            <td>71456 </td> <td>Rigil Kentaurus </td> <td>-0.01</td> <td>4.379 </td> <td>1.3248</td> <td>14.6608</td> <td>-60.834 </td> <td>-0.495203</td> <td>-0.414084</td> <td>-1.15663 </td>\n",
       "        </tr>\n",
       "    </tbody>\n",
       "        <tr>\n",
       "            <td>87665 </td> <td>Barnard's Star  </td> <td>9.54 </td> <td>13.235</td> <td>1.8238</td> <td>17.9635</td> <td>4.69339 </td> <td>-0.017373</td> <td>-1.81661 </td> <td>0.149123 </td>\n",
       "        </tr>\n",
       "    </tbody>\n",
       "        <tr>\n",
       "            <td>53879 </td> <td>Lalande 21185   </td> <td>7.49 </td> <td>10.46 </td> <td>2.5469</td> <td>11.0556</td> <td>35.9699 </td> <td>-1.998   </td> <td>0.504305 </td> <td>1.4955   </td>\n",
       "        </tr>\n",
       "    </tbody>\n",
       "        <tr>\n",
       "            <td>32263 </td> <td>Sirius          </td> <td>-1.44</td> <td>1.454 </td> <td>2.6371</td> <td>6.75248</td> <td>-16.7161</td> <td>-0.494323</td> <td>2.47673  </td> <td>-0.758485</td>\n",
       "        </tr>\n",
       "    </tbody>\n",
       "        <tr>\n",
       "            <td>113687</td> <td>Lacaille 9352   </td> <td>7.35 </td> <td>9.773 </td> <td>3.2759</td> <td>23.0975</td> <td>-35.8531</td> <td>2.58153  </td> <td>-0.621353</td> <td>-1.91877 </td>\n",
       "        </tr>\n",
       "    </tbody>\n",
       "        <tr>\n",
       "            <td>37173 </td> <td>Procyon         </td> <td>0.4  </td> <td>2.671 </td> <td>3.5142</td> <td>7.65503</td> <td>5.22499 </td> <td>-1.46931 </td> <td>3.17617  </td> <td>0.320024 </td>\n",
       "        </tr>\n",
       "    </tbody>\n",
       "        <tr>\n",
       "            <td>36107 </td> <td>Luyten's Star   </td> <td>9.84 </td> <td>11.94 </td> <td>3.8026</td> <td>7.45681</td> <td>5.22579 </td> <td>-1.40955 </td> <td>3.51486  </td> <td>0.346358 </td>\n",
       "        </tr>\n",
       "    </tbody>\n",
       "        <tr>\n",
       "            <td>24129 </td> <td>Kapteyn's Star  </td> <td>8.86 </td> <td>10.898</td> <td>3.9114</td> <td>5.19417</td> <td>-45.0184</td> <td>0.578997 </td> <td>2.70517  </td> <td>-2.76822 </td>\n",
       "        </tr>\n",
       "    </tbody>\n",
       "</table>\n",
       "<p>... (136 rows omitted)</p>"
      ],
      "text/plain": [
       "id     | proper           | mag   | absmag | dist   | ra      | dec      | x         | y         | z\n",
       "0      | Sol              | -26.7 | 4.85   | 0      | 0       | 0        | 5e-06     | 0         | 0\n",
       "70666  | Proxima Centauri | 11.01 | 15.447 | 1.2959 | 14.496  | -62.6795 | -0.472264 | -0.361451 | -1.15122\n",
       "71456  | Rigil Kentaurus  | -0.01 | 4.379  | 1.3248 | 14.6608 | -60.834  | -0.495203 | -0.414084 | -1.15663\n",
       "87665  | Barnard's Star   | 9.54  | 13.235 | 1.8238 | 17.9635 | 4.69339  | -0.017373 | -1.81661  | 0.149123\n",
       "53879  | Lalande 21185    | 7.49  | 10.46  | 2.5469 | 11.0556 | 35.9699  | -1.998    | 0.504305  | 1.4955\n",
       "32263  | Sirius           | -1.44 | 1.454  | 2.6371 | 6.75248 | -16.7161 | -0.494323 | 2.47673   | -0.758485\n",
       "113687 | Lacaille 9352    | 7.35  | 9.773  | 3.2759 | 23.0975 | -35.8531 | 2.58153   | -0.621353 | -1.91877\n",
       "37173  | Procyon          | 0.4   | 2.671  | 3.5142 | 7.65503 | 5.22499  | -1.46931  | 3.17617   | 0.320024\n",
       "36107  | Luyten's Star    | 9.84  | 11.94  | 3.8026 | 7.45681 | 5.22579  | -1.40955  | 3.51486   | 0.346358\n",
       "24129  | Kapteyn's Star   | 8.86  | 10.898 | 3.9114 | 5.19417 | -45.0184 | 0.578997  | 2.70517   | -2.76822\n",
       "... (136 rows omitted)"
      ]
     },
     "execution_count": 12,
     "metadata": {},
     "output_type": "execute_result"
    }
   ],
   "source": [
    "dist_modulus = hygdata_v3.select('id', 'proper', 'mag', 'absmag', \n",
    "                                 'dist', 'ra', 'dec', 'x', 'y', 'z'\n",
    "                                )\n",
    "without_nan = dist_modulus.where('proper', are.not_equal_to('nan')).sort('dist', descending=False)\n",
    "#without_nan.where('mag', are.below_or_equal_to(1.00)).show()\n",
    "without_nan\n",
    "\n",
    "# without_nan.to_csv('export.csv')"
   ]
  },
  {
   "cell_type": "code",
   "execution_count": 13,
   "metadata": {},
   "outputs": [],
   "source": [
    "# Assignment 1\n",
    "# Comparing brightness"
   ]
  },
  {
   "cell_type": "code",
   "execution_count": 14,
   "metadata": {},
   "outputs": [
    {
     "name": "stdout",
     "output_type": "stream",
     "text": [
      "Un parsec es: 3.261564 años luz\n",
      "Un año luz es: 9460700000000.0 kilometros\n",
      "La velocidad de la luz es:  299792.458 km/s\n"
     ]
    }
   ],
   "source": [
    "print(\"Un parsec es:\", parsec, \"años luz\")\n",
    "print(\"Un año luz es:\", ly, \"kilometros\")\n",
    "print(\"La velocidad de la luz es: \", c, \"km/s\")"
   ]
  },
  {
   "cell_type": "code",
   "execution_count": 15,
   "metadata": {},
   "outputs": [
    {
     "data": {
      "text/html": [
       "<table border=\"1\" class=\"dataframe\">\n",
       "    <thead>\n",
       "        <tr>\n",
       "            <th>proper</th> <th>mag</th> <th>absmag</th> <th>dist</th>\n",
       "        </tr>\n",
       "    </thead>\n",
       "    <tbody>\n",
       "        <tr>\n",
       "            <td>Altair</td> <td>0.76</td> <td>2.21  </td> <td>5.1295</td>\n",
       "        </tr>\n",
       "    </tbody>\n",
       "</table>"
      ],
      "text/plain": [
       "proper | mag  | absmag | dist\n",
       "Altair | 0.76 | 2.21   | 5.1295"
      ]
     },
     "execution_count": 15,
     "metadata": {},
     "output_type": "execute_result"
    }
   ],
   "source": [
    "altair = without_nan.where(\"proper\", are.equal_to('Altair')).select('proper', 'mag', 'absmag', 'dist')\n",
    "mag = altair.column('mag')[0]\n",
    "absmag = altair.column('absmag')[0]\n",
    "altair"
   ]
  },
  {
   "cell_type": "code",
   "execution_count": 16,
   "metadata": {},
   "outputs": [
    {
     "data": {
      "text/html": [
       "<table border=\"1\" class=\"dataframe\">\n",
       "    <thead>\n",
       "        <tr>\n",
       "            <th>proper</th> <th>mag</th> <th>absmag</th> <th>dist</th>\n",
       "        </tr>\n",
       "    </thead>\n",
       "    <tbody>\n",
       "        <tr>\n",
       "            <td>Vega  </td> <td>0.03</td> <td>0.604 </td> <td>7.6787</td>\n",
       "        </tr>\n",
       "    </tbody>\n",
       "</table>"
      ],
      "text/plain": [
       "proper | mag  | absmag | dist\n",
       "Vega   | 0.03 | 0.604  | 7.6787"
      ]
     },
     "execution_count": 16,
     "metadata": {},
     "output_type": "execute_result"
    }
   ],
   "source": [
    "vega = without_nan.where(\"proper\", are.equal_to('Vega')).select('proper', 'mag', 'absmag', 'dist')\n",
    "vega"
   ]
  },
  {
   "cell_type": "code",
   "execution_count": 17,
   "metadata": {},
   "outputs": [
    {
     "data": {
      "text/html": [
       "<table border=\"1\" class=\"dataframe\">\n",
       "    <thead>\n",
       "        <tr>\n",
       "            <th>proper</th> <th>mag</th> <th>absmag</th> <th>dist</th>\n",
       "        </tr>\n",
       "    </thead>\n",
       "    <tbody>\n",
       "        <tr>\n",
       "            <td>Deneb </td> <td>1.25</td> <td>-6.932</td> <td>432.9</td>\n",
       "        </tr>\n",
       "    </tbody>\n",
       "</table>"
      ],
      "text/plain": [
       "proper | mag  | absmag | dist\n",
       "Deneb  | 1.25 | -6.932 | 432.9"
      ]
     },
     "execution_count": 17,
     "metadata": {},
     "output_type": "execute_result"
    }
   ],
   "source": [
    "without_nan.where(\"proper\", are.equal_to('Deneb')).select('proper', 'mag', 'absmag', 'dist')"
   ]
  },
  {
   "cell_type": "code",
   "execution_count": 18,
   "metadata": {},
   "outputs": [
    {
     "data": {
      "text/html": [
       "<table border=\"1\" class=\"dataframe\">\n",
       "    <thead>\n",
       "        <tr>\n",
       "            <th>proper</th> <th>mag</th> <th>absmag</th> <th>dist</th>\n",
       "        </tr>\n",
       "    </thead>\n",
       "    <tbody>\n",
       "        <tr>\n",
       "            <td>Spica </td> <td>0.98</td> <td>-3.44 </td> <td>76.5697</td>\n",
       "        </tr>\n",
       "    </tbody>\n",
       "</table>"
      ],
      "text/plain": [
       "proper | mag  | absmag | dist\n",
       "Spica  | 0.98 | -3.44  | 76.5697"
      ]
     },
     "execution_count": 18,
     "metadata": {},
     "output_type": "execute_result"
    }
   ],
   "source": [
    "without_nan.where(\"proper\", are.equal_to('Spica')).select('proper', 'mag', 'absmag', 'dist')"
   ]
  },
  {
   "cell_type": "code",
   "execution_count": 19,
   "metadata": {},
   "outputs": [
    {
     "data": {
      "text/html": [
       "<table border=\"1\" class=\"dataframe\">\n",
       "    <thead>\n",
       "        <tr>\n",
       "            <th>proper</th> <th>mag</th> <th>absmag</th> <th>dist</th>\n",
       "        </tr>\n",
       "    </thead>\n",
       "    <tbody>\n",
       "        <tr>\n",
       "            <td>Arcturus</td> <td>-0.05</td> <td>-0.307</td> <td>11.2575</td>\n",
       "        </tr>\n",
       "    </tbody>\n",
       "</table>"
      ],
      "text/plain": [
       "proper   | mag   | absmag | dist\n",
       "Arcturus | -0.05 | -0.307 | 11.2575"
      ]
     },
     "execution_count": 19,
     "metadata": {},
     "output_type": "execute_result"
    }
   ],
   "source": [
    "without_nan.where(\"proper\", are.equal_to('Arcturus')).select('proper', 'mag', 'absmag', 'dist')"
   ]
  },
  {
   "cell_type": "code",
   "execution_count": 26,
   "metadata": {},
   "outputs": [
    {
     "data": {
      "text/html": [
       "<table border=\"1\" class=\"dataframe\">\n",
       "    <thead>\n",
       "        <tr>\n",
       "            <th>proper</th> <th>mag</th> <th>absmag</th> <th>dist</th>\n",
       "        </tr>\n",
       "    </thead>\n",
       "    <tbody>\n",
       "</table>"
      ],
      "text/plain": [
       "proper | mag  | absmag | dist"
      ]
     },
     "execution_count": 26,
     "metadata": {},
     "output_type": "execute_result"
    }
   ],
   "source": [
    "without_nan.where(\"proper\", are.equal_to('Alpha Centauri')).select('proper', 'mag', 'absmag', 'dist')"
   ]
  },
  {
   "cell_type": "code",
   "execution_count": 20,
   "metadata": {},
   "outputs": [
    {
     "data": {
      "text/plain": [
       "5.1286138399136485"
      ]
     },
     "execution_count": 20,
     "metadata": {},
     "output_type": "execute_result"
    }
   ],
   "source": [
    "distance_modulus(mag, absmag)"
   ]
  },
  {
   "cell_type": "code",
   "execution_count": null,
   "metadata": {},
   "outputs": [],
   "source": []
  },
  {
   "cell_type": "code",
   "execution_count": null,
   "metadata": {},
   "outputs": [],
   "source": []
  },
  {
   "cell_type": "code",
   "execution_count": null,
   "metadata": {},
   "outputs": [],
   "source": []
  },
  {
   "cell_type": "markdown",
   "metadata": {},
   "source": [
    "# Tabla Relación masa-luminosidad de cúmulos ricos\n",
    "Nota.- La incertidumbre en el valor de ' ' afecta a la masa del cúmulo, como mucho, en un factor 2. Se adpota para H el valor de 50 km · s-1 · Mpc-1."
   ]
  },
  {
   "cell_type": "code",
   "execution_count": 21,
   "metadata": {},
   "outputs": [
    {
     "data": {
      "text/html": [
       "<table border=\"1\" class=\"dataframe\">\n",
       "    <thead>\n",
       "        <tr>\n",
       "            <th>Radius (Mpc)</th> <th>Object</th> <th>Mass</th> <th>Luminosity</th> <th>M/L</th>\n",
       "        </tr>\n",
       "    </thead>\n",
       "    <tbody>\n",
       "        <tr>\n",
       "            <td>3           </td> <td>A 194        </td> <td>2.9e+15</td> <td>3.8e+12   </td> <td>64  </td>\n",
       "        </tr>\n",
       "    </tbody>\n",
       "        <tr>\n",
       "            <td>3           </td> <td>Ursa Major I </td> <td>1.9e+15</td> <td>2.7e+12   </td> <td>70  </td>\n",
       "        </tr>\n",
       "    </tbody>\n",
       "        <tr>\n",
       "            <td>3           </td> <td>A 2199       </td> <td>4.3e+14</td> <td>6.1e+12   </td> <td>71  </td>\n",
       "        </tr>\n",
       "    </tbody>\n",
       "        <tr>\n",
       "            <td>4           </td> <td>Coma (A 1656)</td> <td>1.7e+15</td> <td>1.2e+13   </td> <td>144 </td>\n",
       "        </tr>\n",
       "    </tbody>\n",
       "        <tr>\n",
       "            <td>1.2         </td> <td>Virgo        </td> <td>2.4e+14</td> <td>1.3e+12   </td> <td>181 </td>\n",
       "        </tr>\n",
       "    </tbody>\n",
       "        <tr>\n",
       "            <td>4           </td> <td>Corona Boreal</td> <td>2.9e+15</td> <td>1.2e+13   </td> <td>231 </td>\n",
       "        </tr>\n",
       "    </tbody>\n",
       "</table>"
      ],
      "text/plain": [
       "Radius (Mpc) | Object        | Mass    | Luminosity | M/L\n",
       "3            | A 194         | 2.9e+15 | 3.8e+12    | 64\n",
       "3            | Ursa Major I  | 1.9e+15 | 2.7e+12    | 70\n",
       "3            | A 2199        | 4.3e+14 | 6.1e+12    | 71\n",
       "4            | Coma (A 1656) | 1.7e+15 | 1.2e+13    | 144\n",
       "1.2          | Virgo         | 2.4e+14 | 1.3e+12    | 181\n",
       "4            | Corona Boreal | 2.9e+15 | 1.2e+13    | 231"
      ]
     },
     "execution_count": 21,
     "metadata": {},
     "output_type": "execute_result"
    }
   ],
   "source": [
    "mass_luminosity = Table().with_columns(\n",
    "    'Radius (Mpc)', make_array(3.0, 3.0, 3.0, 4.0, 1.2, 4.0),\n",
    "    'Object', make_array('A 194', 'Ursa Major I', 'A 2199', 'Coma (A 1656)', 'Virgo', 'Corona Boreal'),\n",
    "    'Mass', make_array(2.9 * 10**15, 1.9 * 10**15, 4.3 * 10**14, 1.7 * 10**15, 2.4 * 10**14, 2.9 * 10**15),\n",
    "    'Luminosity', make_array(3.8 * 10**12, 2.7 * 10**12, 6.1 * 10**12, 1.2 * 10**13, 1.3 * 10**12, 1.2 * 10**13),\n",
    "    'M/L', make_array(64, 70, 71, 144, 181, 231)\n",
    ")\n",
    "mass_luminosity"
   ]
  },
  {
   "cell_type": "code",
   "execution_count": null,
   "metadata": {},
   "outputs": [],
   "source": []
  },
  {
   "cell_type": "markdown",
   "metadata": {},
   "source": [
    "# Tabla Supercúmulos mejor estudiados"
   ]
  },
  {
   "cell_type": "code",
   "execution_count": 22,
   "metadata": {},
   "outputs": [
    {
     "data": {
      "text/html": [
       "<table border=\"1\" class=\"dataframe\">\n",
       "    <thead>\n",
       "        <tr>\n",
       "            <th> </th> <th>Members</th> <th>Diameter</th>\n",
       "        </tr>\n",
       "    </thead>\n",
       "    <tbody>\n",
       "        <tr>\n",
       "            <td>Supercúmulo Local</td> <td>Grupo Local-Virgo                                           </td> <td>75 Mpc  </td>\n",
       "        </tr>\n",
       "    </tbody>\n",
       "        <tr>\n",
       "            <td>Coma             </td> <td>A 1376, A 1656, Grupo de NGC 5056                           </td> <td>160 Mpc </td>\n",
       "        </tr>\n",
       "    </tbody>\n",
       "        <tr>\n",
       "            <td>Perseus          </td> <td>A 347, A 262, A 426, A 196, Grupo NGC 383, Grupo de NGC  ...</td> <td>75 Mpc  </td>\n",
       "        </tr>\n",
       "    </tbody>\n",
       "        <tr>\n",
       "            <td>Hércules         </td> <td>A 2151, A 2199, A 2187, A 2052, A 2063, A 2146              </td> <td>143 Mpc </td>\n",
       "        </tr>\n",
       "    </tbody>\n",
       "        <tr>\n",
       "            <td>Corona Borealis  </td> <td>A 2065                                                      </td> <td>360 Mpc </td>\n",
       "        </tr>\n",
       "    </tbody>\n",
       "        <tr>\n",
       "            <td>Ursa Major       </td> <td>                                                            </td> <td>80 Mpc  </td>\n",
       "        </tr>\n",
       "    </tbody>\n",
       "</table>"
      ],
      "text/plain": [
       "                  | Members                                                      | Diameter\n",
       "Supercúmulo Local | Grupo Local-Virgo                                            | 75 Mpc\n",
       "Coma              | A 1376, A 1656, Grupo de NGC 5056                            | 160 Mpc\n",
       "Perseus           | A 347, A 262, A 426, A 196, Grupo NGC 383, Grupo de NGC  ... | 75 Mpc\n",
       "Hércules          | A 2151, A 2199, A 2187, A 2052, A 2063, A 2146               | 143 Mpc\n",
       "Corona Borealis   | A 2065                                                       | 360 Mpc\n",
       "Ursa Major        |                                                              | 80 Mpc"
      ]
     },
     "execution_count": 22,
     "metadata": {},
     "output_type": "execute_result"
    }
   ],
   "source": [
    "members = make_array('Grupo Local-Virgo', 'A 1376, A 1656, Grupo de NGC 5056', \n",
    "    'A 347, A 262, A 426, A 196, Grupo NGC 383, Grupo de NGC 507, Grupo de Uppsala 487',\n",
    "    'A 2151, A 2199, A 2187, A 2052, A 2063, A 2146', 'A 2065', ' '\n",
    "    )\n",
    "diameter = make_array('75 Mpc', '160 Mpc', '75 Mpc', '143 Mpc', '360 Mpc', '80 Mpc')\n",
    "superclusters = Table().with_columns(\n",
    "    ' ', make_array('Supercúmulo Local', 'Coma', 'Perseus', \n",
    "                    'Hércules', 'Corona Borealis', 'Ursa Major'),\n",
    "    'Members', members,\n",
    "    'Diameter', diameter\n",
    ")\n",
    "superclusters"
   ]
  },
  {
   "cell_type": "code",
   "execution_count": null,
   "metadata": {},
   "outputs": [],
   "source": []
  },
  {
   "cell_type": "markdown",
   "metadata": {},
   "source": [
    "# Tabla Aceleración gravitacional"
   ]
  },
  {
   "cell_type": "code",
   "execution_count": 23,
   "metadata": {},
   "outputs": [
    {
     "data": {
      "text/html": [
       "<table border=\"1\" class=\"dataframe\">\n",
       "    <thead>\n",
       "        <tr>\n",
       "            <th>Object</th> <th>Aceleration gravity (netwons)</th>\n",
       "        </tr>\n",
       "    </thead>\n",
       "    <tbody>\n",
       "        <tr>\n",
       "            <td>Sun    </td> <td>2.74194e+08                  </td>\n",
       "        </tr>\n",
       "    </tbody>\n",
       "        <tr>\n",
       "            <td>Mercury</td> <td>0                            </td>\n",
       "        </tr>\n",
       "    </tbody>\n",
       "        <tr>\n",
       "            <td> Venus </td> <td>0                            </td>\n",
       "        </tr>\n",
       "    </tbody>\n",
       "        <tr>\n",
       "            <td>Earth  </td> <td>9.81963                      </td>\n",
       "        </tr>\n",
       "    </tbody>\n",
       "        <tr>\n",
       "            <td>Moon   </td> <td>1.62527                      </td>\n",
       "        </tr>\n",
       "    </tbody>\n",
       "        <tr>\n",
       "            <td>Mars   </td> <td>3.72785                      </td>\n",
       "        </tr>\n",
       "    </tbody>\n",
       "        <tr>\n",
       "            <td>Jupiter</td> <td>0                            </td>\n",
       "        </tr>\n",
       "    </tbody>\n",
       "        <tr>\n",
       "            <td>Saturn </td> <td>0                            </td>\n",
       "        </tr>\n",
       "    </tbody>\n",
       "        <tr>\n",
       "            <td>Uranus </td> <td>0                            </td>\n",
       "        </tr>\n",
       "    </tbody>\n",
       "        <tr>\n",
       "            <td>Neptune</td> <td>0                            </td>\n",
       "        </tr>\n",
       "    </tbody>\n",
       "</table>\n",
       "<p>... (1 rows omitted)</p>"
      ],
      "text/plain": [
       "Object  | Aceleration gravity (netwons)\n",
       "Sun     | 2.74194e+08\n",
       "Mercury | 0\n",
       " Venus  | 0\n",
       "Earth   | 9.81963\n",
       "Moon    | 1.62527\n",
       "Mars    | 3.72785\n",
       "Jupiter | 0\n",
       "Saturn  | 0\n",
       "Uranus  | 0\n",
       "Neptune | 0\n",
       "... (1 rows omitted)"
      ]
     },
     "execution_count": 23,
     "metadata": {},
     "output_type": "execute_result"
    }
   ],
   "source": [
    "planets = make_array('Sun', 'Mercury', ' Venus', 'Earth', 'Moon', \n",
    "                   'Mars', 'Jupiter', 'Saturn', 'Uranus', 'Neptune', 'Pluto'\n",
    ")\n",
    "sun_ag = acceleration_gravity(solar_mass, solar_radius)\n",
    "#mercury_ag = acceleration_gravity(mercury_mass, mercury_radius)\n",
    "#venus_ag = acceleration_gravity(venus_mass, venus_radius)\n",
    "earth_ag = acceleration_gravity(earth_mass, earth_radius)\n",
    "moon_ag = acceleration_gravity(moon_mass, moon_radius)\n",
    "mars_ag = acceleration_gravity(mars_mass, mars_radius)\n",
    "#jupiter_ag = acceleration_gravity(jupiter_mass, jupiter_radius)\n",
    "#saturn_ag = acceleration_gravity(saturn_mass, saturn_radius)\n",
    "#uranus_ag = acceleration_gravity(uranus_mass, uranus_radius)\n",
    "#neptune_ag = acceleration_gravity(neptune_mass, neptune_radius)\n",
    "#pluto_ag = acceleration_gravity(pluto_mass, pluto_radius)\n",
    "\n",
    "acceleration = make_array(sun_ag, 0, 0, earth_ag, moon_ag, mars_ag, 0, 0, 0, 0, 0)\n",
    "\n",
    "solar_system_ag = Table().with_columns(\n",
    "    'Object', planets,\n",
    "    'Aceleration gravity (netwons)', acceleration\n",
    ")\n",
    "solar_system_ag"
   ]
  },
  {
   "cell_type": "code",
   "execution_count": 24,
   "metadata": {},
   "outputs": [
    {
     "data": {
      "text/plain": [
       "274193656.5620048"
      ]
     },
     "execution_count": 24,
     "metadata": {},
     "output_type": "execute_result"
    }
   ],
   "source": [
    "cloud_oort_ag = sum(solar_system_ag.column(1))\n",
    "cloud_oort_ag"
   ]
  },
  {
   "cell_type": "code",
   "execution_count": null,
   "metadata": {},
   "outputs": [],
   "source": []
  },
  {
   "cell_type": "markdown",
   "metadata": {},
   "source": [
    "# Calculate Star's Modulus distance"
   ]
  },
  {
   "cell_type": "code",
   "execution_count": 25,
   "metadata": {},
   "outputs": [
    {
     "ename": "NameError",
     "evalue": "name 'modulus_distance' is not defined",
     "output_type": "error",
     "traceback": [
      "\u001b[0;31m---------------------------------------------------------------------------\u001b[0m",
      "\u001b[0;31mNameError\u001b[0m                                 Traceback (most recent call last)",
      "\u001b[0;32m<ipython-input-25-aa6f1027f63a>\u001b[0m in \u001b[0;36m<module>\u001b[0;34m()\u001b[0m\n\u001b[1;32m      1\u001b[0m \u001b[0ma\u001b[0m \u001b[0;34m=\u001b[0m \u001b[0mwithout_nan\u001b[0m\u001b[0;34m.\u001b[0m\u001b[0mwhere\u001b[0m\u001b[0;34m(\u001b[0m\u001b[0;34m'proper'\u001b[0m\u001b[0;34m,\u001b[0m \u001b[0mare\u001b[0m\u001b[0;34m.\u001b[0m\u001b[0mequal_to\u001b[0m\u001b[0;34m(\u001b[0m\u001b[0;34m'Sirius'\u001b[0m\u001b[0;34m)\u001b[0m\u001b[0;34m)\u001b[0m\u001b[0;34m\u001b[0m\u001b[0m\n\u001b[0;32m----> 2\u001b[0;31m \u001b[0msirus_dist\u001b[0m \u001b[0;34m=\u001b[0m \u001b[0mmodulus_distance\u001b[0m\u001b[0;34m(\u001b[0m\u001b[0ma\u001b[0m\u001b[0;34m.\u001b[0m\u001b[0mcolumn\u001b[0m\u001b[0;34m(\u001b[0m\u001b[0;36m2\u001b[0m\u001b[0;34m)\u001b[0m\u001b[0;34m,\u001b[0m \u001b[0ma\u001b[0m\u001b[0;34m.\u001b[0m\u001b[0mcolumn\u001b[0m\u001b[0;34m(\u001b[0m\u001b[0;36m3\u001b[0m\u001b[0;34m)\u001b[0m\u001b[0;34m)\u001b[0m\u001b[0;31m#.item(0)\u001b[0m\u001b[0;34m\u001b[0m\u001b[0m\n\u001b[0m\u001b[1;32m      3\u001b[0m print('The distance to Sirius in parsecs is:', sirus_dist, \n\u001b[1;32m      4\u001b[0m       'or', parsecs_to_ly(sirus_dist), 'light-years.')\n",
      "\u001b[0;31mNameError\u001b[0m: name 'modulus_distance' is not defined"
     ]
    }
   ],
   "source": [
    "a = without_nan.where('proper', are.equal_to('Sirius'))\n",
    "sirus_dist = modulus_distance(a.column(2), a.column(3))#.item(0)\n",
    "print('The distance to Sirius in parsecs is:', sirus_dist, \n",
    "      'or', parsecs_to_ly(sirus_dist), 'light-years.')"
   ]
  },
  {
   "cell_type": "code",
   "execution_count": null,
   "metadata": {},
   "outputs": [],
   "source": [
    "a = without_nan.where('proper', are.equal_to('Proxima Centauri'))\n",
    "proxima_centauri_dist = modulus_distance(a.column(2), a.column(3))#.item(0)\n",
    "print('The distance to Proxima Centauri in parsecs is:', proxima_centauri_dist, \n",
    "      'or', parsecs_to_ly(proxima_centauri_dist), 'light-years.')"
   ]
  },
  {
   "cell_type": "code",
   "execution_count": null,
   "metadata": {},
   "outputs": [],
   "source": []
  },
  {
   "cell_type": "markdown",
   "metadata": {},
   "source": [
    "# Calculate Proxima Centauri"
   ]
  },
  {
   "cell_type": "code",
   "execution_count": null,
   "metadata": {},
   "outputs": [],
   "source": [
    "# mass\n",
    "proxima_centauri_mass = (solar_mass * 12.2 / 100) + solar_mass\n",
    "# radius\n",
    "proxima_centauri_radius = (solar_radius * 15.4 / 100) + solar_radius\n",
    "proxima_centauri_mass, solar_mass, proxima_centauri_radius, solar_radius"
   ]
  },
  {
   "cell_type": "code",
   "execution_count": null,
   "metadata": {},
   "outputs": [],
   "source": [
    "# Gravity force\n",
    "get_force_between(proxima_centauri_mass, solar_mass, float(proxima_centauri_dist))"
   ]
  },
  {
   "cell_type": "code",
   "execution_count": null,
   "metadata": {},
   "outputs": [],
   "source": []
  },
  {
   "cell_type": "markdown",
   "metadata": {},
   "source": [
    "# Calculate Sun's energy"
   ]
  },
  {
   "cell_type": "code",
   "execution_count": null,
   "metadata": {},
   "outputs": [],
   "source": [
    "print(\"Sun's energy: \" + get_energy(solar_mass))\n",
    "print(\"Which strikes Earth's face each second: 1.7 * 10**17 J. with 8 minutes of delay.\")"
   ]
  },
  {
   "cell_type": "code",
   "execution_count": null,
   "metadata": {},
   "outputs": [],
   "source": []
  },
  {
   "cell_type": "markdown",
   "metadata": {},
   "source": [
    "# Convert parsecs to light-years"
   ]
  },
  {
   "cell_type": "code",
   "execution_count": null,
   "metadata": {},
   "outputs": [],
   "source": [
    "print('1 parsec =', pc, 'light-years')\n",
    "print('1 light-year =', light_year, 'kilometers')\n",
    "print()\n",
    "print(10, 'parsecs = ', parsecs_to_ly(10), 'light-years')"
   ]
  },
  {
   "cell_type": "code",
   "execution_count": null,
   "metadata": {},
   "outputs": [],
   "source": []
  },
  {
   "cell_type": "markdown",
   "metadata": {},
   "source": [
    "# Calculate Period's simple pendulum"
   ]
  },
  {
   "cell_type": "code",
   "execution_count": null,
   "metadata": {},
   "outputs": [],
   "source": [
    "lenght = 0.58\n",
    "earth_ag = acceleration_gravity(earth_mass, earth_radius)\n",
    "\n",
    "period_pendulum(lenght, earth_ag), 'seconds'"
   ]
  },
  {
   "cell_type": "code",
   "execution_count": null,
   "metadata": {},
   "outputs": [],
   "source": []
  },
  {
   "cell_type": "markdown",
   "metadata": {},
   "source": [
    "# Documental The beginning and end of universe"
   ]
  },
  {
   "cell_type": "code",
   "execution_count": null,
   "metadata": {},
   "outputs": [],
   "source": [
    "time = 1.2\n",
    "estimated_distance_m = 1.13\n",
    "predicted_distance_m = (1/2) * (gravity_constant * (moon_mass/moon_radius**2)) * (time**2)\n",
    "difference = predicted_distance_m - estimated_distance_m\n",
    "print('Estimated distance:', estimated_distance_m)\n",
    "print('Predicted distance:', predicted_distance_m)\n",
    "print('Difference:', difference)"
   ]
  },
  {
   "cell_type": "code",
   "execution_count": null,
   "metadata": {},
   "outputs": [],
   "source": []
  },
  {
   "cell_type": "code",
   "execution_count": null,
   "metadata": {},
   "outputs": [],
   "source": []
  },
  {
   "cell_type": "code",
   "execution_count": null,
   "metadata": {},
   "outputs": [],
   "source": []
  },
  {
   "cell_type": "code",
   "execution_count": null,
   "metadata": {},
   "outputs": [],
   "source": []
  },
  {
   "cell_type": "code",
   "execution_count": null,
   "metadata": {},
   "outputs": [],
   "source": []
  },
  {
   "cell_type": "code",
   "execution_count": null,
   "metadata": {},
   "outputs": [],
   "source": []
  },
  {
   "cell_type": "code",
   "execution_count": null,
   "metadata": {},
   "outputs": [],
   "source": []
  }
 ],
 "metadata": {
  "kernelspec": {
   "display_name": "Python 3",
   "language": "python",
   "name": "python3"
  },
  "language_info": {
   "codemirror_mode": {
    "name": "ipython",
    "version": 3
   },
   "file_extension": ".py",
   "mimetype": "text/x-python",
   "name": "python",
   "nbconvert_exporter": "python",
   "pygments_lexer": "ipython3",
   "version": "3.7.6"
  }
 },
 "nbformat": 4,
 "nbformat_minor": 2
}
